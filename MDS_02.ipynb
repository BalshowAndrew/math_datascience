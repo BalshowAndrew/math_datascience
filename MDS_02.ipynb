{
 "cells": [
  {
   "cell_type": "markdown",
   "metadata": {
    "ExecuteTime": {
     "end_time": "2022-02-26T18:44:30.624333Z",
     "start_time": "2022-02-26T18:44:30.605299Z"
    }
   },
   "source": [
    "<p style=\"align: center;\"><img align=center src=\"https://netology.ru/backend/tilda/images/tild3439-3364-4535-b334-656263633534__main.svg\"  width=900></p>\n",
    "<h1 style=\"text-align: center;\"><b>«Практическое занятие MDS»</b>\n"
   ]
  },
  {
   "cell_type": "markdown",
   "metadata": {},
   "source": [
    "## Векторы, матрицы и матричные разложения"
   ]
  },
  {
   "cell_type": "markdown",
   "metadata": {},
   "source": [
    "### Операции с векторами"
   ]
  },
  {
   "cell_type": "code",
   "execution_count": 1,
   "metadata": {},
   "outputs": [],
   "source": [
    "import numpy as np\n",
    "import pandas as pd\n",
    "import matplotlib.pyplot as plt\n",
    "from matplotlib import colors\n",
    "import seaborn as sns\n",
    "import math as mt\n",
    "from numpy import linalg as LA\n",
    "from mpl_toolkits.mplot3d import Axes3D\n",
    "from sklearn.datasets import fetch_olivetti_faces\n",
    "%matplotlib inline"
   ]
  },
  {
   "cell_type": "code",
   "execution_count": 2,
   "metadata": {},
   "outputs": [],
   "source": [
    "x=np.array([1,0]) # Исходный вектор\n",
    "theta = 30 * mt.pi / 180 # Градусы в радианах\n",
    "A = np.array([[np.cos(theta), -np.sin(theta)],[np.sin(theta), np.cos(theta)]]) # Матрица поворота\n",
    "B = np.array([[2.5,0],[0,1]]) # Матрица растяжения"
   ]
  },
  {
   "cell_type": "code",
   "execution_count": 3,
   "metadata": {},
   "outputs": [],
   "source": [
    "Ax = A @ x  # y1 - повренутый вектор\n",
    "Bx = B @ x  # y2 - вытянутыq вектор"
   ]
  },
  {
   "cell_type": "code",
   "execution_count": 4,
   "metadata": {},
   "outputs": [],
   "source": [
    "Bx = B @ A @ x"
   ]
  },
  {
   "cell_type": "code",
   "execution_count": 5,
   "metadata": {},
   "outputs": [
    {
     "data": {
      "image/png": "[encoded data removed]",
      "text/plain": [
       "<Figure size 1000x1500 with 2 Axes>"
      ]
     },
     "metadata": {},
     "output_type": "display_data"
    }
   ],
   "source": [
    "# Храним все векторы в одном массиве\n",
    "t1 = np.concatenate([x.reshape(1,2), Ax.reshape(1,2)])\n",
    "# Храним все векторы в одном массиве\n",
    "t2 = np.concatenate([x.reshape(1,2), Bx.reshape(1,2)])\n",
    "origin = [0], [0] # начало координат\n",
    "\n",
    "fig, (ax1, ax2) = plt.subplots(1, 2, figsize=(10,15))\n",
    "plt.subplots_adjust(wspace=0.4)\n",
    "\n",
    "# Plotting t1\n",
    "ax1.quiver(0, 0, t1[:,0][0], t1[:,1][0], color=['b', 'g'], width=0.013, angles='xy', scale_units='xy', scale=1)\n",
    "ax1.quiver(0, 0, t1[:,0][1], t1[:,1][1], color=['b', 'g'], width=0.013, angles='xy', scale_units='xy', scale=1)\n",
    "#ax1.quiver(*origin, t1[:,0], t1[:,1], color=['b', 'g'], width=0.013, angles='xy', scale_units='xy', scale=1)\n",
    "ax1.set_xlabel('x', fontsize=14)\n",
    "ax1.set_ylabel('y', fontsize=14)\n",
    "ax1.set_xlim([-0.5,1.5])\n",
    "ax1.set_ylim([-1.5,1])\n",
    "ax1.set_aspect('equal')\n",
    "ax1.grid(True)\n",
    "ax1.set_axisbelow(True)\n",
    "ax1.set_title(\"Поворот\")\n",
    "ax1.axhline(y=0, color='k')\n",
    "ax1.axvline(x=0, color='k')\n",
    "ax1.text(1, 0.1, \"$\\mathbf{x}$\", fontsize=16)\n",
    "ax1.text(0.8, 0.6, \"$\\mathbf{Ax}$\", fontsize=16)\n",
    "\n",
    "# Plotting t2\n",
    "ax2.quiver(0, 0, t2[:,0][0], t2[:,1][0], color=['b', 'g'], width=0.013, angles='xy', scale_units='xy', scale=1)\n",
    "ax2.quiver(0, 0, t2[:,0][1], t2[:,1][1], color=['b', 'g'], width=0.013, angles='xy', scale_units='xy', scale=1)\n",
    "#ax2.quiver(*origin, t2[:,0], t2[:,1], color=['b', 'g'], width=0.013, angles='xy', scale_units='xy', scale=1)\n",
    "ax2.set_xlabel('x', fontsize=14)\n",
    "ax2.set_ylabel('y', fontsize=14)\n",
    "ax2.set_xlim([-1.5,3.5])\n",
    "ax2.set_ylim([-1.5,1.5])\n",
    "ax2.set_aspect('equal')\n",
    "ax2.grid(True)\n",
    "ax2.set_axisbelow(True)\n",
    "ax2.set_title(\"Растяжение\")\n",
    "ax2.axhline(y=0, color='k')\n",
    "ax2.axvline(x=0, color='k')\n",
    "ax2.text(1, 0.2, \"$\\mathbf{x}$\", fontsize=16)\n",
    "ax2.text(3, 0.2, \"$\\mathbf{Bx}$\", fontsize=16)\n",
    "\n",
    "plt.show()"
   ]
  },
  {
   "cell_type": "markdown",
   "metadata": {},
   "source": [
    "### Специальные виды матриц"
   ]
  },
  {
   "cell_type": "markdown",
   "metadata": {},
   "source": [
    "#### Диагональная матрица"
   ]
  },
  {
   "cell_type": "code",
   "execution_count": 6,
   "metadata": {},
   "outputs": [
    {
     "data": {
      "text/plain": [
       "array([[2, 0, 0, 0],\n",
       "       [0, 4, 0, 0],\n",
       "       [0, 0, 3, 0],\n",
       "       [0, 0, 0, 1]])"
      ]
     },
     "execution_count": 6,
     "metadata": {},
     "output_type": "execute_result"
    }
   ],
   "source": [
    "v = np.array([2, 4, 3, 1])\n",
    "A = np.diag(v)\n",
    "A"
   ]
  },
  {
   "cell_type": "code",
   "execution_count": 7,
   "metadata": {},
   "outputs": [
    {
     "data": {
      "text/plain": [
       "array([[0.5       , 0.        , 0.        , 0.        ],\n",
       "       [0.        , 0.25      , 0.        , 0.        ],\n",
       "       [0.        , 0.        , 0.33333333, 0.        ],\n",
       "       [0.        , 0.        , 0.        , 1.        ]])"
      ]
     },
     "execution_count": 7,
     "metadata": {},
     "output_type": "execute_result"
    }
   ],
   "source": [
    "A_inv = np.array([[1/2., 0, 0, 0], [0, 1/4., 0, 0], [0, 0, 1/3., 0], [0, 0, 0, 1/1.]])\n",
    "A_inv"
   ]
  },
  {
   "cell_type": "code",
   "execution_count": 8,
   "metadata": {},
   "outputs": [
    {
     "data": {
      "text/plain": [
       "array([[1., 0., 0., 0.],\n",
       "       [0., 1., 0., 0.],\n",
       "       [0., 0., 1., 0.],\n",
       "       [0., 0., 0., 1.]])"
      ]
     },
     "execution_count": 8,
     "metadata": {},
     "output_type": "execute_result"
    }
   ],
   "source": [
    "A.dot(A_inv)"
   ]
  },
  {
   "cell_type": "markdown",
   "metadata": {},
   "source": [
    "#### Симметричная матрица"
   ]
  },
  {
   "cell_type": "code",
   "execution_count": 9,
   "metadata": {},
   "outputs": [
    {
     "data": {
      "text/plain": [
       "array([[ 2,  4, -1],\n",
       "       [ 4, -8,  0],\n",
       "       [-1,  0,  3]])"
      ]
     },
     "execution_count": 9,
     "metadata": {},
     "output_type": "execute_result"
    }
   ],
   "source": [
    "A = np.array([[2, 4, -1], [4, -8, 0], [-1, 0, 3]])\n",
    "A"
   ]
  },
  {
   "cell_type": "markdown",
   "metadata": {},
   "source": [
    "#### Ортогональная матрица"
   ]
  },
  {
   "cell_type": "code",
   "execution_count": 10,
   "metadata": {},
   "outputs": [
    {
     "data": {
      "image/png": "[encoded data removed]",
      "text/plain": [
       "<Figure size 600x600 with 1 Axes>"
      ]
     },
     "metadata": {},
     "output_type": "display_data"
    }
   ],
   "source": [
    "x = [0,0,2,2]\n",
    "y = [0,0,2,-2]\n",
    "\n",
    "plt.figure(figsize=(6, 6))\n",
    "plt.quiver([x[0], y[0]],\n",
    "           [x[1], y[1]],\n",
    "           [x[2], y[2]],\n",
    "           [x[3], y[3]],\n",
    "           angles='xy', scale_units='xy', scale=1)\n",
    "\n",
    "plt.xlim(-2, 4)\n",
    "plt.ylim(-3, 3)\n",
    "plt.axvline(x=0, color='grey')\n",
    "plt.axhline(y=0, color='grey')\n",
    "\n",
    "plt.text(1, 1.5, r'$\\vec{u}$', size=18)\n",
    "plt.text(1.5, -1, r'$\\vec{v}$', size=18)\n",
    "\n",
    "plt.show()\n",
    "plt.close()"
   ]
  },
  {
   "cell_type": "code",
   "execution_count": 11,
   "metadata": {},
   "outputs": [
    {
     "data": {
      "text/plain": [
       "array([[ 0.15425145,  0.98803162],\n",
       "       [-0.98803162,  0.15425145]])"
      ]
     },
     "execution_count": 11,
     "metadata": {},
     "output_type": "execute_result"
    }
   ],
   "source": [
    "A = np.array([[np.cos(30), -np.sin(30)], [np.sin(30), np.cos(30)]])\n",
    "A"
   ]
  },
  {
   "cell_type": "code",
   "execution_count": 12,
   "metadata": {},
   "outputs": [],
   "source": [
    "col0 = A[:, 0].reshape(A[:, 0].shape[0], 1)\n",
    "col1 = A[:, 1].reshape(A[:, 1].shape[0], 1)\n",
    "row0 = A[0, :].reshape(A[0, :].shape[0], 1)\n",
    "row1 = A[1, :].reshape(A[1, :].shape[0], 1)"
   ]
  },
  {
   "cell_type": "code",
   "execution_count": 13,
   "metadata": {},
   "outputs": [
    {
     "data": {
      "text/plain": [
       "array([[0.]])"
      ]
     },
     "execution_count": 13,
     "metadata": {},
     "output_type": "execute_result"
    }
   ],
   "source": [
    "col0.T.dot(col1)"
   ]
  },
  {
   "cell_type": "code",
   "execution_count": 14,
   "metadata": {},
   "outputs": [
    {
     "data": {
      "text/plain": [
       "array([[0.]])"
      ]
     },
     "execution_count": 14,
     "metadata": {},
     "output_type": "execute_result"
    }
   ],
   "source": [
    "row0.T.dot(row1)"
   ]
  },
  {
   "cell_type": "code",
   "execution_count": 15,
   "metadata": {},
   "outputs": [
    {
     "data": {
      "text/plain": [
       "array([[ 1.00000000e+00, -1.28317219e-17],\n",
       "       [-1.28317219e-17,  1.00000000e+00]])"
      ]
     },
     "execution_count": 15,
     "metadata": {},
     "output_type": "execute_result"
    }
   ],
   "source": [
    "A.T.dot(A)"
   ]
  },
  {
   "cell_type": "code",
   "execution_count": 16,
   "metadata": {},
   "outputs": [
    {
     "data": {
      "text/plain": [
       "array([[ 0.15425145, -0.98803162],\n",
       "       [ 0.98803162,  0.15425145]])"
      ]
     },
     "execution_count": 16,
     "metadata": {},
     "output_type": "execute_result"
    }
   ],
   "source": [
    "A.T"
   ]
  },
  {
   "cell_type": "code",
   "execution_count": 17,
   "metadata": {},
   "outputs": [
    {
     "data": {
      "text/plain": [
       "array([[ 0.15425145, -0.98803162],\n",
       "       [ 0.98803162,  0.15425145]])"
      ]
     },
     "execution_count": 17,
     "metadata": {},
     "output_type": "execute_result"
    }
   ],
   "source": [
    "np.linalg.inv(A)"
   ]
  },
  {
   "cell_type": "markdown",
   "metadata": {},
   "source": [
    "### Матричное преобразование в общем виде"
   ]
  },
  {
   "cell_type": "code",
   "execution_count": 18,
   "metadata": {},
   "outputs": [
    {
     "data": {
      "image/png": "[encoded data removed]",
      "text/plain": [
       "<Figure size 1000x1500 with 2 Axes>"
      ]
     },
     "metadata": {},
     "output_type": "display_data"
    }
   ],
   "source": [
    "# Единичная окружность\n",
    "xi1 = np.linspace(-1.0, 1.0, 100)\n",
    "xi2 = np.linspace(1.0, -1.0, 100)\n",
    "yi1 = np.sqrt(1 - xi1**2)\n",
    "yi2 = -np.sqrt(1 - xi2**2)\n",
    "\n",
    "xi = np.concatenate((xi1, xi2),axis=0)\n",
    "yi = np.concatenate((yi1, yi2),axis=0)\n",
    "x = np.vstack((xi, yi))\n",
    "\n",
    "# Несколько векторов\n",
    "x_sample1 = x[:, 65]\n",
    "x_sample2 = x[:, 100]\n",
    "\n",
    "A = np.array([[3, 2],\n",
    "              [0, 2]]) \n",
    "\n",
    "t = A @ x  # Преобразование\n",
    "\n",
    "t_sample1 = t[:, 65]\n",
    "t_sample2 = t[:, 100]\n",
    "fig, (ax1, ax2) = plt.subplots(1, 2, figsize=(10,15))\n",
    "\n",
    "plt.subplots_adjust(wspace=0.4)\n",
    "\n",
    "# График x\n",
    "ax1.plot(x[0,:], x[1,:], color='b')\n",
    "ax1.quiver(*origin, x_sample1[0], x_sample1[1], color=['b'], width=0.012, angles='xy', scale_units='xy', scale=1)\n",
    "ax1.quiver(*origin, x_sample2[0], x_sample2[1], color=['r'], width=0.012, angles='xy', scale_units='xy', scale=1)\n",
    "ax1.set_xlabel('x', fontsize=14)\n",
    "ax1.set_ylabel('y', fontsize=14)\n",
    "ax1.set_xlim([-4,4])\n",
    "ax1.set_ylim([-4,4])\n",
    "ax1.set_aspect('equal')\n",
    "ax1.grid(True)\n",
    "ax1.set_axisbelow(True)\n",
    "ax1.set_title(\"Исходные векторы\")\n",
    "ax1.axhline(y=0, color='k')\n",
    "ax1.axvline(x=0, color='k')\n",
    "ax1.text(0.3, 1.2, \"$\\mathbf{x_1}$\", color='b', fontsize=14)\n",
    "ax1.text(1.2, 0.2, \"$\\mathbf{x_2}$\", color='r', fontsize=14)\n",
    "\n",
    "# График t\n",
    "ax2.plot(t[0, :], t[1, :], color='b')\n",
    "ax2.quiver(*origin, t_sample1[0], t_sample1[1], color=['b'], width=0.012, angles='xy', scale_units='xy', scale=1)\n",
    "ax2.quiver(*origin, t_sample2[0], t_sample2[1], color=['r'], width=0.012, angles='xy', scale_units='xy', scale=1)\n",
    "\n",
    "ax2.set_xlabel('x', fontsize=14)\n",
    "ax2.set_ylabel('y', fontsize=14)\n",
    "ax2.set_xlim([-4,4])\n",
    "ax2.set_ylim([-4,4])\n",
    "ax2.set_aspect('equal')\n",
    "ax2.grid(True)\n",
    "ax2.set_axisbelow(True)\n",
    "ax2.set_title(\"Преобразованные векторы\")\n",
    "ax2.axhline(y=0, color='k')\n",
    "ax2.axvline(x=0, color='k')\n",
    "ax2.text(2.5, 2.3, \"$\\mathbf{t_1}$\", color='b', fontsize=14)\n",
    "ax2.text(2.6, 0.4, \"$\\mathbf{t_2}$\", color='r', fontsize=14)\n",
    "\n",
    "plt.show()"
   ]
  },
  {
   "cell_type": "markdown",
   "metadata": {},
   "source": [
    "### Собственные значения и собственные векторы"
   ]
  },
  {
   "cell_type": "code",
   "execution_count": 21,
   "metadata": {},
   "outputs": [
    {
     "name": "stdout",
     "output_type": "stream",
     "text": [
      "лямбды = [3. 2.]\n",
      "u = [[ 1.     -0.8944]\n",
      " [ 0.      0.4472]]\n"
     ]
    }
   ],
   "source": [
    "A = np.array([[3, 2],\n",
    "              [0, 2]]) \n",
    "lam, u = LA.eig(A)\n",
    "print(\"лямбды =\", np.round(lam, 4))\n",
    "print(\"u =\", np.round(u, 4))"
   ]
  },
  {
   "cell_type": "markdown",
   "metadata": {},
   "source": [
    "### Визуализация"
   ]
  },
  {
   "cell_type": "code",
   "execution_count": 24,
   "metadata": {},
   "outputs": [
    {
     "ename": "ValueError",
     "evalue": "Argument U has a size 2 which does not match 1, the number of arrow positions",
     "output_type": "error",
     "traceback": [
      "\u001b[0;31m---------------------------------------------------------------------------\u001b[0m",
      "\u001b[0;31mValueError\u001b[0m                                Traceback (most recent call last)",
      "Cell \u001b[0;32mIn[24], line 9\u001b[0m\n\u001b[1;32m      7\u001b[0m \u001b[38;5;66;03m# Plotting x\u001b[39;00m\n\u001b[1;32m      8\u001b[0m ax1\u001b[38;5;241m.\u001b[39mplot(x[\u001b[38;5;241m0\u001b[39m,:], x[\u001b[38;5;241m1\u001b[39m,:], color\u001b[38;5;241m=\u001b[39m\u001b[38;5;124m'\u001b[39m\u001b[38;5;124mb\u001b[39m\u001b[38;5;124m'\u001b[39m)\n\u001b[0;32m----> 9\u001b[0m \u001b[43max1\u001b[49m\u001b[38;5;241;43m.\u001b[39;49m\u001b[43mquiver\u001b[49m\u001b[43m(\u001b[49m\u001b[38;5;241;43m*\u001b[39;49m\u001b[43morigin\u001b[49m\u001b[43m,\u001b[49m\u001b[43m \u001b[49m\u001b[43mu\u001b[49m\u001b[43m[\u001b[49m\u001b[38;5;241;43m0\u001b[39;49m\u001b[43m]\u001b[49m\u001b[43m,\u001b[49m\u001b[43m \u001b[49m\u001b[43mu\u001b[49m\u001b[43m[\u001b[49m\u001b[38;5;241;43m1\u001b[39;49m\u001b[43m]\u001b[49m\u001b[43m,\u001b[49m\u001b[43m \u001b[49m\u001b[43mcolor\u001b[49m\u001b[38;5;241;43m=\u001b[39;49m\u001b[43m[\u001b[49m\u001b[38;5;124;43m'\u001b[39;49m\u001b[38;5;124;43mb\u001b[39;49m\u001b[38;5;124;43m'\u001b[39;49m\u001b[43m]\u001b[49m\u001b[43m,\u001b[49m\u001b[43m \u001b[49m\u001b[43mwidth\u001b[49m\u001b[38;5;241;43m=\u001b[39;49m\u001b[38;5;241;43m0.012\u001b[39;49m\u001b[43m,\u001b[49m\u001b[43m \u001b[49m\u001b[43mangles\u001b[49m\u001b[38;5;241;43m=\u001b[39;49m\u001b[38;5;124;43m'\u001b[39;49m\u001b[38;5;124;43mxy\u001b[39;49m\u001b[38;5;124;43m'\u001b[39;49m\u001b[43m,\u001b[49m\u001b[43m \u001b[49m\u001b[43mscale_units\u001b[49m\u001b[38;5;241;43m=\u001b[39;49m\u001b[38;5;124;43m'\u001b[39;49m\u001b[38;5;124;43mxy\u001b[39;49m\u001b[38;5;124;43m'\u001b[39;49m\u001b[43m,\u001b[49m\u001b[43m \u001b[49m\u001b[43mscale\u001b[49m\u001b[38;5;241;43m=\u001b[39;49m\u001b[38;5;241;43m1\u001b[39;49m\u001b[43m)\u001b[49m\n\u001b[1;32m     10\u001b[0m ax1\u001b[38;5;241m.\u001b[39mset_xlabel(\u001b[38;5;124m'\u001b[39m\u001b[38;5;124mx\u001b[39m\u001b[38;5;124m'\u001b[39m, fontsize\u001b[38;5;241m=\u001b[39m\u001b[38;5;241m14\u001b[39m)\n\u001b[1;32m     11\u001b[0m ax1\u001b[38;5;241m.\u001b[39mset_ylabel(\u001b[38;5;124m'\u001b[39m\u001b[38;5;124my\u001b[39m\u001b[38;5;124m'\u001b[39m, fontsize\u001b[38;5;241m=\u001b[39m\u001b[38;5;241m14\u001b[39m)\n",
      "File \u001b[0;32m/usr/lib64/python3.11/site-packages/matplotlib/__init__.py:1449\u001b[0m, in \u001b[0;36m_preprocess_data.<locals>.inner\u001b[0;34m(ax, data, *args, **kwargs)\u001b[0m\n\u001b[1;32m   1446\u001b[0m \u001b[38;5;129m@functools\u001b[39m\u001b[38;5;241m.\u001b[39mwraps(func)\n\u001b[1;32m   1447\u001b[0m \u001b[38;5;28;01mdef\u001b[39;00m \u001b[38;5;21minner\u001b[39m(ax, \u001b[38;5;241m*\u001b[39margs, data\u001b[38;5;241m=\u001b[39m\u001b[38;5;28;01mNone\u001b[39;00m, \u001b[38;5;241m*\u001b[39m\u001b[38;5;241m*\u001b[39mkwargs):\n\u001b[1;32m   1448\u001b[0m     \u001b[38;5;28;01mif\u001b[39;00m data \u001b[38;5;129;01mis\u001b[39;00m \u001b[38;5;28;01mNone\u001b[39;00m:\n\u001b[0;32m-> 1449\u001b[0m         \u001b[38;5;28;01mreturn\u001b[39;00m \u001b[43mfunc\u001b[49m\u001b[43m(\u001b[49m\u001b[43max\u001b[49m\u001b[43m,\u001b[49m\u001b[43m \u001b[49m\u001b[38;5;241;43m*\u001b[39;49m\u001b[38;5;28;43mmap\u001b[39;49m\u001b[43m(\u001b[49m\u001b[43msanitize_sequence\u001b[49m\u001b[43m,\u001b[49m\u001b[43m \u001b[49m\u001b[43margs\u001b[49m\u001b[43m)\u001b[49m\u001b[43m,\u001b[49m\u001b[43m \u001b[49m\u001b[38;5;241;43m*\u001b[39;49m\u001b[38;5;241;43m*\u001b[39;49m\u001b[43mkwargs\u001b[49m\u001b[43m)\u001b[49m\n\u001b[1;32m   1451\u001b[0m     bound \u001b[38;5;241m=\u001b[39m new_sig\u001b[38;5;241m.\u001b[39mbind(ax, \u001b[38;5;241m*\u001b[39margs, \u001b[38;5;241m*\u001b[39m\u001b[38;5;241m*\u001b[39mkwargs)\n\u001b[1;32m   1452\u001b[0m     auto_label \u001b[38;5;241m=\u001b[39m (bound\u001b[38;5;241m.\u001b[39marguments\u001b[38;5;241m.\u001b[39mget(label_namer)\n\u001b[1;32m   1453\u001b[0m                   \u001b[38;5;129;01mor\u001b[39;00m bound\u001b[38;5;241m.\u001b[39mkwargs\u001b[38;5;241m.\u001b[39mget(label_namer))\n",
      "File \u001b[0;32m/usr/lib64/python3.11/site-packages/matplotlib/axes/_axes.py:5161\u001b[0m, in \u001b[0;36mAxes.quiver\u001b[0;34m(self, *args, **kwargs)\u001b[0m\n\u001b[1;32m   5159\u001b[0m \u001b[38;5;66;03m# Make sure units are handled for x and y values\u001b[39;00m\n\u001b[1;32m   5160\u001b[0m args \u001b[38;5;241m=\u001b[39m \u001b[38;5;28mself\u001b[39m\u001b[38;5;241m.\u001b[39m_quiver_units(args, kwargs)\n\u001b[0;32m-> 5161\u001b[0m q \u001b[38;5;241m=\u001b[39m \u001b[43mmquiver\u001b[49m\u001b[38;5;241;43m.\u001b[39;49m\u001b[43mQuiver\u001b[49m\u001b[43m(\u001b[49m\u001b[38;5;28;43mself\u001b[39;49m\u001b[43m,\u001b[49m\u001b[43m \u001b[49m\u001b[38;5;241;43m*\u001b[39;49m\u001b[43margs\u001b[49m\u001b[43m,\u001b[49m\u001b[43m \u001b[49m\u001b[38;5;241;43m*\u001b[39;49m\u001b[38;5;241;43m*\u001b[39;49m\u001b[43mkwargs\u001b[49m\u001b[43m)\u001b[49m\n\u001b[1;32m   5162\u001b[0m \u001b[38;5;28mself\u001b[39m\u001b[38;5;241m.\u001b[39madd_collection(q, autolim\u001b[38;5;241m=\u001b[39m\u001b[38;5;28;01mTrue\u001b[39;00m)\n\u001b[1;32m   5163\u001b[0m \u001b[38;5;28mself\u001b[39m\u001b[38;5;241m.\u001b[39m_request_autoscale_view()\n",
      "File \u001b[0;32m/usr/lib64/python3.11/site-packages/matplotlib/quiver.py:505\u001b[0m, in \u001b[0;36mQuiver.__init__\u001b[0;34m(self, ax, scale, headwidth, headlength, headaxislength, minshaft, minlength, units, scale_units, angles, width, color, pivot, *args, **kwargs)\u001b[0m\n\u001b[1;32m    502\u001b[0m \u001b[38;5;28msuper\u001b[39m()\u001b[38;5;241m.\u001b[39m\u001b[38;5;21m__init__\u001b[39m([], offsets\u001b[38;5;241m=\u001b[39m\u001b[38;5;28mself\u001b[39m\u001b[38;5;241m.\u001b[39mXY, offset_transform\u001b[38;5;241m=\u001b[39m\u001b[38;5;28mself\u001b[39m\u001b[38;5;241m.\u001b[39mtransform,\n\u001b[1;32m    503\u001b[0m                  closed\u001b[38;5;241m=\u001b[39m\u001b[38;5;28;01mFalse\u001b[39;00m, \u001b[38;5;241m*\u001b[39m\u001b[38;5;241m*\u001b[39mkwargs)\n\u001b[1;32m    504\u001b[0m \u001b[38;5;28mself\u001b[39m\u001b[38;5;241m.\u001b[39mpolykw \u001b[38;5;241m=\u001b[39m kwargs\n\u001b[0;32m--> 505\u001b[0m \u001b[38;5;28;43mself\u001b[39;49m\u001b[38;5;241;43m.\u001b[39;49m\u001b[43mset_UVC\u001b[49m\u001b[43m(\u001b[49m\u001b[43mU\u001b[49m\u001b[43m,\u001b[49m\u001b[43m \u001b[49m\u001b[43mV\u001b[49m\u001b[43m,\u001b[49m\u001b[43m \u001b[49m\u001b[43mC\u001b[49m\u001b[43m)\u001b[49m\n\u001b[1;32m    506\u001b[0m \u001b[38;5;28mself\u001b[39m\u001b[38;5;241m.\u001b[39m_dpi_at_last_init \u001b[38;5;241m=\u001b[39m \u001b[38;5;28;01mNone\u001b[39;00m\n",
      "File \u001b[0;32m/usr/lib64/python3.11/site-packages/matplotlib/quiver.py:555\u001b[0m, in \u001b[0;36mQuiver.set_UVC\u001b[0;34m(self, U, V, C)\u001b[0m\n\u001b[1;32m    553\u001b[0m \u001b[38;5;28;01mfor\u001b[39;00m name, var \u001b[38;5;129;01min\u001b[39;00m \u001b[38;5;28mzip\u001b[39m((\u001b[38;5;124m'\u001b[39m\u001b[38;5;124mU\u001b[39m\u001b[38;5;124m'\u001b[39m, \u001b[38;5;124m'\u001b[39m\u001b[38;5;124mV\u001b[39m\u001b[38;5;124m'\u001b[39m, \u001b[38;5;124m'\u001b[39m\u001b[38;5;124mC\u001b[39m\u001b[38;5;124m'\u001b[39m), (U, V, C)):\n\u001b[1;32m    554\u001b[0m     \u001b[38;5;28;01mif\u001b[39;00m \u001b[38;5;129;01mnot\u001b[39;00m (var \u001b[38;5;129;01mis\u001b[39;00m \u001b[38;5;28;01mNone\u001b[39;00m \u001b[38;5;129;01mor\u001b[39;00m var\u001b[38;5;241m.\u001b[39msize \u001b[38;5;241m==\u001b[39m \u001b[38;5;28mself\u001b[39m\u001b[38;5;241m.\u001b[39mN \u001b[38;5;129;01mor\u001b[39;00m var\u001b[38;5;241m.\u001b[39msize \u001b[38;5;241m==\u001b[39m \u001b[38;5;241m1\u001b[39m):\n\u001b[0;32m--> 555\u001b[0m         \u001b[38;5;28;01mraise\u001b[39;00m \u001b[38;5;167;01mValueError\u001b[39;00m(\u001b[38;5;124mf\u001b[39m\u001b[38;5;124m'\u001b[39m\u001b[38;5;124mArgument \u001b[39m\u001b[38;5;132;01m{\u001b[39;00mname\u001b[38;5;132;01m}\u001b[39;00m\u001b[38;5;124m has a size \u001b[39m\u001b[38;5;132;01m{\u001b[39;00mvar\u001b[38;5;241m.\u001b[39msize\u001b[38;5;132;01m}\u001b[39;00m\u001b[38;5;124m'\u001b[39m\n\u001b[1;32m    556\u001b[0m                          \u001b[38;5;124mf\u001b[39m\u001b[38;5;124m'\u001b[39m\u001b[38;5;124m which does not match \u001b[39m\u001b[38;5;132;01m{\u001b[39;00m\u001b[38;5;28mself\u001b[39m\u001b[38;5;241m.\u001b[39mN\u001b[38;5;132;01m}\u001b[39;00m\u001b[38;5;124m,\u001b[39m\u001b[38;5;124m'\u001b[39m\n\u001b[1;32m    557\u001b[0m                          \u001b[38;5;124m'\u001b[39m\u001b[38;5;124m the number of arrow positions\u001b[39m\u001b[38;5;124m'\u001b[39m)\n\u001b[1;32m    559\u001b[0m mask \u001b[38;5;241m=\u001b[39m ma\u001b[38;5;241m.\u001b[39mmask_or(U\u001b[38;5;241m.\u001b[39mmask, V\u001b[38;5;241m.\u001b[39mmask, copy\u001b[38;5;241m=\u001b[39m\u001b[38;5;28;01mFalse\u001b[39;00m, shrink\u001b[38;5;241m=\u001b[39m\u001b[38;5;28;01mTrue\u001b[39;00m)\n\u001b[1;32m    560\u001b[0m \u001b[38;5;28;01mif\u001b[39;00m C \u001b[38;5;129;01mis\u001b[39;00m \u001b[38;5;129;01mnot\u001b[39;00m \u001b[38;5;28;01mNone\u001b[39;00m:\n",
      "\u001b[0;31mValueError\u001b[0m: Argument U has a size 2 which does not match 1, the number of arrow positions"
     ]
    },
    {
     "data": {
      "image/png": "[encoded data removed]",
      "text/plain": [
       "<Figure size 1000x1500 with 2 Axes>"
      ]
     },
     "metadata": {},
     "output_type": "display_data"
    }
   ],
   "source": [
    "t = A @ x   # Умножение на матрицу\n",
    "\n",
    "fig, (ax1, ax2) = plt.subplots(1, 2, figsize=(10,15))\n",
    "\n",
    "plt.subplots_adjust(wspace=0.4)\n",
    "\n",
    "# Plotting x\n",
    "ax1.plot(x[0,:], x[1,:], color='b')\n",
    "ax1.quiver(*origin, u[0], u[1], color=['b'], width=0.012, angles='xy', scale_units='xy', scale=1)\n",
    "ax1.set_xlabel('x', fontsize=14)\n",
    "ax1.set_ylabel('y', fontsize=14)\n",
    "ax1.set_xlim([-4,4])\n",
    "ax1.set_ylim([-4,4])\n",
    "ax1.set_aspect('equal')\n",
    "ax1.grid(True)\n",
    "ax1.set_title(\"Исходные векторы\")\n",
    "ax1.axhline(y=0, color='k')\n",
    "ax1.axvline(x=0, color='k')\n",
    "ax1.text(1, 0.3, \"$\\mathbf{u_1}$\", fontsize=14)\n",
    "ax1.text(-1.6, 0.5, \"$\\mathbf{u_2}$\", fontsize=14)\n",
    "ax1.text(0.3, 1.3, \"$\\mathbf{x}$\", color='b', fontsize=14)\n",
    "\n",
    "# Plotting t\n",
    "ax2.plot(t[0, :], t[1, :], color='b')\n",
    "ax2.quiver(*origin, u[0,:], u[1,:], color=['b'], width=0.012, angles='xy', scale_units='xy', scale=1)\n",
    "ax2.set_xlabel('x', fontsize=14)\n",
    "ax2.set_ylabel('y', fontsize=14)\n",
    "ax2.set_xlim([-4,4])\n",
    "ax2.set_ylim([-4,4])\n",
    "ax2.set_aspect('equal')\n",
    "ax2.grid(True)\n",
    "ax2.set_title(\"Преобразованные векторы\")\n",
    "ax2.axhline(y=0, color='k')\n",
    "ax2.axvline(x=0, color='k')\n",
    "ax2.text(1, 0.3, \"$\\mathbf{u_1}$\", fontsize=14)\n",
    "ax2.text(-1.6, 0.5, \"$\\mathbf{u_2}$\", fontsize=14)\n",
    "ax2.text(2, 2.3, \"$\\mathbf{Ax}$\", color='b', fontsize=14)\n",
    "\n",
    "plt.show()"
   ]
  },
  {
   "cell_type": "markdown",
   "metadata": {},
   "source": [
    "### Симметричная матрица"
   ]
  },
  {
   "cell_type": "code",
   "execution_count": null,
   "metadata": {},
   "outputs": [],
   "source": [
    "A = np.array([[3, 1],\n",
    "              [1, 2]]) \n",
    "\n",
    "#A = np.array([[3, 1],\n",
    "#              [1, 0.8]]) \n",
    "\n",
    "lam, u = LA.eig(A)\n",
    "print(\"lam=\", np.round(lam, 4))\n",
    "print(\"u=\", np.round(u, 4))\n",
    "\n",
    "t = A @ x\n",
    "\n",
    "fig, (ax1, ax2) = plt.subplots(1, 2, figsize=(10,15))\n",
    "\n",
    "plt.subplots_adjust(wspace=0.4)\n",
    "\n",
    "# Plotting x\n",
    "ax1.plot(x[0,:], x[1,:], color='b')\n",
    "ax1.quiver(*origin, u[0,:], u[1,:], color=['b'], width=0.012, angles='xy', scale_units='xy', scale=1)\n",
    "ax1.set_xlabel('x', fontsize=14)\n",
    "ax1.set_ylabel('y', fontsize=14)\n",
    "ax1.set_xlim([-4,4])\n",
    "ax1.set_ylim([-4,4])\n",
    "ax1.set_aspect('equal')\n",
    "ax1.grid(True)\n",
    "ax1.set_title(\"Исходные векторы\")\n",
    "ax1.axhline(y=0, color='k')\n",
    "ax1.axvline(x=0, color='k')\n",
    "ax1.text(1, 0.7, \"$\\mathbf{u_1}$\", fontsize=14)\n",
    "ax1.text(-1.2, 1.1, \"$\\mathbf{u_2}$\", fontsize=14)\n",
    "ax1.text(0.8, -1.1, \"$\\mathbf{x}$\", color='b', fontsize=14)\n",
    "\n",
    "# Plotting t\n",
    "ax2.plot(t[0, :], t[1, :], color='b')\n",
    "ax2.quiver(*origin, lam[0] * u[0,0], lam[0] * u[1,0], color=['r'], width=0.012, angles='xy', scale_units='xy', scale=1)\n",
    "ax2.quiver(*origin, lam[1] * u[0,1], lam[1] * u[1,1], color=['r'], width=0.012, angles='xy', scale_units='xy', scale=1)\n",
    "ax2.quiver(*origin, u[0,:], u[1,:], color=['b'], width=0.012, angles='xy', scale_units='xy', scale=1)\n",
    "ax2.set_xlabel('x', fontsize=14)\n",
    "ax2.set_ylabel('y', fontsize=14)\n",
    "ax2.set_xlim([-4,4])\n",
    "ax2.set_ylim([-4,4])\n",
    "ax2.set_aspect('equal')\n",
    "ax2.grid(True)\n",
    "ax2.set_title(\"Преобразованные векторы\")\n",
    "ax2.axhline(y=0, color='k')\n",
    "ax2.axvline(x=0, color='k')\n",
    "ax2.text(0.2, 0.8, \"$\\mathbf{u_1}$\", fontsize=14)\n",
    "ax2.text(-1.2, 0.3, \"$\\mathbf{u_2}$\", fontsize=14)\n",
    "ax2.text(2.8, 2.3, \"$\\lambda_1\\mathbf{u_1}$\", fontsize=14)\n",
    "ax2.text(-1.7, 1.5, \"$\\lambda_2\\mathbf{u_2}$\", fontsize=14)\n",
    "ax2.text(0.9, -1.5, \"$\\mathbf{Ax}$\", color='b', fontsize=14)\n",
    "\n",
    "plt.show()"
   ]
  },
  {
   "cell_type": "markdown",
   "metadata": {},
   "source": [
    "### PCA своими руками"
   ]
  },
  {
   "cell_type": "code",
   "execution_count": null,
   "metadata": {},
   "outputs": [],
   "source": [
    "np.random.seed(123)\n",
    "x = 5*np.random.rand(100)\n",
    "y = 2*x + 1 + np.random.randn(100)\n",
    "\n",
    "x = x.reshape(100, 1)\n",
    "y = y.reshape(100, 1)\n",
    "\n",
    "X = np.hstack([x, y])\n",
    "X.shape"
   ]
  },
  {
   "cell_type": "code",
   "execution_count": null,
   "metadata": {},
   "outputs": [],
   "source": [
    "plt.figure(figsize=(6, 6))\n",
    "plt.plot(X[:,0], X[:,1], '*')\n",
    "plt.show()"
   ]
  },
  {
   "cell_type": "code",
   "execution_count": null,
   "metadata": {},
   "outputs": [],
   "source": [
    "def centerData(X):\n",
    "    X = X.copy()\n",
    "    X -= np.mean(X, axis = 0)\n",
    "    return X"
   ]
  },
  {
   "cell_type": "code",
   "execution_count": null,
   "metadata": {},
   "outputs": [],
   "source": [
    "X_centered = centerData(X)\n",
    "plt.figure(figsize=(6, 6))\n",
    "plt.plot(X_centered[:,0], X_centered[:,1], '*')\n",
    "plt.show()"
   ]
  },
  {
   "cell_type": "code",
   "execution_count": null,
   "metadata": {},
   "outputs": [],
   "source": [
    "X_centered.T.dot(X_centered)"
   ]
  },
  {
   "cell_type": "code",
   "execution_count": null,
   "metadata": {},
   "outputs": [],
   "source": [
    "eigVals, eigVecs = np.linalg.eig(X_centered.T.dot(X_centered))\n",
    "eigVecs"
   ]
  },
  {
   "cell_type": "code",
   "execution_count": null,
   "metadata": {},
   "outputs": [],
   "source": [
    "eigVals"
   ]
  },
  {
   "cell_type": "code",
   "execution_count": null,
   "metadata": {},
   "outputs": [],
   "source": [
    "def plotVectors(vecs, cols, alpha=1):\n",
    "    \"\"\"\n",
    "    Plot set of vectors\n",
    "    \"\"\"\n",
    "    plt.figure(figsize=(6, 6))\n",
    "    plt.axvline(x=0, color='#A9A9A9', zorder=0)\n",
    "    plt.axhline(y=0, color='#A9A9A9', zorder=0)\n",
    "\n",
    "    for i in range(len(vecs)):\n",
    "        x = np.concatenate([[0,0],vecs[i]])\n",
    "        plt.quiver([x[0]],\n",
    "                   [x[1]],\n",
    "                   [x[2]],\n",
    "                   [x[3]],\n",
    "                   angles='xy', scale_units='xy', scale=1, color=cols[i],\n",
    "                   alpha=alpha)"
   ]
  },
  {
   "cell_type": "code",
   "execution_count": null,
   "metadata": {},
   "outputs": [],
   "source": [
    "orange = '#FF9A13'\n",
    "blue = '#1190FF'\n",
    "plotVectors(eigVecs.T, [orange, blue])\n",
    "plt.plot(X_centered[:,0], X_centered[:,1], '*')\n",
    "plt.xlim(-3, 3)\n",
    "plt.ylim(-3, 3)\n",
    "plt.show()"
   ]
  },
  {
   "cell_type": "code",
   "execution_count": null,
   "metadata": {},
   "outputs": [],
   "source": [
    "eigVals"
   ]
  },
  {
   "cell_type": "code",
   "execution_count": null,
   "metadata": {},
   "outputs": [],
   "source": [
    "eigVecs"
   ]
  },
  {
   "cell_type": "code",
   "execution_count": null,
   "metadata": {},
   "outputs": [],
   "source": [
    "X_new = eigVecs.T.dot(X_centered.T)\n",
    "\n",
    "plt.figure(figsize=(6, 6))\n",
    "plt.plot(eigVecs.T.dot(X_centered.T)[0, :], eigVecs.T.dot(X_centered.T)[1, :], '*')\n",
    "plt.xlim(-5, 5)\n",
    "plt.ylim(-5, 5)\n",
    "plt.show()"
   ]
  },
  {
   "cell_type": "markdown",
   "metadata": {},
   "source": [
    "### Смена координат векторов"
   ]
  },
  {
   "cell_type": "code",
   "execution_count": null,
   "metadata": {},
   "outputs": [],
   "source": [
    "# Базис\n",
    "v_1 = np.array([[1],[0]])\n",
    "v_2 = np.array([[-1/mt.sqrt(2)],[1/mt.sqrt(2)]])\n",
    "\n",
    "#v_1 = np.array([[2],[0]])\n",
    "#v_2 = np.array([[1],[1]])\n",
    "\n",
    "# Матрица смены координат\n",
    "p = np.concatenate([v_1, v_2], axis=1)\n",
    "p_inv = np.linalg.inv(p) \n",
    "\n",
    "# Исходные координаты x в R^2\n",
    "x=np.array([[2], [2]])\n",
    "\n",
    "# Новые координаты в базисе B\n",
    "x_B = p_inv @ x\n",
    "\n",
    "print(\"x_B=\", np.round(x_B, 2))\n",
    "\n",
    "fig, (ax1, ax2) = plt.subplots(1, 2, figsize=(10,15))\n",
    "\n",
    "plt.subplots_adjust(wspace=0.4)\n",
    "\n",
    "# Plotting x in R2\n",
    "ax1.quiver(*origin, x[0], x[1], color=['r'], width=0.01, angles='xy', scale_units='xy', scale=1)\n",
    "ax1.quiver(*origin, 1, 0, color=['b'], width=0.01, angles='xy', scale_units='xy', scale=1)\n",
    "ax1.quiver(*origin, 0, 1, color=['b'], width=0.01, angles='xy', scale_units='xy', scale=1)\n",
    "\n",
    "ax1.set_xlim([-5,6])\n",
    "ax1.set_ylim([-3,4])\n",
    "ax1.set_aspect('equal')\n",
    "ax1.grid(True)\n",
    "ax1.set_title(\"Координаты $\\mathbf{x}$ в $\\mathbf{R^2}$\")\n",
    "ax1.axhline(y=0, color='k')\n",
    "ax1.axvline(x=0, color='k')\n",
    "ax1.text(x[0]+0.2, x[1]+0.2, \"$\\mathbf{x}$\", fontsize=12)\n",
    "ax1.text(1, -0.8, \"$\\mathbf{i}$\", fontsize=12)\n",
    "ax1.text(-0.6, 1, \"$\\mathbf{j}$\", fontsize=12)\n",
    "ax1.axvline(x=x[0], color='grey', linestyle='--')\n",
    "ax1.axhline(y=x[1], color='grey', linestyle='--')\n",
    "\n",
    "# Plotting x in B\n",
    "# Plotting the grid\n",
    "multipliers = np.linspace(-10,10,100)\n",
    "\n",
    "for i in range(-6,7,4):\n",
    "    for j in range(-6,7,1):\n",
    "        grid_1 = (v_1 * multipliers) + np.array([[i],[j]])\n",
    "        grid_2 = (v_2 * multipliers) + np.array([[i],[j]])\n",
    "        ax2.plot(grid_1[0], grid_1[1], color='grey', linewidth=0.2)\n",
    "        ax2.plot(grid_2[0], grid_2[1], color='grey', linewidth=0.2)\n",
    "        \n",
    "# Plotting the vector guide\n",
    "vector_guide_1 = (v_1 * multipliers) + x\n",
    "vector_guide_2 = (v_2 * multipliers) + x\n",
    "ax2.plot(vector_guide_1[0], vector_guide_1[1], color='grey', linewidth=1.5, linestyle='--')\n",
    "ax2.plot(vector_guide_2[0], vector_guide_2[1], color='grey', linewidth=1.5, linestyle='--')\n",
    "\n",
    "# Plotting the axis\n",
    "vector_guide_1 = (v_1 * multipliers) + np.array([[0],[0]])\n",
    "vector_guide_2 = (v_2 * multipliers) + np.array([[0],[0]])\n",
    "ax2.plot(vector_guide_1[0], vector_guide_1[1], color='black', linewidth=1.2)\n",
    "ax2.plot(vector_guide_2[0], vector_guide_2[1], color='black', linewidth=1.2)\n",
    "\n",
    "ax2.quiver(*origin, x[0], x[1], color=['r'], width=0.01, angles='xy', scale_units='xy', scale=1)\n",
    "ax2.quiver(*origin, v_1[0], v_1[1], color=['b'], width=0.01, angles='xy', scale_units='xy', scale=1)\n",
    "ax2.quiver(*origin, v_2[0], v_2[1], color=['b'], width=0.01, angles='xy', scale_units='xy', scale=1)\n",
    "\n",
    "ax2.set_xlim([-5,6])\n",
    "ax2.set_ylim([-3,4])\n",
    "ax2.set_aspect('equal')\n",
    "\n",
    "ax2.set_title(\"Координаты $\\mathbf{x}$ в $\\mathit{B}$\")\n",
    "ax2.axhline(y=0, color='k', linewidth=0.5)\n",
    "ax2.axvline(x=0, color='k', linewidth=0.5)\n",
    "ax2.text(x[0]+0.2, x[1]+0.2, \"$\\mathbf{x}$\", fontsize=12)\n",
    "ax2.text(1, 0.2, \"$\\mathbf{u_1}$\", fontsize=12)\n",
    "ax2.text(-0.7, 0.8, \"$\\mathbf{u_2}$\", fontsize=12)\n",
    "\n",
    "plt.show()"
   ]
  },
  {
   "cell_type": "markdown",
   "metadata": {},
   "source": [
    "### Спектральное разложение"
   ]
  },
  {
   "cell_type": "code",
   "execution_count": null,
   "metadata": {},
   "outputs": [],
   "source": [
    "A = np.array([[3, 1],\n",
    "              [1, 2]])   \n",
    "lam, u = LA.eig(A)"
   ]
  },
  {
   "cell_type": "code",
   "execution_count": null,
   "metadata": {},
   "outputs": [],
   "source": [
    "lam"
   ]
  },
  {
   "cell_type": "code",
   "execution_count": null,
   "metadata": {},
   "outputs": [],
   "source": [
    "u"
   ]
  },
  {
   "cell_type": "code",
   "execution_count": null,
   "metadata": {},
   "outputs": [],
   "source": [
    "u1= u[:,0].reshape(2,1)\n",
    "lam1 = lam[0]\n",
    "# A_1 = lambda_1 * u1 * u1^T\n",
    "A_1 = lam1 * (u1 @ u1.T)\n",
    "u2= u[:,1].reshape(2,1)\n",
    "lam2 = lam[1]\n",
    "# A_2 = lambda_2 * u2 * u2^T\n",
    "A_2 = lam2 * (u2 @ u2.T)\n",
    "print(\"A_1=\", np.round(A_1, 4))\n",
    "print(\"A_2=\", np.round(A_2, 4))"
   ]
  },
  {
   "cell_type": "code",
   "execution_count": null,
   "metadata": {},
   "outputs": [],
   "source": [
    "A_1 + A_2"
   ]
  },
  {
   "cell_type": "code",
   "execution_count": null,
   "metadata": {},
   "outputs": [],
   "source": [
    "lam_A_1, u_A_1 = LA.eig(A_2)\n",
    "print(\"lam=\", np.round(lam_A_1, 4))\n",
    "print(\"u=\", np.round(u_A_1, 4))"
   ]
  },
  {
   "cell_type": "code",
   "execution_count": null,
   "metadata": {},
   "outputs": [],
   "source": [
    "# Creating the vectors for a circle and storing them in x\n",
    "xi1 = np.linspace(-1.0, 1.0, 100)\n",
    "xi2 = np.linspace(1.0, -1.0, 100)\n",
    "yi1 = np.sqrt(1 - xi1**2)\n",
    "yi2 = -np.sqrt(1 - xi2**2)\n",
    "\n",
    "xi = np.concatenate((xi1, xi2),axis=0)\n",
    "yi = np.concatenate((yi1, yi2),axis=0)\n",
    "x = np.vstack((xi, yi))\n",
    "\n",
    "t = A_1 @ x  # Vectors in t are the transformed vectors of x\n",
    "\n",
    "# getting the transformed sample of x from t\n",
    "t_sample = t[:, 100]\n",
    "\n",
    "fig, (ax1, ax2) = plt.subplots(1, 2, figsize=(10,15))\n",
    "\n",
    "plt.subplots_adjust(wspace=0.4)\n",
    "\n",
    "# Plotting s\n",
    "ax1.plot(x[0,:], x[1,:], color='b')\n",
    "ax1.set_xlabel('x', fontsize=14)\n",
    "ax1.set_ylabel('y', fontsize=14)\n",
    "ax1.set_xlim([-4,4])\n",
    "ax1.set_ylim([-4,4])\n",
    "ax1.set_aspect('equal')\n",
    "ax1.grid(True)\n",
    "ax1.set_title(\"Исходные векторы\")\n",
    "ax1.axhline(y=0, color='k')\n",
    "ax1.axvline(x=0, color='k')\n",
    "ax1.text(0.8, 0.8, \"$\\mathbf{x}$\", fontsize=14)\n",
    "\n",
    "# Plotting t\n",
    "ax2.plot(t[0, :], t[1, :], color='r')\n",
    "ax2.quiver(*origin, u[0,:], u[1,:], color=['b'], width=0.012, angles='xy', scale_units='xy', scale=1)\n",
    "ax2.set_xlabel('x', fontsize=14)\n",
    "ax2.set_ylabel('y', fontsize=14)\n",
    "ax2.set_xlim([-4,4])\n",
    "ax2.set_ylim([-4,4])\n",
    "ax2.set_aspect('equal')\n",
    "ax2.grid(True)\n",
    "ax2.set_title(\"Преобразованные векторы\")\n",
    "ax2.axhline(y=0, color='k')\n",
    "ax2.axvline(x=0, color='k')\n",
    "ax2.text(0.4, 0.8, \"$\\mathbf{u_1}$\", fontsize=14)\n",
    "ax2.text(-1.2, 0.5, \"$\\mathbf{u_2}$\", fontsize=14)\n",
    "ax2.text(1.6, 2.3, \"$\\lambda_1\\mathbf{u_1}\\mathbf{u_1}^T\\mathbf{x}$\", fontsize=14)\n",
    "\n",
    "plt.show()"
   ]
  },
  {
   "cell_type": "code",
   "execution_count": null,
   "metadata": {},
   "outputs": [],
   "source": [
    "B = np.array([[3, 2],\n",
    "              [0, 2]]) \n",
    "lam, u = LA.eig(B)\n",
    "\n",
    "print(\"lam=\", np.round(lam, 4))\n",
    "print(\"u=\", np.round(u, 4))"
   ]
  },
  {
   "cell_type": "code",
   "execution_count": null,
   "metadata": {},
   "outputs": [],
   "source": [
    "A = np.array([[3, 2],\n",
    "              [0, 2]]) \n",
    "lam_A, u_A = LA.eig(A)\n",
    "\n",
    "A2 = A.T @ A\n",
    "\n",
    "lam_A2, u_A2 = LA.eig(A2)\n",
    "\n",
    "t = A @ x   # Vectors in t are the transformed vectors of x\n",
    "t1 = A2 @ x  # Vectors of A.A\n",
    "Av = A @ u_A2  # Vectors Avi\n",
    "\n",
    "fig, (ax2) = plt.subplots(1, 1, figsize=(5,10))\n",
    "\n",
    "# Plotting Ax\n",
    "ax2.plot(t[0, :], t[1, :], color='b')\n",
    "ax2.quiver(*origin, Av[0,:], Av[1,:], color=['black'], width=0.012, angles='xy', scale_units='xy', scale=1)\n",
    "ax2.quiver(*origin, u_A2[0,:], u_A2[1,:], color=['r'], width=0.012, angles='xy', scale_units='xy', scale=1)\n",
    "ax2.set_xlabel('x', fontsize=14)\n",
    "ax2.set_ylabel('y', fontsize=14)\n",
    "ax2.set_xlim([-4,4])\n",
    "ax2.set_ylim([-4,4])\n",
    "ax2.set_aspect('equal')\n",
    "ax2.grid(True)\n",
    "ax2.set_axisbelow(True)\n",
    "ax2.axhline(y=0, color='k')\n",
    "ax2.axvline(x=0, color='k')\n",
    "ax2.text(1.7, 2.3, \"$\\mathbf{Ax}$\", color=\"b\", fontsize=12)\n",
    "ax2.text(0.6, 0.8, \"$\\mathbf{v_1}$\", color='r', fontsize=12)\n",
    "ax2.text(-1.4, 0.5, \"$\\mathbf{v_2}$\", color='r', fontsize=12)\n",
    "ax2.text(3.1, 1.9, \"$\\mathbf{Av_1}$\", color='black', fontsize=12)\n",
    "ax2.text(-1.4, 1.7, \"$\\mathbf{Av_2}$\", color='black', fontsize=12)\n",
    "\n",
    "plt.show()"
   ]
  },
  {
   "cell_type": "code",
   "execution_count": null,
   "metadata": {},
   "outputs": [],
   "source": [
    "B = np.array([[3, -1],\n",
    "              [1, 2]]) \n",
    "lam, u = LA.eig(B)\n",
    "\n",
    "print(\"lam=\", np.round(lam, 4))\n",
    "print(\"u=\", np.round(u, 4))"
   ]
  },
  {
   "cell_type": "markdown",
   "metadata": {},
   "source": [
    "### Сингулярное разложение"
   ]
  },
  {
   "cell_type": "code",
   "execution_count": null,
   "metadata": {},
   "outputs": [],
   "source": [
    "A = np.array([[4, 1, 3],\n",
    "              [8, 3, -2]])\n",
    "lam, v = LA.eig(A.T @ A)\n",
    "print(\"lam=\", np.round(lam, 4))\n",
    "print(\"v=\", np.round(v, 4))"
   ]
  },
  {
   "cell_type": "code",
   "execution_count": null,
   "metadata": {},
   "outputs": [],
   "source": [
    "A.T @ A"
   ]
  },
  {
   "cell_type": "code",
   "execution_count": null,
   "metadata": {},
   "outputs": [],
   "source": [
    "V = v[:, lam.argsort()[::-1]]\n",
    "\n",
    "lam_sorted = np.sort(lam)[::-1]\n",
    "lam_sorted = lam_sorted[lam_sorted > 1e-8]\n",
    "sigma = np.sqrt(lam_sorted)\n",
    "Sigma = np.zeros((A.shape[0], A.shape[1]))\n",
    "Sigma[:min(A.shape[0],A.shape[1]), :min(A.shape[0],A.shape[1])] = np.diag(sigma)\n",
    "\n",
    "print(\"Sigma=\", np.round(Sigma, 4))\n",
    "print(\"V=\", np.round(V, 4))"
   ]
  },
  {
   "cell_type": "code",
   "execution_count": null,
   "metadata": {},
   "outputs": [],
   "source": [
    "r = len(sigma)\n",
    "U = A @ V[:,:r] / sigma\n",
    "print(\"U=\", np.round(U, 4))"
   ]
  },
  {
   "cell_type": "code",
   "execution_count": null,
   "metadata": {},
   "outputs": [],
   "source": [
    "A_reconstructed = U @ Sigma @ V.T\n",
    "A_reconstructed"
   ]
  },
  {
   "cell_type": "markdown",
   "metadata": {},
   "source": [
    "Но, конечно, в Python есть встроенная функция svd()"
   ]
  },
  {
   "cell_type": "code",
   "execution_count": null,
   "metadata": {},
   "outputs": [],
   "source": [
    "U, s, VT = LA.svd(A)\n",
    "print(\"U=\", np.round(U, 4))\n",
    "print(\"s=\", np.round(s, 4))\n",
    "print(\"V\", np.round(VT.T, 4))"
   ]
  },
  {
   "cell_type": "code",
   "execution_count": null,
   "metadata": {},
   "outputs": [],
   "source": [
    "Sigma = np.zeros((A.shape[0], A.shape[1]))\n",
    "Sigma[:min(A.shape[0],A.shape[1]), :min(A.shape[0],A.shape[1])] = np.diag(s)\n",
    "A_reconstructed = U @ Sigma @ VT\n",
    "A_reconstructed"
   ]
  },
  {
   "cell_type": "code",
   "execution_count": null,
   "metadata": {},
   "outputs": [],
   "source": [
    "# Исходное изображение\n",
    "mat = plt.imread(\"./photo.png\")"
   ]
  },
  {
   "cell_type": "markdown",
   "metadata": {},
   "source": [
    "### Примеры использования SVD"
   ]
  },
  {
   "cell_type": "code",
   "execution_count": null,
   "metadata": {},
   "outputs": [],
   "source": [
    "# Исходное изображение\n",
    "mat = plt.imread(\"./photo.png\")\n",
    "\n",
    "# SVD \n",
    "U, s, VT = LA.svd(mat)\n",
    "\n",
    "Sigma = np.zeros((mat.shape[0], mat.shape[1]))\n",
    "Sigma[:min(mat.shape[0], mat.shape[1]), :min(mat.shape[0], mat.shape[1])] = np.diag(s)\n",
    "\n",
    "# Восстановление\n",
    "k = 10\n",
    "mat_approx = U[:, :k] @ Sigma[:k, :k] @ VT[:k, :]\n",
    "\n",
    "fig, (ax1, ax2) = plt.subplots(1, 2, figsize=(10,8))\n",
    "plt.subplots_adjust(wspace=0.3, hspace=0.2)\n",
    "\n",
    "ax1.imshow(mat, cmap='gray')\n",
    "ax1.set_title(\"Исходное изображение\", y=1.05)\n",
    "\n",
    "ax2.imshow(mat_approx, cmap='gray')\n",
    "ax2.set_title(\"Восстановленное с помощью \\n первых {} сингулярных значений\".format(k), y=1.05)\n",
    "\n",
    "plt.show()"
   ]
  },
  {
   "cell_type": "code",
   "execution_count": null,
   "metadata": {},
   "outputs": [],
   "source": [
    "fig, axes = plt.subplots(2, 3, figsize=(10,8))\n",
    "plt.subplots_adjust(wspace=0.3, hspace=0.2)\n",
    "\n",
    "for i in range(0, 6):\n",
    "    mat_i = mat_i + s[i] * U[:,i].reshape(-1,1) @ VT[i,:].reshape(1,-1)\n",
    "    axes[i // 3, i % 3].imshow(mat_i)\n",
    "    axes[i // 3, i % 3].set_title(\"$\\sigma_{0}\\mathbf{{u_{0}}}\\mathbf{{v_{0}}}^T$\".format(i+1), y=1.05, fontsize=16)\n",
    "    \n",
    "plt.show()"
   ]
  },
  {
   "cell_type": "markdown",
   "metadata": {},
   "source": [
    "### Анализ форм на изображении"
   ]
  },
  {
   "cell_type": "code",
   "execution_count": null,
   "metadata": {},
   "outputs": [],
   "source": [
    "# Исходное изображение\n",
    "mat = plt.imread(\"./shapes.png\")\n",
    "\n",
    "# SVD \n",
    "U, s, VT = LA.svd(mat)\n",
    "\n",
    "Sigma = np.zeros((mat.shape[0], mat.shape[1]))\n",
    "Sigma[:min(mat.shape[0], mat.shape[1]), :min(mat.shape[0], mat.shape[1])] = np.diag(s)\n",
    "\n",
    "fig, axes = plt.subplots(2, 2, figsize=(10,8))\n",
    "plt.subplots_adjust(wspace=0.3, hspace=0.2)\n",
    "\n",
    "axes[0, 0].imshow(mat, cmap='gray')\n",
    "axes[0, 0].set_title(\"Исходное изображение\", y=1.05)\n",
    "\n",
    "for i in range(1, 4):\n",
    "    k = i * 2\n",
    "    # Восстановление\n",
    "    mat_approx = U[:, :k] @ Sigma[:k, :k] @ VT[:k, :]\n",
    "\n",
    "    axes[i // 2, i % 2].imshow(mat_approx, cmap='gray')\n",
    "    axes[i // 2, i % 2].set_title(\"Восстановленное с помощью \\n первых {} сингулярных значений\".format(k), y=1.05)\n",
    "\n",
    "plt.show()"
   ]
  },
  {
   "cell_type": "code",
   "execution_count": null,
   "metadata": {},
   "outputs": [],
   "source": [
    "fig, axes = plt.subplots(2, 3, figsize=(10,6))\n",
    "plt.subplots_adjust(wspace=0.3, hspace=0.05)\n",
    "\n",
    "for i in range(0, 6):\n",
    "    mat_i = s[i] * U[:,i].reshape(-1,1) @ VT[i,:].reshape(1,-1)\n",
    "    #mat_i[mat_i < 1e-8] = 0\n",
    "    axes[i // 3, i % 3].imshow(mat_i)\n",
    "    axes[i // 3, i % 3].set_title(\"$\\sigma_{0}\\mathbf{{u_{0}}}\\mathbf{{v_{0}}}^T$\".format(i+1), y=1.05, fontsize=16)\n",
    "    \n",
    "plt.show()"
   ]
  },
  {
   "cell_type": "code",
   "execution_count": null,
   "metadata": {},
   "outputs": [],
   "source": [
    "# Исходное изображение\n",
    "mat = plt.imread(\"./monument.png\")\n",
    "\n",
    "# SVD \n",
    "U, s, VT = LA.svd(mat)\n",
    "\n",
    "Sigma = np.zeros((mat.shape[0], mat.shape[1]))\n",
    "Sigma[:min(mat.shape[0], mat.shape[1]), :min(mat.shape[0], mat.shape[1])] = np.diag(s)\n",
    "\n",
    "# Восстановление\n",
    "k = 1\n",
    "mat_approx = U[:, :k] @ Sigma[:k, :k] @ VT[:k, :]\n",
    "\n",
    "fig, (ax1, ax2) = plt.subplots(1, 2, figsize=(10,8))\n",
    "plt.subplots_adjust(wspace=0.3, hspace=0.2)\n",
    "\n",
    "ax1.imshow(mat, cmap='gray')\n",
    "ax1.set_title(\"Исходное изображение\", y=1.05)\n",
    "\n",
    "ax2.imshow(mat_approx)\n",
    "ax2.set_title(\"$\\sigma_1\\mathbf{u_1}\\mathbf{v_1}^T$\", y=1.05)\n",
    "\n",
    "plt.show()"
   ]
  },
  {
   "cell_type": "markdown",
   "metadata": {},
   "source": [
    "### Удаление шумов"
   ]
  },
  {
   "cell_type": "code",
   "execution_count": null,
   "metadata": {},
   "outputs": [],
   "source": [
    "# Исходное изображение\n",
    "mat = plt.imread(\"./text.png\")\n",
    "\n",
    "# Добавим шум\n",
    "noise = np.random.rand(mat.shape[0], mat.shape[1])\n",
    "mat[noise > 0.95] = 0"
   ]
  },
  {
   "cell_type": "code",
   "execution_count": null,
   "metadata": {},
   "outputs": [],
   "source": [
    "plt.imshow(mat,cmap='gray')\n",
    "plt.show"
   ]
  },
  {
   "cell_type": "code",
   "execution_count": null,
   "metadata": {},
   "outputs": [],
   "source": [
    "# SVD \n",
    "U, s, VT = LA.svd(mat)\n",
    "\n",
    "Sigma = np.zeros((mat.shape[0], mat.shape[1]))\n",
    "Sigma[:min(mat.shape[0], mat.shape[1]), :min(mat.shape[0], mat.shape[1])] = np.diag(s)\n",
    "\n",
    "fig, axes = plt.subplots(2, 2, figsize=(10,8))\n",
    "plt.subplots_adjust(wspace=0.2, hspace=0.1)\n",
    "\n",
    "axes[0, 0].imshow(mat, cmap='gray')\n",
    "axes[0, 0].set_title(\"Original image\", y=1.08)\n",
    "\n",
    "k_list = [20, 55, 200]\n",
    "for i in range(1, 4):\n",
    "    k = k_list[i-1]\n",
    "    mat_rank_k = U[:, :k] @ Sigma[:k, :k] @ VT[:k, :]\n",
    "    axes[i // 2, i % 2].imshow(mat_rank_k, cmap='gray')\n",
    "    axes[i // 2, i % 2].set_title(\"Восстановленное с помощью \\n первых {} сингулярных значений\".format(k), y=1.08)\n",
    "\n",
    "plt.show()"
   ]
  },
  {
   "cell_type": "markdown",
   "metadata": {},
   "source": [
    "### Псевдообратные матрицы - Теорема Мура — Пенроуза"
   ]
  },
  {
   "cell_type": "code",
   "execution_count": null,
   "metadata": {},
   "outputs": [],
   "source": [
    "A = np.array([[7, 2], [3, 4], [5, 3]])\n",
    "A"
   ]
  },
  {
   "cell_type": "code",
   "execution_count": null,
   "metadata": {},
   "outputs": [],
   "source": [
    "np.linalg.inv(A)"
   ]
  },
  {
   "cell_type": "code",
   "execution_count": null,
   "metadata": {},
   "outputs": [],
   "source": [
    "U, D, V = np.linalg.svd(A)\n",
    "\n",
    "D_plus = np.zeros((A.shape[0], A.shape[1])).T\n",
    "D_plus[:D.shape[0], :D.shape[0]] = np.linalg.inv(np.diag(D))\n",
    "\n",
    "A_plus = V.T.dot(D_plus).dot(U.T)\n",
    "A_plus"
   ]
  },
  {
   "cell_type": "code",
   "execution_count": null,
   "metadata": {},
   "outputs": [],
   "source": [
    "np.linalg.pinv(A)"
   ]
  },
  {
   "cell_type": "code",
   "execution_count": null,
   "metadata": {},
   "outputs": [],
   "source": [
    "A_plus.dot(A)"
   ]
  },
  {
   "cell_type": "markdown",
   "metadata": {},
   "source": [
    "#### Переопределенная система уравнений"
   ]
  },
  {
   "cell_type": "code",
   "execution_count": null,
   "metadata": {},
   "outputs": [],
   "source": [
    "x1 = np.linspace(-5, 5, 1000)\n",
    "x2_1 = -2*x1 + 2\n",
    "x2_2 = 4*x1 + 8\n",
    "x2_3 = -1*x1 + 2\n",
    "\n",
    "plt.plot(x1, x2_1)\n",
    "plt.plot(x1, x2_2)\n",
    "plt.plot(x1, x2_3)\n",
    "plt.xlim(-2., 1)\n",
    "plt.ylim(1, 5)\n",
    "plt.show()"
   ]
  },
  {
   "cell_type": "code",
   "execution_count": null,
   "metadata": {},
   "outputs": [],
   "source": [
    "A = np.array([[-2, -1], [4, -1], [-1, -1]])\n",
    "A_plus = np.linalg.pinv(A)\n",
    "A_plus"
   ]
  },
  {
   "cell_type": "code",
   "execution_count": null,
   "metadata": {},
   "outputs": [],
   "source": [
    "b = np.array([[-2], [-8], [-2]])\n",
    "res = A_plus.dot(b)\n",
    "res"
   ]
  },
  {
   "cell_type": "code",
   "execution_count": null,
   "metadata": {},
   "outputs": [],
   "source": [
    "plt.plot(x1, x2_1)\n",
    "plt.plot(x1, x2_2)\n",
    "plt.plot(x1, x2_3)\n",
    "plt.xlim(-2., 1)\n",
    "plt.ylim(1, 5)\n",
    "\n",
    "plt.scatter(res[0], res[1])\n",
    "\n",
    "plt.show()"
   ]
  },
  {
   "cell_type": "markdown",
   "metadata": {},
   "source": [
    "#### Линейная регрессия"
   ]
  },
  {
   "cell_type": "markdown",
   "metadata": {},
   "source": [
    "<img src=./dataset.png alt=\"drawing\" width=\"300\"/>"
   ]
  },
  {
   "cell_type": "code",
   "execution_count": null,
   "metadata": {},
   "outputs": [],
   "source": [
    "A = np.array([[0, 1], [1, 1], [2, 1], [3, 1], [3, 1], [4, 1]])\n",
    "A"
   ]
  },
  {
   "cell_type": "code",
   "execution_count": null,
   "metadata": {},
   "outputs": [],
   "source": [
    "b = np.array([[2], [4], [0], [2], [5], [3]])\n",
    "b"
   ]
  },
  {
   "cell_type": "code",
   "execution_count": null,
   "metadata": {},
   "outputs": [],
   "source": [
    "A_plus = np.linalg.pinv(A)\n",
    "A_plus"
   ]
  },
  {
   "cell_type": "code",
   "execution_count": null,
   "metadata": {},
   "outputs": [],
   "source": [
    "coefs = A_plus.dot(b)\n",
    "coefs"
   ]
  },
  {
   "cell_type": "code",
   "execution_count": null,
   "metadata": {},
   "outputs": [],
   "source": [
    "x = np.linspace(-1, 5, 1000)\n",
    "y = coefs[0]*x + coefs[1]\n",
    "\n",
    "plt.plot(A[:, 0], b, '*')\n",
    "plt.plot(x, y)\n",
    "plt.xlim(-1., 6)\n",
    "plt.ylim(-0.5, 5.5)\n",
    "\n",
    "plt.show()"
   ]
  },
  {
   "cell_type": "code",
   "execution_count": null,
   "metadata": {},
   "outputs": [],
   "source": [
    "np.polyfit(A[:, 0], b, 1)"
   ]
  },
  {
   "cell_type": "markdown",
   "metadata": {},
   "source": [
    "Больше точек!"
   ]
  },
  {
   "cell_type": "code",
   "execution_count": null,
   "metadata": {},
   "outputs": [],
   "source": [
    "np.random.seed(123)\n",
    "x = 5*np.random.rand(100)\n",
    "y = 2*x + 1 + np.random.randn(100)\n",
    "\n",
    "x = x.reshape(100, 1)\n",
    "y = y.reshape(100, 1)"
   ]
  },
  {
   "cell_type": "code",
   "execution_count": null,
   "metadata": {},
   "outputs": [],
   "source": [
    "A = np.hstack((x, np.ones(np.shape(x))))\n",
    "A[:10]"
   ]
  },
  {
   "cell_type": "code",
   "execution_count": null,
   "metadata": {},
   "outputs": [],
   "source": [
    "A_plus = np.linalg.pinv(A)\n",
    "coefs = A_plus.dot(y)\n",
    "coefs"
   ]
  },
  {
   "cell_type": "code",
   "execution_count": null,
   "metadata": {},
   "outputs": [],
   "source": [
    "x_line = np.linspace(0, 5, 1000)\n",
    "y_line = coefs[0]*x_line + coefs[1]\n",
    "\n",
    "plt.plot(x, y, '*')\n",
    "plt.plot(x_line, y_line)\n",
    "plt.show()"
   ]
  },
  {
   "cell_type": "markdown",
   "metadata": {},
   "source": [
    "## Коллаборативная фильтрация"
   ]
  },
  {
   "cell_type": "markdown",
   "metadata": {},
   "source": [
    "<img src=\"./movie.png\" alt=\"drawing\" width=\"700\"/>"
   ]
  },
  {
   "cell_type": "code",
   "execution_count": 1,
   "metadata": {},
   "outputs": [],
   "source": [
    "import numpy\n",
    "\n",
    "def matrix_factorization(R, P, Q, K, steps=5000, alpha=0.0002, beta=0.02):\n",
    "    '''\n",
    "    R: матрица оценок\n",
    "    P: |U| * K (матрица пользователей)\n",
    "    Q: |D| * K (матрица объектов)\n",
    "    K: латентные характеристики\n",
    "    steps: итерации\n",
    "    alpha: learning rate\n",
    "    beta: регуляризация'''\n",
    "    Q = Q.T\n",
    "\n",
    "    for step in range(steps):\n",
    "        for i in range(len(R)):\n",
    "            for j in range(len(R[i])):\n",
    "                if R[i][j] > 0:\n",
    "                    # расчет ошибки\n",
    "                    eij = R[i][j] - numpy.dot(P[i,:],Q[:,j])\n",
    "\n",
    "                    for k in range(K):\n",
    "                        # градиентный метод с параметрами alpha и beta\n",
    "                        P[i][k] = P[i][k] + alpha * (2 * eij * Q[k][j] - beta * P[i][k])\n",
    "                        Q[k][j] = Q[k][j] + alpha * (2 * eij * P[i][k] - beta * Q[k][j])\n",
    "\n",
    "        eR = numpy.dot(P,Q)\n",
    "\n",
    "        e = 0\n",
    "\n",
    "        for i in range(len(R)):\n",
    "\n",
    "            for j in range(len(R[i])):\n",
    "\n",
    "                if R[i][j] > 0:\n",
    "\n",
    "                    e = e + pow(R[i][j] - numpy.dot(P[i,:],Q[:,j]), 2)\n",
    "\n",
    "                    for k in range(K):\n",
    "\n",
    "                        e = e + (beta/2) * (pow(P[i][k],2) + pow(Q[k][j],2))\n",
    "        # 0.001: локальный минимум\n",
    "        if e < 0.001:\n",
    "\n",
    "            break\n",
    "\n",
    "    return P, Q.T"
   ]
  },
  {
   "cell_type": "markdown",
   "metadata": {},
   "source": [
    "<img src=\"./mfac.jpeg\" alt=\"drawing\" width=\"700\"/>"
   ]
  },
  {
   "cell_type": "code",
   "execution_count": 2,
   "metadata": {},
   "outputs": [],
   "source": [
    "R = [\n",
    "\n",
    "     [5,3,0,1,0,0],\n",
    "\n",
    "     [4,0,0,1,7,2],\n",
    "\n",
    "     [1,1,0,5,1,0],\n",
    "\n",
    "     [1,0,0,4,0,1],\n",
    "\n",
    "     [0,1,5,0,4,0],\n",
    "    \n",
    "     [2,1,3,0,0,1],\n",
    "\n",
    "    ]\n",
    "\n",
    "R = numpy.array(R)\n",
    "# N: число пользователей\n",
    "N = len(R)\n",
    "# M: число фильмов\n",
    "M = len(R[0])\n",
    "# K: число характеристик\n",
    "K = 10\n",
    "\n",
    " \n",
    "P = numpy.random.rand(N,K)\n",
    "Q = numpy.random.rand(M,K)\n",
    "\n",
    " \n",
    "\n",
    "nP, nQ = matrix_factorization(R, P, Q, K)\n",
    "\n",
    "nR = numpy.dot(nP, nQ.T)"
   ]
  },
  {
   "cell_type": "code",
   "execution_count": 3,
   "metadata": {},
   "outputs": [
    {
     "data": {
      "text/plain": [
       "array([[4.98730161, 2.93828359, 6.31817264, 1.0041209 , 6.51011656,\n",
       "        2.40093046],\n",
       "       [4.00046633, 2.01118931, 6.48958041, 1.00019295, 6.96424612,\n",
       "        1.99924012],\n",
       "       [1.03649896, 0.91892145, 3.33526555, 4.96898021, 1.00094894,\n",
       "        0.59864073],\n",
       "       [0.98811579, 0.42456078, 3.21314872, 3.98163644, 2.14967685,\n",
       "        1.0050246 ],\n",
       "       [2.62273934, 1.13645468, 4.93129102, 3.62773837, 4.00460655,\n",
       "        1.47003317],\n",
       "       [1.93698317, 0.96710617, 3.04782229, 1.824763  , 2.23711033,\n",
       "        0.97669069]])"
      ]
     },
     "execution_count": 3,
     "metadata": {},
     "output_type": "execute_result"
    }
   ],
   "source": [
    "nR"
   ]
  },
  {
   "cell_type": "markdown",
   "metadata": {},
   "source": [
    "## Обучение моделей и градиентные методы"
   ]
  },
  {
   "cell_type": "markdown",
   "metadata": {},
   "source": [
    "### Простой градиентный спуск"
   ]
  },
  {
   "cell_type": "code",
   "execution_count": null,
   "metadata": {},
   "outputs": [],
   "source": [
    "x = np.linspace(-10, 0, 100)\n",
    "y = (x+5)**2\n",
    "\n",
    "plt.figure(figsize=(6, 4))\n",
    "plt.plot(x, y)\n",
    "plt.xlabel('$x$', fontsize=12)\n",
    "plt.ylabel('$t$', fontsize=12)\n",
    "plt.title('Функция')\n",
    "plt.ylim(-0.5, 6)\n",
    "plt.xlim(-10, 0)\n",
    "plt.show()\n",
    "#"
   ]
  },
  {
   "cell_type": "code",
   "execution_count": null,
   "metadata": {},
   "outputs": [],
   "source": [
    "cur_x = 3 # начальная точка x=3\n",
    "rate = 0.1 # Learning rate\n",
    "precision = 0.0001 # точность решения\n",
    "previous_step_size = 1 #\n",
    "max_iters = 10000 # вычислительный бюджет в итерациях\n",
    "iters = 0 # счетчик итераций\n",
    "df = lambda x: 2*(x+5) # градиент "
   ]
  },
  {
   "cell_type": "code",
   "execution_count": null,
   "metadata": {},
   "outputs": [],
   "source": [
    "def grad01(x):\n",
    "    return 2*(x+5)"
   ]
  },
  {
   "cell_type": "code",
   "execution_count": null,
   "metadata": {},
   "outputs": [],
   "source": [
    "while previous_step_size > precision and iters < max_iters:\n",
    "    prev_x = cur_x # предыдущее значение x\n",
    "    cur_x = cur_x - rate * grad01(prev_x) # Собственно спуск\n",
    "    previous_step_size = abs(cur_x - prev_x) # изменение по x для оценки точности\n",
    "    iters = iters+1 # счетчик\n",
    "    print(\"Итерация № \",iters,\"\\nЗначение X = \",cur_x) #Print iterations\n",
    "    \n",
    "print(\"Локальный минимум в точке X* = \", cur_x)"
   ]
  },
  {
   "cell_type": "markdown",
   "metadata": {},
   "source": [
    "### Встроенные функции"
   ]
  },
  {
   "cell_type": "markdown",
   "metadata": {},
   "source": [
    "#### sympy"
   ]
  },
  {
   "cell_type": "code",
   "execution_count": null,
   "metadata": {},
   "outputs": [],
   "source": [
    "from sympy import *\n",
    "x = Symbol('x')\n",
    "diff(cos(x**2),x)"
   ]
  },
  {
   "cell_type": "markdown",
   "metadata": {},
   "source": [
    "#### scipy"
   ]
  },
  {
   "cell_type": "code",
   "execution_count": null,
   "metadata": {},
   "outputs": [],
   "source": [
    "from scipy.misc import derivative\n",
    "\n",
    "def f(x):\n",
    "    return x**3 + x**2\n",
    "\n",
    "derivative(f, 1.0, dx=1e-3)"
   ]
  },
  {
   "cell_type": "markdown",
   "metadata": {},
   "source": [
    "#### autograd"
   ]
  },
  {
   "cell_type": "code",
   "execution_count": null,
   "metadata": {},
   "outputs": [],
   "source": [
    "import torch\n",
    "\n",
    "a = torch.tensor([2., 3.], requires_grad=True)\n",
    "b = torch.tensor([6., 4.], requires_grad=True)"
   ]
  },
  {
   "cell_type": "code",
   "execution_count": null,
   "metadata": {},
   "outputs": [],
   "source": [
    "Q = 3*a**3 - b**2"
   ]
  },
  {
   "cell_type": "code",
   "execution_count": null,
   "metadata": {},
   "outputs": [],
   "source": [
    "Q"
   ]
  },
  {
   "cell_type": "code",
   "execution_count": null,
   "metadata": {},
   "outputs": [],
   "source": [
    "external_grad = torch.tensor([1., 1.])\n",
    "Q.backward(gradient=external_grad)"
   ]
  },
  {
   "cell_type": "code",
   "execution_count": null,
   "metadata": {},
   "outputs": [],
   "source": [
    "a.grad"
   ]
  },
  {
   "cell_type": "code",
   "execution_count": null,
   "metadata": {},
   "outputs": [],
   "source": [
    "print(9*a**2 == a.grad)\n",
    "print(-2*b == b.grad)"
   ]
  },
  {
   "cell_type": "markdown",
   "metadata": {},
   "source": [
    "### Градиентный спуск для линейной регрессии"
   ]
  },
  {
   "cell_type": "markdown",
   "metadata": {},
   "source": [
    "<img src=\"SimpleANN01.png\" alt=\"drawing\" width=\"150\"/>"
   ]
  },
  {
   "cell_type": "code",
   "execution_count": null,
   "metadata": {},
   "outputs": [],
   "source": [
    "%matplotlib inline\n",
    "%config InlineBackend.figure_formats = ['svg']\n",
    "\n",
    "import numpy as np  \n",
    "import matplotlib\n",
    "import matplotlib.pyplot as plt  \n",
    "import seaborn as sns\n",
    "\n",
    "sns.set_style('darkgrid')\n",
    "np.random.seed(seed=13)"
   ]
  },
  {
   "cell_type": "code",
   "execution_count": null,
   "metadata": {},
   "outputs": [],
   "source": [
    "# 20 точек из равномерного распределения\n",
    "x = np.random.uniform(0, 1, 20)\n",
    "\n",
    "# Исходная функция из которой делаем зашумленные данные\n",
    "def f(x): \n",
    "    return x * 2\n",
    "\n",
    "# Создаем экспериментальные точки t\n",
    "noise_variance = 0.2  # Дисперссия шума\n",
    "# Нормальный шум\n",
    "noise = np.random.randn(x.shape[0]) * noise_variance\n",
    "t = f(x) + noise\n",
    "#"
   ]
  },
  {
   "cell_type": "code",
   "execution_count": null,
   "metadata": {},
   "outputs": [],
   "source": [
    "# График t\n",
    "plt.figure(figsize=(5, 3))\n",
    "plt.plot(x, t, 'o', label='$t$')\n",
    "# График модели\n",
    "plt.plot([0, 1], [f(0), f(1)], 'b--', label='$f(x)$')\n",
    "plt.xlabel('$x$', fontsize=12)\n",
    "plt.ylabel('$t$', fontsize=12)\n",
    "plt.axis((0, 1, 0, 2))\n",
    "plt.title('Функция t(x)')\n",
    "plt.legend(loc=2)\n",
    "plt.show()\n",
    "#"
   ]
  },
  {
   "cell_type": "code",
   "execution_count": null,
   "metadata": {},
   "outputs": [],
   "source": [
    "def nn(x, w):\n",
    "    \"\"\"Наша модель y = x * w\"\"\"\n",
    "    return x * w\n",
    "\n",
    "\n",
    "def loss(y, t):\n",
    "    \"\"\"Функция потерь MSE\"\"\"\n",
    "    return np.mean((t - y)**2)"
   ]
  },
  {
   "cell_type": "code",
   "execution_count": null,
   "metadata": {},
   "outputs": [],
   "source": [
    "# Зависимость ошибки от веса w\n",
    "\n",
    "ws = np.linspace(0, 4, num=100)  # значения весов\n",
    "# значения функции потерь\n",
    "loss_ws = np.vectorize(lambda w: loss(nn(x, w) , t))(ws)\n",
    "\n",
    "# График\n",
    "plt.figure(figsize=(5, 3))\n",
    "plt.plot(ws, loss_ws, 'r--', label='loss')\n",
    "plt.xlabel('$w$', fontsize=12)\n",
    "plt.ylabel('$\\\\xi$', fontsize=12)\n",
    "plt.title('Функция потерь по отношению к $w$')\n",
    "plt.xlim(0, 4)\n",
    "plt.legend()\n",
    "plt.show()\n",
    "#"
   ]
  },
  {
   "cell_type": "code",
   "execution_count": null,
   "metadata": {},
   "outputs": [],
   "source": [
    "def gradient(w, x, t):\n",
    "    \"\"\"Градиент функции потерь относительно параметра.\"\"\"\n",
    "    return 2 * x * (nn(x, w) - t)\n",
    "\n",
    "\n",
    "def delta_w(w_k, x, t, learning_rate):\n",
    "    \"\"\"Расчет величины шага\"\"\"\n",
    "    return learning_rate * np.mean(gradient(w_k, x, t))"
   ]
  },
  {
   "cell_type": "code",
   "execution_count": null,
   "metadata": {},
   "outputs": [],
   "source": [
    "# Инициализация веса\n",
    "w = np.random.rand()\n",
    "learning_rate = 0.9\n",
    "\n",
    "# Градиентный спуск:\n",
    "nb_of_iterations = 4  # число итераций\n",
    "w_loss = [(w, loss(nn(x, w), t))] # Запись значений для визуализации\n",
    "for i in range(nb_of_iterations):\n",
    "    dw = delta_w(w, x, t, learning_rate)  # Величина шага\n",
    "    w = w - dw  # Обновление значения веса\n",
    "    w_loss.append((w, loss(nn(x, w), t)))  # Сохранение шагов для визуализации\n",
    "\n",
    "for i in range(0, len(w_loss)):\n",
    "    print(f'Вес w({i}): {w_loss[i][0]:.4f} \\t Функция потерь: {w_loss[i][1]:.4f}')"
   ]
  },
  {
   "cell_type": "code",
   "execution_count": null,
   "metadata": {},
   "outputs": [],
   "source": [
    "# Визуализация\n",
    "plt.figure(figsize=(6, 4))\n",
    "plt.plot(ws, loss_ws, 'r--', label='loss')  # Loss curve\n",
    "# Обновления\n",
    "for i in range(0, len(w_loss)-1):\n",
    "    w1, c1 = w_loss[i]\n",
    "    w2, c2 = w_loss[i+1]\n",
    "    plt.plot(w1, c1, 'bo')\n",
    "    plt.plot([w1, w2],[c1, c2], 'b-')\n",
    "    plt.text(w1, c1+0.05, f'${i}$')\n",
    "plt.plot(w2, c2, 'bo', label='$w(k)$')\n",
    "plt.text(w2, c2+0.05, f'${i+1}$')\n",
    "\n",
    "plt.xlabel('$w$', fontsize=12)\n",
    "plt.ylabel('$\\\\xi$', fontsize=12)\n",
    "plt.title('Градиентный спуск на функции потерь')\n",
    "plt.xlim(0, 4)\n",
    "plt.legend(loc=1)\n",
    "plt.show()\n",
    "#"
   ]
  },
  {
   "cell_type": "code",
   "execution_count": null,
   "metadata": {},
   "outputs": [],
   "source": [
    "# Визуализация результатов\n",
    "plt.figure(figsize=(6, 4))\n",
    "# Экспериментальные данные\n",
    "plt.plot(x, t, 'o', label='$t$')\n",
    "# Исходная функция\n",
    "plt.plot([0, 1], [f(0), f(1)], 'b--', label='$f(x)$')\n",
    "# Построенная модель\n",
    "plt.plot([0, 1], [0*w, 1*w], 'r-', label='$y = w * x$')\n",
    "plt.xlabel('$x$', fontsize=12)\n",
    "plt.ylabel('$t$', fontsize=12)\n",
    "plt.title('input vs target')\n",
    "plt.legend(loc=2)\n",
    "plt.ylim(0, 2)\n",
    "plt.xlim(0, 1)\n",
    "plt.show()\n",
    "#"
   ]
  },
  {
   "cell_type": "markdown",
   "metadata": {},
   "source": [
    "### Пример обучения простой нейронной сети с использованием градиентого спуска"
   ]
  },
  {
   "cell_type": "markdown",
   "metadata": {},
   "source": [
    "<img src=\"SimpleANN02.png\" alt=\"drawing\" width=\"250\"/>"
   ]
  },
  {
   "cell_type": "code",
   "execution_count": null,
   "metadata": {},
   "outputs": [],
   "source": [
    "%matplotlib inline\n",
    "%config InlineBackend.figure_formats = ['svg']\n",
    "\n",
    "import numpy as np  \n",
    "import matplotlib\n",
    "import matplotlib.pyplot as plt  \n",
    "from matplotlib import cm \n",
    "from matplotlib.colors import colorConverter, ListedColormap\n",
    "import seaborn as sns  \n",
    "\n",
    "sns.set_style('darkgrid')\n",
    "np.random.seed(seed=1)"
   ]
  },
  {
   "cell_type": "code",
   "execution_count": null,
   "metadata": {},
   "outputs": [],
   "source": [
    "# Тестовые данные\n",
    "nb_of_samples_per_class = 25  # Число точек в каждом классе\n",
    "red_mean = (-1., 0.)  # Среднее красного класса\n",
    "blue_mean = (1., 0.)  # Среднее синего класса\n",
    "# Генерация выборки\n",
    "x_red = np.random.randn(nb_of_samples_per_class, 2) + red_mean\n",
    "x_blue = np.random.randn(nb_of_samples_per_class, 2)  + blue_mean\n",
    "\n",
    "# Формирование выборки размеченных данных\n",
    "X = np.vstack((x_red, x_blue))\n",
    "t = np.vstack((np.zeros((nb_of_samples_per_class,1)), \n",
    "               np.ones((nb_of_samples_per_class,1))))\n",
    "#"
   ]
  },
  {
   "cell_type": "code",
   "execution_count": null,
   "metadata": {},
   "outputs": [],
   "source": [
    "# Визуализация\n",
    "plt.figure(figsize=(6, 4))\n",
    "plt.plot(x_red[:,0], x_red[:,1], 'r*', label='класс: красная звезда')\n",
    "plt.plot(x_blue[:,0], x_blue[:,1], 'bo', label='класс: синий круг')\n",
    "plt.legend(loc=2)\n",
    "plt.xlabel('$x_1$', fontsize=12)\n",
    "plt.ylabel('$x_2$', fontsize=12)\n",
    "plt.axis([-3, 4, -4, 4])\n",
    "plt.title('красная звезда vs. синий круг')\n",
    "plt.show()\n",
    "#"
   ]
  },
  {
   "cell_type": "code",
   "execution_count": null,
   "metadata": {},
   "outputs": [],
   "source": [
    "# Логистическая функция активации\n",
    "def logistic(z): \n",
    "    return 1. / (1 + np.exp(-z))\n",
    "\n",
    "# нейронная сеть с логистической функцией y = 1 / (1 + numpy.exp(-x*w))\n",
    "def nn(x, w): \n",
    "    return logistic(x.dot(w.T))\n",
    "\n",
    "# Округление для классификации 0 или 1\n",
    "def nn_predict(x,w): \n",
    "    return np.around(nn(x,w))\n",
    "    \n",
    "# Функция потерь на основе энтропии\n",
    "def loss(y, t):\n",
    "    return - np.mean(\n",
    "        np.multiply(t, np.log(y)) + np.multiply((1-t), np.log(1-y)))"
   ]
  },
  {
   "cell_type": "code",
   "execution_count": null,
   "metadata": {},
   "outputs": [],
   "source": [
    "# Визуализаця функции потерь\n",
    "nb_of_ws = 25 # число точек\n",
    "wsa = np.linspace(-5, 5, num=nb_of_ws) # вес a\n",
    "wsb = np.linspace(-5, 5, num=nb_of_ws) # вес b\n",
    "ws_x, ws_y = np.meshgrid(wsa, wsb) # решетка\n",
    "loss_ws = np.zeros((nb_of_ws, nb_of_ws)) # инициализация матрицы потерь\n",
    "# Заполнение матрицы потерь\n",
    "for i in range(nb_of_ws):\n",
    "    for j in range(nb_of_ws):\n",
    "        loss_ws[i,j] = loss(\n",
    "            nn(X, np.asmatrix([ws_x[i,j], ws_y[i,j]])) , t)\n",
    "# Построение графика\n",
    "plt.figure(figsize=(6, 4))\n",
    "plt.contourf(ws_x, ws_y, loss_ws, 20, cmap=cm.viridis)\n",
    "cbar = plt.colorbar()\n",
    "cbar.ax.set_ylabel('$\\\\xi$', fontsize=12)\n",
    "plt.xlabel('$w_1$', fontsize=12)\n",
    "plt.ylabel('$w_2$', fontsize=12)\n",
    "plt.title('Loss function surface')\n",
    "plt.grid()\n",
    "plt.show()\n",
    "#"
   ]
  },
  {
   "cell_type": "code",
   "execution_count": null,
   "metadata": {},
   "outputs": [],
   "source": [
    "# Трехмерная визуализация\n",
    "\n",
    "from mpl_toolkits.mplot3d import Axes3D\n",
    "import matplotlib.pyplot as plt\n",
    "from matplotlib import cm\n",
    "from matplotlib.ticker import LinearLocator, FormatStrFormatter\n",
    "\n",
    "fig = plt.figure(figsize=[8, 5])\n",
    "ax = fig.gca(projection='3d')\n",
    "ax.view_init(45, -60)\n",
    "\n",
    "surf = ax.plot_surface(ws_x, ws_y, loss_ws, cmap=cm.viridis)\n",
    "plt.show()"
   ]
  },
  {
   "cell_type": "code",
   "execution_count": null,
   "metadata": {},
   "outputs": [],
   "source": [
    "def gradient(w, x, t):\n",
    "    \"\"\"Расчет градиента\"\"\"\n",
    "    return (nn(x, w) - t).T * x\n",
    "\n",
    " \n",
    "def delta_w(w_k, x, t, learning_rate):\n",
    "    \"\"\"Шаги для каждого из весов в виде вектора {w_a, w_b}.\"\"\"\n",
    "    return learning_rate * gradient(w_k, x, t)"
   ]
  },
  {
   "cell_type": "code",
   "execution_count": null,
   "metadata": {},
   "outputs": [],
   "source": [
    "# Инициализация\n",
    "w = np.asmatrix([-4, -2])  # Случайные значения\n",
    "learning_rate = 0.05\n",
    "\n",
    "# Градиентный спуск и запись результатов\n",
    "nb_of_iterations = 8  # Число итераций\n",
    "w_iter = [w]  # Сохранение промежуточных результатов\n",
    "for i in range(nb_of_iterations):\n",
    "    dw = delta_w(w, X, t, learning_rate)  # Расчет шага\n",
    "    w = w - dw  # Обновление весов\n",
    "    w_iter.append(w)  # Сохранение результатов для визуализации"
   ]
  },
  {
   "cell_type": "code",
   "execution_count": null,
   "metadata": {},
   "outputs": [],
   "source": [
    "# Визуализация\n",
    "plt.figure(figsize=(6, 4))\n",
    "plt.contourf(ws_x, ws_y, loss_ws, 20, alpha=0.75, cmap=cm.viridis)\n",
    "cbar = plt.colorbar()\n",
    "cbar.ax.set_ylabel('loss')\n",
    "\n",
    "# Обновления\n",
    "for i in range(1, 6): \n",
    "    w1 = w_iter[i-1]\n",
    "    w2 = w_iter[i]\n",
    "    # Plot the weight-loss values that represents the update\n",
    "    plt.plot(w1[0,0], w1[0,1], marker='o', color='#3f0000')  # Plot the weight-loss value\n",
    "    plt.plot([w1[0,0], w2[0,0]], [w1[0,1], w2[0,1]], linestyle='-', color='#3f0000')\n",
    "    plt.text(w1[0,0]-0.2, w1[0,1]+0.4, f'$w({i-1})$', color='#3f0000')\n",
    "# Последний вес\n",
    "w1 = w_iter[8]  \n",
    "plt.plot(w1[0,0], w1[0,1], marker='o', color='#3f0000')\n",
    "plt.text(w1[0,0]-0.2, w1[0,1]+0.4, f'$w({i})$', color='#3f0000') \n",
    "# Итоговый график\n",
    "plt.xlabel('$w_1$', fontsize=12)\n",
    "plt.ylabel('$w_2$', fontsize=12)\n",
    "plt.title('Градиентный спуск')\n",
    "plt.show()\n",
    "#"
   ]
  },
  {
   "cell_type": "code",
   "execution_count": null,
   "metadata": {},
   "outputs": [],
   "source": [
    "# Визуализация результатов\n",
    "plt.figure(figsize=(6, 4))\n",
    "# Число интервалов\n",
    "nb_of_xs = 100\n",
    "xsa = np.linspace(-4, 4, num=nb_of_xs)\n",
    "xsb = np.linspace(-4, 4, num=nb_of_xs)\n",
    "xx, yy = np.meshgrid(xsa, xsb) # создаем решетку\n",
    "# Инициализация графика\n",
    "classification_plane = np.zeros((nb_of_xs, nb_of_xs))\n",
    "for i in range(nb_of_xs):\n",
    "    for j in range(nb_of_xs):\n",
    "        classification_plane[i,j] = nn_predict(\n",
    "            np.asmatrix([xx[i,j], yy[i,j]]) , w)\n",
    "# Цветовые поля для классов\n",
    "cmap = ListedColormap([\n",
    "        colorConverter.to_rgba('r', alpha=0.3),\n",
    "        colorConverter.to_rgba('b', alpha=0.3)])\n",
    "\n",
    "# Общая визуализация\n",
    "plt.contourf(xx, yy, classification_plane, cmap=cmap)\n",
    "plt.plot(x_red[:,0], x_red[:,1], 'r*', label='Красная звезда')\n",
    "plt.plot(x_blue[:,0], x_blue[:,1], 'bo', label='Синий круг')\n",
    "plt.legend(loc=2)\n",
    "plt.xlabel('$x_1$', fontsize=12)\n",
    "plt.ylabel('$x_2$', fontsize=12)\n",
    "plt.title('Граница разбиения')\n",
    "plt.axis([-3, 4, -4, 4])\n",
    "plt.show()\n",
    "#"
   ]
  },
  {
   "cell_type": "code",
   "execution_count": null,
   "metadata": {},
   "outputs": [],
   "source": []
  },
  {
   "cell_type": "code",
   "execution_count": null,
   "metadata": {},
   "outputs": [],
   "source": []
  }
 ],
 "metadata": {
  "kernelspec": {
   "display_name": "Python 3 (ipykernel)",
   "language": "python",
   "name": "python3"
  },
  "language_info": {
   "codemirror_mode": {
    "name": "ipython",
    "version": 3
   },
   "file_extension": ".py",
   "mimetype": "text/x-python",
   "name": "python",
   "nbconvert_exporter": "python",
   "pygments_lexer": "ipython3",
   "version": "3.11.6"
  },
  "toc": {
   "base_numbering": 1,
   "nav_menu": {},
   "number_sections": true,
   "sideBar": true,
   "skip_h1_title": false,
   "title_cell": "Table of Contents",
   "title_sidebar": "Contents",
   "toc_cell": false,
   "toc_position": {
    "height": "calc(100% - 180px)",
    "left": "10px",
    "top": "150px",
    "width": "512px"
   },
   "toc_section_display": true,
   "toc_window_display": true
  }
 },
 "nbformat": 4,
 "nbformat_minor": 4
}
