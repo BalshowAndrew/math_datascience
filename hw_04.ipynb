{
 "cells": [
  {
   "cell_type": "code",
   "execution_count": 1,
   "id": "42db87a3-1555-42cb-be69-e3b4919c6d63",
   "metadata": {},
   "outputs": [],
   "source": [
    "import numpy as np\n",
    "import sympy as sym"
   ]
  },
  {
   "cell_type": "code",
   "execution_count": 2,
   "id": "9929db6d-e92e-4ec2-b86f-4c233fcdaf94",
   "metadata": {},
   "outputs": [],
   "source": [
    "# x будет являться аналиническим параметром\n",
    "x = sym.Symbol('x')"
   ]
  },
  {
   "cell_type": "markdown",
   "id": "eb7b6ee8-603d-4ba3-bfc4-790486cd37e8",
   "metadata": {},
   "source": [
    "Задание 3"
   ]
  },
  {
   "cell_type": "code",
   "execution_count": 5,
   "id": "118497a8-9098-40bb-ba04-c9167844911e",
   "metadata": {},
   "outputs": [
    {
     "data": {
      "text/latex": [
       "$\\displaystyle 2 \\sin{\\left(3 x \\right)} + 4 \\sin{\\left(x^{2} \\right)} - 3 \\cos{\\left(2 x \\right)}$"
      ],
      "text/plain": [
       "2*sin(3*x) + 4*sin(x**2) - 3*cos(2*x)"
      ]
     },
     "execution_count": 5,
     "metadata": {},
     "output_type": "execute_result"
    }
   ],
   "source": [
    "# Зададим функцию:\n",
    "4 * sym.sin(x**2) - 3 * sym.cos(2 * x) + 2 * sym.sin(3 * x)"
   ]
  },
  {
   "cell_type": "code",
   "execution_count": 6,
   "id": "7b408389-a4fc-4f51-89a6-32e94618d559",
   "metadata": {},
   "outputs": [
    {
     "data": {
      "text/latex": [
       "$\\displaystyle 8 x \\cos{\\left(x^{2} \\right)} + 6 \\sin{\\left(2 x \\right)} + 6 \\cos{\\left(3 x \\right)}$"
      ],
      "text/plain": [
       "8*x*cos(x**2) + 6*sin(2*x) + 6*cos(3*x)"
      ]
     },
     "execution_count": 6,
     "metadata": {},
     "output_type": "execute_result"
    }
   ],
   "source": [
    "# Продифференцируем эту функцию по x:\n",
    "res = sym.diff(4 * sym.sin(x**2) - 3 * sym.cos(2 * x) + 2 * sym.sin(3 * x))\n",
    "res"
   ]
  },
  {
   "cell_type": "code",
   "execution_count": 7,
   "id": "5808d98a-561f-4ea1-b642-02b387538f96",
   "metadata": {},
   "outputs": [
    {
     "data": {
      "text/latex": [
       "$\\displaystyle 9.2285086032428$"
      ],
      "text/plain": [
       "9.22850860324280"
      ]
     },
     "execution_count": 7,
     "metadata": {},
     "output_type": "execute_result"
    }
   ],
   "source": [
    "res.subs(x, np.pi / 6)"
   ]
  },
  {
   "cell_type": "markdown",
   "id": "32b7dc40-93cd-4afe-b1a6-20e2bf9a810a",
   "metadata": {},
   "source": [
    "Задание 4"
   ]
  },
  {
   "cell_type": "code",
   "execution_count": 9,
   "id": "c20f5b41-0140-4765-b157-e644fe1d6a32",
   "metadata": {},
   "outputs": [
    {
     "data": {
      "text/latex": [
       "$\\displaystyle - 16 x^{2} \\sin{\\left(x^{2} \\right)} - 18 \\sin{\\left(3 x \\right)} + 12 \\cos{\\left(2 x \\right)} + 8 \\cos{\\left(x^{2} \\right)}$"
      ],
      "text/plain": [
       "-16*x**2*sin(x**2) - 18*sin(3*x) + 12*cos(2*x) + 8*cos(x**2)"
      ]
     },
     "execution_count": 9,
     "metadata": {},
     "output_type": "execute_result"
    }
   ],
   "source": [
    "res2 = sym.diff(res)\n",
    "res2"
   ]
  },
  {
   "cell_type": "code",
   "execution_count": 10,
   "id": "ab9976c0-f710-41fa-97b8-aa7fe462ec00",
   "metadata": {},
   "outputs": [
    {
     "data": {
      "text/latex": [
       "$\\displaystyle 8 x \\cos{\\left(x^{2} \\right)} + 6 \\sin{\\left(2 x \\right)} + 6 \\cos{\\left(3 x \\right)}$"
      ],
      "text/plain": [
       "8*x*cos(x**2) + 6*sin(2*x) + 6*cos(3*x)"
      ]
     },
     "execution_count": 10,
     "metadata": {},
     "output_type": "execute_result"
    }
   ],
   "source": [
    "8 * x * sym.cos(x ** 2) + 6 * sym.sin(2 * x) + 6 * sym.cos(3 * x)"
   ]
  },
  {
   "cell_type": "code",
   "execution_count": 12,
   "id": "240569da-f6f8-4a13-ac5c-1e6d24f3f306",
   "metadata": {},
   "outputs": [
    {
     "data": {
      "text/latex": [
       "$\\displaystyle - 16 x^{2} \\sin{\\left(x^{2} \\right)} - 18 \\sin{\\left(3 x \\right)} + 12 \\cos{\\left(2 x \\right)} + 8 \\cos{\\left(x^{2} \\right)}$"
      ],
      "text/plain": [
       "-16*x**2*sin(x**2) - 18*sin(3*x) + 12*cos(2*x) + 8*cos(x**2)"
      ]
     },
     "execution_count": 12,
     "metadata": {},
     "output_type": "execute_result"
    }
   ],
   "source": [
    "res3 = sym.diff(8 * x * sym.cos(x ** 2) + 6 * sym.sin(2 * x) + 6 * sym.cos(3 * x))\n",
    "res3"
   ]
  },
  {
   "cell_type": "code",
   "execution_count": 13,
   "id": "a622974b-ecac-4fb5-9947-695d194ed0e9",
   "metadata": {},
   "outputs": [
    {
     "data": {
      "text/latex": [
       "$\\displaystyle -5.48634025841424$"
      ],
      "text/plain": [
       "-5.48634025841424"
      ]
     },
     "execution_count": 13,
     "metadata": {},
     "output_type": "execute_result"
    }
   ],
   "source": [
    "res3.subs(x, np.pi / 6)"
   ]
  },
  {
   "cell_type": "markdown",
   "id": "16675290-c8ba-4bf7-b184-8e31648ffdae",
   "metadata": {},
   "source": [
    "Задание 5"
   ]
  },
  {
   "cell_type": "code",
   "execution_count": 19,
   "id": "e2217b48-30ac-4c1e-a22f-aeaab1c2a3e8",
   "metadata": {},
   "outputs": [
    {
     "data": {
      "text/latex": [
       "$\\displaystyle 2 x^{2} + 5 + 2.71828182845905^{- 3 x}$"
      ],
      "text/plain": [
       "2*x**2 + 5 + 2.71828182845905**(-3*x)"
      ]
     },
     "execution_count": 19,
     "metadata": {},
     "output_type": "execute_result"
    }
   ],
   "source": [
    "np.e ** (-3 * x) + 2 * x ** 2 + 5"
   ]
  },
  {
   "cell_type": "code",
   "execution_count": 27,
   "id": "ef25029c-3fcd-49ad-8f69-1095c2ec22f5",
   "metadata": {},
   "outputs": [
    {
     "data": {
      "text/latex": [
       "$\\displaystyle 2 x^{2} + 5 + e^{- 3 x}$"
      ],
      "text/plain": [
       "2*x**2 + 5 + exp(-3*x)"
      ]
     },
     "execution_count": 27,
     "metadata": {},
     "output_type": "execute_result"
    }
   ],
   "source": [
    "sym.exp(-3 * x) + 2 * x ** 2 + 5"
   ]
  },
  {
   "cell_type": "code",
   "execution_count": 21,
   "id": "ecc5834b-9ff7-488c-af72-36d4b1e86f79",
   "metadata": {},
   "outputs": [
    {
     "data": {
      "text/latex": [
       "$\\displaystyle 4 x - 3.0 \\cdot 2.71828182845905^{- 3 x}$"
      ],
      "text/plain": [
       "4*x - 3.0/2.71828182845905**(3*x)"
      ]
     },
     "execution_count": 21,
     "metadata": {},
     "output_type": "execute_result"
    }
   ],
   "source": [
    "res = sym.diff(np.e ** (-3 * x) + 2 * x ** 2 + 5)\n",
    "res"
   ]
  },
  {
   "cell_type": "code",
   "execution_count": 28,
   "id": "ca51e517-79ff-48d8-9fbd-f887c04446d3",
   "metadata": {},
   "outputs": [
    {
     "data": {
      "text/latex": [
       "$\\displaystyle 4 x - 3 e^{- 3 x}$"
      ],
      "text/plain": [
       "4*x - 3*exp(-3*x)"
      ]
     },
     "execution_count": 28,
     "metadata": {},
     "output_type": "execute_result"
    }
   ],
   "source": [
    "res1 = sym.diff(sym.exp(-3 * x) + 2 * x ** 2 + 5)\n",
    "res1"
   ]
  },
  {
   "cell_type": "code",
   "execution_count": 22,
   "id": "21073fc7-de05-443e-99ac-7b61c7aa0de7",
   "metadata": {},
   "outputs": [
    {
     "data": {
      "text/latex": [
       "$\\displaystyle 7.99256374347$"
      ],
      "text/plain": [
       "7.99256374347000"
      ]
     },
     "execution_count": 22,
     "metadata": {},
     "output_type": "execute_result"
    }
   ],
   "source": [
    "res.subs(x, 2)"
   ]
  },
  {
   "cell_type": "code",
   "execution_count": 29,
   "id": "cfbbb3c0-4b46-42a5-ace0-eabff679ffa1",
   "metadata": {},
   "outputs": [
    {
     "data": {
      "text/latex": [
       "$\\displaystyle 8 - \\frac{3}{e^{6}}$"
      ],
      "text/plain": [
       "8 - 3*exp(-6)"
      ]
     },
     "execution_count": 29,
     "metadata": {},
     "output_type": "execute_result"
    }
   ],
   "source": [
    "res1.subs(x, 2)"
   ]
  },
  {
   "cell_type": "markdown",
   "id": "f7cc571b-1b93-45c8-ad05-a3f820860c99",
   "metadata": {},
   "source": [
    "Задание 6"
   ]
  },
  {
   "cell_type": "code",
   "execution_count": 23,
   "id": "69a69a51-4e46-49cb-8807-7cba92c91956",
   "metadata": {},
   "outputs": [
    {
     "data": {
      "text/latex": [
       "$\\displaystyle 4 x - 3.0 \\cdot 2.71828182845905^{- 3 x}$"
      ],
      "text/plain": [
       "4*x - 3.0/2.71828182845905**(3*x)"
      ]
     },
     "execution_count": 23,
     "metadata": {},
     "output_type": "execute_result"
    }
   ],
   "source": [
    "4 * x - 3.0 * 2.71828182845905 ** (-3 * x)"
   ]
  },
  {
   "cell_type": "code",
   "execution_count": 24,
   "id": "7c6313f1-7e85-4f43-82ad-c0c3b3ee7787",
   "metadata": {},
   "outputs": [
    {
     "data": {
      "text/latex": [
       "$\\displaystyle 4 + 9.00000000000002 \\cdot 2.71828182845905^{- 3 x}$"
      ],
      "text/plain": [
       "4 + 9.00000000000002/2.71828182845905**(3*x)"
      ]
     },
     "execution_count": 24,
     "metadata": {},
     "output_type": "execute_result"
    }
   ],
   "source": [
    "res2 = sym.diff(4 * x - 3.0 * 2.71828182845905 ** (-3 * x))\n",
    "res2"
   ]
  },
  {
   "cell_type": "code",
   "execution_count": 25,
   "id": "15f526c6-97c3-4017-a08d-022e8b7d5c65",
   "metadata": {},
   "outputs": [
    {
     "data": {
      "text/latex": [
       "$\\displaystyle 4.02230876959$"
      ],
      "text/plain": [
       "4.02230876959000"
      ]
     },
     "execution_count": 25,
     "metadata": {},
     "output_type": "execute_result"
    }
   ],
   "source": [
    "res2.subs(x, 2)"
   ]
  },
  {
   "cell_type": "markdown",
   "id": "b4f12dcd-c418-4218-82ad-40c43eb2e33e",
   "metadata": {},
   "source": [
    "Задание 7"
   ]
  },
  {
   "cell_type": "code",
   "execution_count": 36,
   "id": "9a027cca-c811-4c85-bf6a-bcf2ca115b5e",
   "metadata": {},
   "outputs": [
    {
     "data": {
      "text/latex": [
       "$\\displaystyle - 3 \\log{\\left(x \\right)} + \\sin{\\left(x^{2} \\right)}$"
      ],
      "text/plain": [
       "-3*log(x) + sin(x**2)"
      ]
     },
     "execution_count": 36,
     "metadata": {},
     "output_type": "execute_result"
    }
   ],
   "source": [
    "sym.sin(x ** 2) - 3 * sym.ln(x)"
   ]
  },
  {
   "cell_type": "code",
   "execution_count": 37,
   "id": "84450618-adff-403a-8136-ac7aa1b3aaa0",
   "metadata": {},
   "outputs": [
    {
     "data": {
      "text/latex": [
       "$\\displaystyle 2 x \\cos{\\left(x^{2} \\right)} - \\frac{3}{x}$"
      ],
      "text/plain": [
       "2*x*cos(x**2) - 3/x"
      ]
     },
     "execution_count": 37,
     "metadata": {},
     "output_type": "execute_result"
    }
   ],
   "source": [
    "res = sym.diff(sym.sin(x ** 2) - 3 * sym.ln(x))\n",
    "res"
   ]
  },
  {
   "cell_type": "code",
   "execution_count": 38,
   "id": "e6b17cc0-7e02-42ea-9938-4a95566d97f0",
   "metadata": {},
   "outputs": [
    {
     "data": {
      "text/latex": [
       "$\\displaystyle 6 \\cos{\\left(9 \\right)} - 1$"
      ],
      "text/plain": [
       "6*cos(9) - 1"
      ]
     },
     "execution_count": 38,
     "metadata": {},
     "output_type": "execute_result"
    }
   ],
   "source": [
    "res.subs(x, 3)"
   ]
  },
  {
   "cell_type": "code",
   "execution_count": 39,
   "id": "781a460e-5ed4-4a16-8aad-384e9c60b714",
   "metadata": {},
   "outputs": [
    {
     "data": {
      "text/plain": [
       "-6.466781571308061"
      ]
     },
     "execution_count": 39,
     "metadata": {},
     "output_type": "execute_result"
    }
   ],
   "source": [
    "6 * np.cos(9) - 1"
   ]
  },
  {
   "cell_type": "markdown",
   "id": "c6cd25b9-00ae-48b8-9b28-fa62036d93d4",
   "metadata": {},
   "source": [
    "Задание 8"
   ]
  },
  {
   "cell_type": "code",
   "execution_count": 40,
   "id": "e6a3a5ce-2b4a-4883-96cd-29423b953ec5",
   "metadata": {},
   "outputs": [
    {
     "data": {
      "text/latex": [
       "$\\displaystyle 2 x \\cos{\\left(x^{2} \\right)} - \\frac{3}{x}$"
      ],
      "text/plain": [
       "2*x*cos(x**2) - 3/x"
      ]
     },
     "execution_count": 40,
     "metadata": {},
     "output_type": "execute_result"
    }
   ],
   "source": [
    "2 * x * sym.cos(x ** 2) - 3 * x ** (-1)"
   ]
  },
  {
   "cell_type": "code",
   "execution_count": 41,
   "id": "1306c0b5-1ae3-460c-b7b2-59ca2193ad11",
   "metadata": {},
   "outputs": [
    {
     "data": {
      "text/latex": [
       "$\\displaystyle - 4 x^{2} \\sin{\\left(x^{2} \\right)} + 2 \\cos{\\left(x^{2} \\right)} + \\frac{3}{x^{2}}$"
      ],
      "text/plain": [
       "-4*x**2*sin(x**2) + 2*cos(x**2) + 3/x**2"
      ]
     },
     "execution_count": 41,
     "metadata": {},
     "output_type": "execute_result"
    }
   ],
   "source": [
    "res = sym.diff(2 * x * sym.cos(x ** 2) - 3 * x ** (-1))\n",
    "res"
   ]
  },
  {
   "cell_type": "code",
   "execution_count": 42,
   "id": "dc7a5430-8c35-4b72-a9a8-e6d72b19c2aa",
   "metadata": {},
   "outputs": [
    {
     "data": {
      "text/latex": [
       "$\\displaystyle - 36 \\sin{\\left(9 \\right)} + 2 \\cos{\\left(9 \\right)} + \\frac{1}{3}$"
      ],
      "text/plain": [
       "-36*sin(9) + 2*cos(9) + 1/3"
      ]
     },
     "execution_count": 42,
     "metadata": {},
     "output_type": "execute_result"
    }
   ],
   "source": [
    "res.subs(x, 3)"
   ]
  },
  {
   "cell_type": "code",
   "execution_count": 43,
   "id": "1c7f10f2-734e-48c0-8c78-31a227c157d3",
   "metadata": {},
   "outputs": [
    {
     "data": {
      "text/plain": [
       "-16.325192659139258"
      ]
     },
     "execution_count": 43,
     "metadata": {},
     "output_type": "execute_result"
    }
   ],
   "source": [
    "-36 * np.sin(9) + 2 * np.cos(9) + 1 / 3"
   ]
  },
  {
   "cell_type": "markdown",
   "id": "511bc9d6-b9cc-438c-8999-c8b3b9865d19",
   "metadata": {},
   "source": [
    "Задание 9"
   ]
  },
  {
   "cell_type": "code",
   "execution_count": 44,
   "id": "e78c6be2-a6bc-4d9f-a7ba-92536a722e06",
   "metadata": {},
   "outputs": [
    {
     "data": {
      "text/latex": [
       "$\\displaystyle \\frac{x^{3} + 3 x + 1}{x^{2} - 2 x + 5}$"
      ],
      "text/plain": [
       "(x**3 + 3*x + 1)/(x**2 - 2*x + 5)"
      ]
     },
     "execution_count": 44,
     "metadata": {},
     "output_type": "execute_result"
    }
   ],
   "source": [
    "(x ** 3 + 3 * x + 1) / (x ** 2 - 2 * x + 5)"
   ]
  },
  {
   "cell_type": "code",
   "execution_count": 45,
   "id": "5d981ea1-bfa1-40cb-9eb0-c988dbc8269f",
   "metadata": {},
   "outputs": [
    {
     "data": {
      "text/latex": [
       "$\\displaystyle \\frac{\\left(2 - 2 x\\right) \\left(x^{3} + 3 x + 1\\right)}{\\left(x^{2} - 2 x + 5\\right)^{2}} + \\frac{3 x^{2} + 3}{x^{2} - 2 x + 5}$"
      ],
      "text/plain": [
       "(2 - 2*x)*(x**3 + 3*x + 1)/(x**2 - 2*x + 5)**2 + (3*x**2 + 3)/(x**2 - 2*x + 5)"
      ]
     },
     "execution_count": 45,
     "metadata": {},
     "output_type": "execute_result"
    }
   ],
   "source": [
    "res = sym.diff((x ** 3 + 3 * x + 1) / (x ** 2 - 2 * x + 5))\n",
    "res"
   ]
  },
  {
   "cell_type": "code",
   "execution_count": 46,
   "id": "14245921-05ed-4d03-ae45-cc3338d454fa",
   "metadata": {},
   "outputs": [
    {
     "data": {
      "text/latex": [
       "$\\displaystyle \\frac{201}{169}$"
      ],
      "text/plain": [
       "201/169"
      ]
     },
     "execution_count": 46,
     "metadata": {},
     "output_type": "execute_result"
    }
   ],
   "source": [
    "res.subs(x, 4)"
   ]
  },
  {
   "cell_type": "code",
   "execution_count": 47,
   "id": "c82a72b6-1e65-4ee9-99a6-2fd3d304d897",
   "metadata": {},
   "outputs": [
    {
     "data": {
      "text/plain": [
       "1.1893491124260356"
      ]
     },
     "execution_count": 47,
     "metadata": {},
     "output_type": "execute_result"
    }
   ],
   "source": [
    "201 / 169"
   ]
  },
  {
   "cell_type": "markdown",
   "id": "8ab827aa-b160-4529-b72e-8ab34b751eb5",
   "metadata": {},
   "source": [
    "Задание 10"
   ]
  },
  {
   "cell_type": "code",
   "execution_count": 48,
   "id": "69a5f62b-25c0-47b7-97c3-150a381ea4b0",
   "metadata": {},
   "outputs": [
    {
     "data": {
      "text/latex": [
       "$\\displaystyle \\frac{\\left(2 - 2 x\\right) \\left(x^{3} + 3 x + 1\\right)}{\\left(x^{2} - 2 x + 5\\right)^{2}} + \\frac{3 x^{2} + 3}{x^{2} - 2 x + 5}$"
      ],
      "text/plain": [
       "(2 - 2*x)*(x**3 + 3*x + 1)/(x**2 - 2*x + 5)**2 + (3*x**2 + 3)/(x**2 - 2*x + 5)"
      ]
     },
     "execution_count": 48,
     "metadata": {},
     "output_type": "execute_result"
    }
   ],
   "source": [
    "res"
   ]
  },
  {
   "cell_type": "code",
   "execution_count": 49,
   "id": "520a3b89-34ef-4a22-84ca-1d7c1c3266a2",
   "metadata": {},
   "outputs": [
    {
     "data": {
      "text/latex": [
       "$\\displaystyle \\frac{6 x}{x^{2} - 2 x + 5} + \\frac{\\left(2 - 2 x\\right) \\left(4 - 4 x\\right) \\left(x^{3} + 3 x + 1\\right)}{\\left(x^{2} - 2 x + 5\\right)^{3}} + \\frac{2 \\cdot \\left(2 - 2 x\\right) \\left(3 x^{2} + 3\\right)}{\\left(x^{2} - 2 x + 5\\right)^{2}} - \\frac{2 \\left(x^{3} + 3 x + 1\\right)}{\\left(x^{2} - 2 x + 5\\right)^{2}}$"
      ],
      "text/plain": [
       "6*x/(x**2 - 2*x + 5) + (2 - 2*x)*(4 - 4*x)*(x**3 + 3*x + 1)/(x**2 - 2*x + 5)**3 + 2*(2 - 2*x)*(3*x**2 + 3)/(x**2 - 2*x + 5)**2 - 2*(x**3 + 3*x + 1)/(x**2 - 2*x + 5)**2"
      ]
     },
     "execution_count": 49,
     "metadata": {},
     "output_type": "execute_result"
    }
   ],
   "source": [
    "res2 = sym.diff(res)\n",
    "res2"
   ]
  },
  {
   "cell_type": "code",
   "execution_count": 51,
   "id": "01a5761b-bd27-4c8d-a310-940c4006e04f",
   "metadata": {},
   "outputs": [
    {
     "data": {
      "text/latex": [
       "$\\displaystyle - \\frac{358}{2197}$"
      ],
      "text/plain": [
       "-358/2197"
      ]
     },
     "execution_count": 51,
     "metadata": {},
     "output_type": "execute_result"
    }
   ],
   "source": [
    "res2.subs(x, 4)"
   ]
  },
  {
   "cell_type": "code",
   "execution_count": 52,
   "id": "4555e8ee-d39b-43e1-9370-69d966e3e668",
   "metadata": {},
   "outputs": [
    {
     "data": {
      "text/plain": [
       "-0.162949476558944"
      ]
     },
     "execution_count": 52,
     "metadata": {},
     "output_type": "execute_result"
    }
   ],
   "source": [
    "-358 / 2197"
   ]
  },
  {
   "cell_type": "code",
   "execution_count": null,
   "id": "79f55517-001e-4f95-b043-b412d2da715b",
   "metadata": {},
   "outputs": [],
   "source": []
  }
 ],
 "metadata": {
  "kernelspec": {
   "display_name": "Python 3 (ipykernel)",
   "language": "python",
   "name": "python3"
  },
  "language_info": {
   "codemirror_mode": {
    "name": "ipython",
    "version": 3
   },
   "file_extension": ".py",
   "mimetype": "text/x-python",
   "name": "python",
   "nbconvert_exporter": "python",
   "pygments_lexer": "ipython3",
   "version": "3.11.6"
  }
 },
 "nbformat": 4,
 "nbformat_minor": 5
}
