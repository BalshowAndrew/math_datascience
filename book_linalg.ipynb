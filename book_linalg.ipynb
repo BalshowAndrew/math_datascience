{
 "cells": [
  {
   "cell_type": "code",
   "execution_count": 1,
   "id": "c130f394-f02f-427a-8a3d-429177e82dc8",
   "metadata": {},
   "outputs": [],
   "source": [
    "import numpy as np"
   ]
  },
  {
   "cell_type": "markdown",
   "id": "a9a29ca4-f05b-46f0-b14d-1922efdb2518",
   "metadata": {},
   "source": [
    "# Глава 2. Векторы. Часть 1"
   ]
  },
  {
   "cell_type": "markdown",
   "id": "4409b1cd-10b3-4b3c-a513-a002beebadf2",
   "metadata": {},
   "source": [
    "## Сложение векторов"
   ]
  },
  {
   "cell_type": "code",
   "execution_count": 2,
   "id": "dd8bd594-2b1b-4311-9c3b-1a7768ce0336",
   "metadata": {},
   "outputs": [
    {
     "name": "stdout",
     "output_type": "stream",
     "text": [
      "[4 4 4]\n"
     ]
    }
   ],
   "source": [
    "# складываем вектора-строки:\n",
    "a = np.array([1, 2, 3])\n",
    "b = np.array([3, 2, 1])\n",
    "print(a + b)"
   ]
  },
  {
   "cell_type": "code",
   "execution_count": 3,
   "id": "a688b1e4-35ac-4e96-9349-65fd6734f6a1",
   "metadata": {},
   "outputs": [
    {
     "name": "stdout",
     "output_type": "stream",
     "text": [
      "[[4]\n",
      " [4]\n",
      " [4]]\n"
     ]
    }
   ],
   "source": [
    "# складываем вектора-столбцы:\n",
    "a = np.array([[1, 2, 3]]).T\n",
    "b = np.array([[3, 2, 1]]).T\n",
    "print(a + b)"
   ]
  },
  {
   "cell_type": "markdown",
   "id": "6929a36a-37a8-4057-a450-509bdf6b8898",
   "metadata": {},
   "source": [
    "### Транслирование"
   ]
  },
  {
   "cell_type": "code",
   "execution_count": 4,
   "id": "b7e13da0-5302-4bfe-bec8-1d82319d885d",
   "metadata": {},
   "outputs": [
    {
     "name": "stdout",
     "output_type": "stream",
     "text": [
      "[[14 15 16]\n",
      " [24 25 26]\n",
      " [34 35 36]]\n"
     ]
    }
   ],
   "source": [
    "# складываем вектор-строку с вектором-столбцом:\n",
    "v = np.array([[4, 5, 6]])\n",
    "w = np.array([[10, 20, 30]]).T\n",
    "print(v + w)"
   ]
  },
  {
   "cell_type": "code",
   "execution_count": 5,
   "id": "d3e2be3b-6424-4bb1-b86c-5e13e63b503b",
   "metadata": {},
   "outputs": [
    {
     "name": "stdout",
     "output_type": "stream",
     "text": [
      "[[14 24 34]\n",
      " [15 25 35]\n",
      " [16 26 36]]\n"
     ]
    }
   ],
   "source": [
    "# изменим ориентацию векторов:\n",
    "v = np.array([[4, 5, 6]]).T\n",
    "w = np.array([[10, 20, 30]])\n",
    "print(v + w)"
   ]
  },
  {
   "cell_type": "code",
   "execution_count": 6,
   "id": "e4e3d626-cc30-4e7a-848d-82c65a2073f0",
   "metadata": {},
   "outputs": [
    {
     "name": "stdout",
     "output_type": "stream",
     "text": [
      "[[14 24 34 44]\n",
      " [15 25 35 45]\n",
      " [16 26 36 46]]\n",
      "(3, 4)\n"
     ]
    }
   ],
   "source": [
    "# сложим вектора разного размера\n",
    "v = np.array([[4, 5, 6]]).T\n",
    "w = np.array([[10, 20, 30, 40]])\n",
    "print(v + w) # сложение при помощи транслирования\n",
    "print((v + w).shape)"
   ]
  },
  {
   "cell_type": "code",
   "execution_count": 7,
   "id": "aecc20f9-3c83-4c78-abc1-74f41a616e7c",
   "metadata": {},
   "outputs": [
    {
     "name": "stdout",
     "output_type": "stream",
     "text": [
      "[[14 15 16]\n",
      " [24 25 26]\n",
      " [34 35 36]\n",
      " [44 45 46]]\n",
      "(4, 3)\n"
     ]
    }
   ],
   "source": [
    "# изменим ориентацию векторов\n",
    "v = np.array([[4, 5, 6]])\n",
    "w = np.array([[10, 20, 30, 40]]).T\n",
    "print(v + w) # сложение при помощи транслирования\n",
    "print((v + w).shape)"
   ]
  },
  {
   "cell_type": "markdown",
   "id": "0a084f2d-faad-4e43-83c1-a40b0ee437e2",
   "metadata": {},
   "source": [
    "## Умножение вектора на скаляр"
   ]
  },
  {
   "cell_type": "code",
   "execution_count": 8,
   "id": "32980e9a-7b06-431a-a2ef-3da707a6c66e",
   "metadata": {},
   "outputs": [
    {
     "name": "stdout",
     "output_type": "stream",
     "text": [
      "[3, 4, 5, 3, 4, 5]\n",
      "[ 6  8 10]\n",
      "[[ 6]\n",
      " [ 8]\n",
      " [10]]\n"
     ]
    }
   ],
   "source": [
    "s = 2\n",
    "a = [3, 4, 5]\n",
    "b = np.array(a)\n",
    "c = np.array([a]).T\n",
    "print(a * s)\n",
    "print(b * s)\n",
    "print(c * s)"
   ]
  },
  {
   "cell_type": "markdown",
   "id": "00fb948c-fd15-45b5-82ec-b22dc3294fc5",
   "metadata": {},
   "source": [
    "## Сложение скаляра с вектором"
   ]
  },
  {
   "cell_type": "markdown",
   "id": "d9459ef5-e7a8-46d4-b190-c9469260fb1d",
   "metadata": {},
   "source": [
    "Это действие в формально в линейной алгебре не определено, однако программы числовой обработки позволяют складывать скаляры с векторами:"
   ]
  },
  {
   "cell_type": "code",
   "execution_count": 9,
   "id": "776a9b1b-8e35-48b5-b4c9-26e84ae8ceef",
   "metadata": {},
   "outputs": [
    {
     "name": "stdout",
     "output_type": "stream",
     "text": [
      "[5 8]\n",
      "[[5]\n",
      " [8]]\n"
     ]
    }
   ],
   "source": [
    "s = 2\n",
    "v = np.array([3, 6])\n",
    "v_t = np.array([[3, 6]]).T\n",
    "print(s + v)\n",
    "print(s + v_t)"
   ]
  },
  {
   "cell_type": "markdown",
   "id": "0436d106-4c1c-41da-a8bd-70e6f87a40e2",
   "metadata": {},
   "source": [
    "Быдо выполнено прибавление скаляра к каждому элементу вектора."
   ]
  },
  {
   "cell_type": "markdown",
   "id": "a43302ab-3d0c-47c8-895b-ed439a07eea2",
   "metadata": {},
   "source": [
    "## Геометрическое умножение вектора на скаляр"
   ]
  },
  {
   "cell_type": "code",
   "execution_count": 10,
   "id": "9f82d865-34f6-4b8c-9c70-42e5e2b7aeb6",
   "metadata": {},
   "outputs": [
    {
     "name": "stdout",
     "output_type": "stream",
     "text": [
      "[1.  2.  2.5]\n",
      "[[1. ]\n",
      " [2. ]\n",
      " [2.5]]\n"
     ]
    }
   ],
   "source": [
    "s = 0.25\n",
    "v = np.array([4, 8, 10])\n",
    "v_t = np.array([[4, 8, 10]]).T\n",
    "print(s * v)\n",
    "print(s * v_t)"
   ]
  },
  {
   "cell_type": "markdown",
   "id": "2981b8ef-e5df-4413-a0bc-5a33ed5429a4",
   "metadata": {},
   "source": [
    "#### Усреднение векторов"
   ]
  },
  {
   "cell_type": "markdown",
   "id": "e2c9bc4c-2f2d-4d3a-bbb8-6c31fdf92461",
   "metadata": {},
   "source": [
    "Это умножение вектора на скаляр в сочетании со сложение векторов:"
   ]
  },
  {
   "cell_type": "code",
   "execution_count": 11,
   "id": "7e25c444-e6b0-4de2-9692-d21ad69cb009",
   "metadata": {},
   "outputs": [
    {
     "data": {
      "text/plain": [
       "array([[1.],\n",
       "       [2.],\n",
       "       [3.]])"
      ]
     },
     "execution_count": 11,
     "metadata": {},
     "output_type": "execute_result"
    }
   ],
   "source": [
    "v = np.array([[1, 2, 3]]).T\n",
    "u = np.array([[2, 4, 6]]).T\n",
    "n = len(v)\n",
    "m = (v + u) * (1/n)\n",
    "m"
   ]
  },
  {
   "cell_type": "markdown",
   "id": "fb67c6b5-7175-46f9-9efd-5d27076f2675",
   "metadata": {},
   "source": [
    "## Модуль вектора и единичные векторы"
   ]
  },
  {
   "cell_type": "code",
   "execution_count": 12,
   "id": "de575155-6f31-4b14-a3ab-6d635bac0aaf",
   "metadata": {},
   "outputs": [
    {
     "name": "stdout",
     "output_type": "stream",
     "text": [
      "Размерность массива = 6\n",
      "Модуль вектора = 14.422205101855956\n"
     ]
    }
   ],
   "source": [
    "# вычислим норму (модуль) вектора:\n",
    "v = np.array([1, 2, 3, 7, 8, 9])\n",
    "v_dim = len(v)\n",
    "v_mag = np.linalg.norm(v)\n",
    "print(f\"Размерность массива = {v_dim}\", f\"Модуль вектора = {v_mag}\", sep=\"\\n\")"
   ]
  },
  {
   "cell_type": "code",
   "execution_count": 13,
   "id": "8dae583f-843b-4e80-9b4c-a38b13d9249f",
   "metadata": {},
   "outputs": [
    {
     "data": {
      "text/plain": [
       "array([0.06933752, 0.13867505, 0.20801257, 0.48536267, 0.5547002 ,\n",
       "       0.62403772])"
      ]
     },
     "execution_count": 13,
     "metadata": {},
     "output_type": "execute_result"
    }
   ],
   "source": [
    "# Вычислим единичные вектор:\n",
    "v_one = v * (1 / v_mag)\n",
    "v_one"
   ]
  },
  {
   "cell_type": "code",
   "execution_count": 14,
   "id": "54605ee5-3bc7-4a81-8d66-2985b72423d4",
   "metadata": {},
   "outputs": [
    {
     "data": {
      "text/plain": [
       "1.0"
      ]
     },
     "execution_count": 14,
     "metadata": {},
     "output_type": "execute_result"
    }
   ],
   "source": [
    "# Проверочка:\n",
    "np.linalg.norm(v_one)"
   ]
  },
  {
   "cell_type": "markdown",
   "id": "eb8adbe0-607e-4559-b747-058ff7e010fd",
   "metadata": {},
   "source": [
    "## Точечное произведение векторов"
   ]
  },
  {
   "cell_type": "markdown",
   "id": "32febac6-56d8-455e-8243-d96320b75d8d",
   "metadata": {},
   "source": [
    "**Точечное произведение** - это одно число, которое представляет информацию о взаимосвязи между двумя векторами.\n",
    "\n",
    "Точечное произведение допустимо только между двумя векторами одинаковой размерности."
   ]
  },
  {
   "cell_type": "code",
   "execution_count": 15,
   "id": "637da773-b42c-4fbd-8f7b-a266387be8cc",
   "metadata": {},
   "outputs": [
    {
     "data": {
      "text/plain": [
       "70"
      ]
     },
     "execution_count": 15,
     "metadata": {},
     "output_type": "execute_result"
    }
   ],
   "source": [
    "v = np.array([1, 2, 3, 4])\n",
    "w = np.array([5, 6, 7, 8])\n",
    "np.dot(v, w)"
   ]
  },
  {
   "cell_type": "markdown",
   "id": "08818d40-7096-4e01-96d4-5d4c270bb004",
   "metadata": {},
   "source": [
    "**Свойство:** умножение одного вектора на скаляр шкалирует точечное произведение на то же число:"
   ]
  },
  {
   "cell_type": "code",
   "execution_count": 16,
   "id": "de0f182c-b862-4e9c-9bc2-f0d6253dc6fe",
   "metadata": {},
   "outputs": [
    {
     "data": {
      "text/plain": [
       "700"
      ]
     },
     "execution_count": 16,
     "metadata": {},
     "output_type": "execute_result"
    }
   ],
   "source": [
    "s = 10\n",
    "np.dot(s * v, w)"
   ]
  },
  {
   "cell_type": "markdown",
   "id": "5b3bf02f-08fb-46be-8c4d-fbfd9f89401f",
   "metadata": {},
   "source": [
    "Точечные произведения лежат в основе умножения матриц."
   ]
  },
  {
   "cell_type": "code",
   "execution_count": 17,
   "id": "644f1303-a39d-4e42-96cc-298f5d8e845e",
   "metadata": {},
   "outputs": [
    {
     "data": {
      "text/plain": [
       "array([70])"
      ]
     },
     "execution_count": 17,
     "metadata": {},
     "output_type": "execute_result"
    }
   ],
   "source": [
    "# изменим ориентацию второго вектора\n",
    "v = np.array([1, 2, 3, 4])\n",
    "w = np.array([[5, 6, 7, 8]]).T\n",
    "np.dot(v, w)"
   ]
  },
  {
   "cell_type": "code",
   "execution_count": 18,
   "id": "72dc5700-f190-4e50-88e2-69045cb91765",
   "metadata": {},
   "outputs": [
    {
     "ename": "ValueError",
     "evalue": "shapes (4,1) and (4,) not aligned: 1 (dim 1) != 4 (dim 0)",
     "output_type": "error",
     "traceback": [
      "\u001b[0;31m---------------------------------------------------------------------------\u001b[0m",
      "\u001b[0;31mValueError\u001b[0m                                Traceback (most recent call last)",
      "Cell \u001b[0;32mIn[18], line 4\u001b[0m\n\u001b[1;32m      2\u001b[0m v \u001b[38;5;241m=\u001b[39m np\u001b[38;5;241m.\u001b[39marray([[\u001b[38;5;241m1\u001b[39m, \u001b[38;5;241m2\u001b[39m, \u001b[38;5;241m3\u001b[39m, \u001b[38;5;241m4\u001b[39m]])\u001b[38;5;241m.\u001b[39mT\n\u001b[1;32m      3\u001b[0m w \u001b[38;5;241m=\u001b[39m np\u001b[38;5;241m.\u001b[39marray([\u001b[38;5;241m5\u001b[39m, \u001b[38;5;241m6\u001b[39m, \u001b[38;5;241m7\u001b[39m, \u001b[38;5;241m8\u001b[39m])\n\u001b[0;32m----> 4\u001b[0m \u001b[43mnp\u001b[49m\u001b[38;5;241;43m.\u001b[39;49m\u001b[43mdot\u001b[49m\u001b[43m(\u001b[49m\u001b[43mv\u001b[49m\u001b[43m,\u001b[49m\u001b[43m \u001b[49m\u001b[43mw\u001b[49m\u001b[43m)\u001b[49m\n",
      "File \u001b[0;32m<__array_function__ internals>:200\u001b[0m, in \u001b[0;36mdot\u001b[0;34m(*args, **kwargs)\u001b[0m\n",
      "\u001b[0;31mValueError\u001b[0m: shapes (4,1) and (4,) not aligned: 1 (dim 1) != 4 (dim 0)"
     ]
    }
   ],
   "source": [
    "# изменим ориентацию первого вектора\n",
    "v = np.array([[1, 2, 3, 4]]).T\n",
    "w = np.array([5, 6, 7, 8])\n",
    "np.dot(v, w)"
   ]
  },
  {
   "cell_type": "markdown",
   "id": "b42c81af-2eca-4352-b61b-a31e52a045a5",
   "metadata": {},
   "source": [
    "### Свойство дистрибутивности точечного произведения:"
   ]
  },
  {
   "cell_type": "code",
   "execution_count": 19,
   "id": "17a219c2-4e76-4fda-9ff2-6a08f03fd746",
   "metadata": {},
   "outputs": [
    {
     "data": {
      "text/plain": [
       "True"
      ]
     },
     "execution_count": 19,
     "metadata": {},
     "output_type": "execute_result"
    }
   ],
   "source": [
    "a = np.array([0, 1, 2])\n",
    "b = np.array([3, 5, 8])\n",
    "c = np.array([13, 21, 34])\n",
    "# точечное произведение дистрибутивно:\n",
    "res1 = np.dot(a, b + c)\n",
    "res2 = np.dot(a, b) + np.dot(a, c)\n",
    "res1 == res2"
   ]
  },
  {
   "cell_type": "markdown",
   "id": "42b85224-7242-4a3c-8c68-f07ef206557f",
   "metadata": {},
   "source": [
    "## Адамарово умножение"
   ]
  },
  {
   "cell_type": "code",
   "execution_count": 20,
   "id": "0578b639-b469-4fea-b1de-4c49bc49c457",
   "metadata": {},
   "outputs": [
    {
     "data": {
      "text/plain": [
       "array([5., 0., 4., 4.])"
      ]
     },
     "execution_count": 20,
     "metadata": {},
     "output_type": "execute_result"
    }
   ],
   "source": [
    "a = np.array([5, 4, 8, 2])\n",
    "b = np.array([1, 0, .5, 2])\n",
    "a * b"
   ]
  },
  {
   "cell_type": "markdown",
   "id": "d0b43a59-9ab0-42f9-8e67-2bdcde7659c6",
   "metadata": {},
   "source": [
    "## Внешнее произведение"
   ]
  },
  {
   "cell_type": "code",
   "execution_count": 21,
   "id": "474e7a09-45d1-4f1f-819c-a323fe4a7ef9",
   "metadata": {},
   "outputs": [
    {
     "data": {
      "text/plain": [
       "array([[5. , 0. , 2.5],\n",
       "       [4. , 0. , 2. ],\n",
       "       [8. , 0. , 4. ],\n",
       "       [2. , 0. , 1. ]])"
      ]
     },
     "execution_count": 21,
     "metadata": {},
     "output_type": "execute_result"
    }
   ],
   "source": [
    "a = np.array([5, 4, 8, 2])\n",
    "b = np.array([1, 0, .5])\n",
    "np.outer(a, b)"
   ]
  },
  {
   "cell_type": "code",
   "execution_count": 22,
   "id": "e81f3e3f-ebea-49ea-aafa-0e9e681f0f16",
   "metadata": {},
   "outputs": [
    {
     "data": {
      "text/plain": [
       "array([[5. , 4. , 8. , 2. ],\n",
       "       [0. , 0. , 0. , 0. ],\n",
       "       [2.5, 2. , 4. , 1. ]])"
      ]
     },
     "execution_count": 22,
     "metadata": {},
     "output_type": "execute_result"
    }
   ],
   "source": [
    "a = np.array([5, 4, 8, 2])\n",
    "b = np.array([1, 0, .5])\n",
    "np.outer(b, a)"
   ]
  },
  {
   "cell_type": "markdown",
   "id": "f6ed9691-e830-41ff-b72f-bd55eb2d185e",
   "metadata": {},
   "source": [
    "## Ортогональное разложение векторов"
   ]
  },
  {
   "cell_type": "code",
   "execution_count": null,
   "id": "6d40c88b-c7e9-484c-94ef-664a1eee25b1",
   "metadata": {},
   "outputs": [],
   "source": []
  }
 ],
 "metadata": {
  "kernelspec": {
   "display_name": "Python 3 (ipykernel)",
   "language": "python",
   "name": "python3"
  },
  "language_info": {
   "codemirror_mode": {
    "name": "ipython",
    "version": 3
   },
   "file_extension": ".py",
   "mimetype": "text/x-python",
   "name": "python",
   "nbconvert_exporter": "python",
   "pygments_lexer": "ipython3",
   "version": "3.11.6"
  }
 },
 "nbformat": 4,
 "nbformat_minor": 5
}
