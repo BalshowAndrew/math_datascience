{
 "cells": [
  {
   "cell_type": "markdown",
   "id": "c4f2a0f1-7d5b-4d40-aa0d-00cf4dd38aee",
   "metadata": {},
   "source": [
    "# Домашнее задание \"Линейная алгебра. Матрицы\"."
   ]
  },
  {
   "cell_type": "markdown",
   "id": "464ea8b4-a3e3-4510-9b97-b5baf732710f",
   "metadata": {},
   "source": [
    "## Уровень 0:"
   ]
  },
  {
   "cell_type": "markdown",
   "id": "ca0e27b4-f0cb-4ab0-87b4-d17444a52062",
   "metadata": {},
   "source": [
    "### Задание 1"
   ]
  },
  {
   "cell_type": "code",
   "execution_count": 1,
   "id": "eb65138d-aaab-4ed0-b56c-3e7e78a746b9",
   "metadata": {},
   "outputs": [],
   "source": [
    "import numpy as np"
   ]
  },
  {
   "cell_type": "markdown",
   "id": "57530354-88c8-4e56-b051-c70c3cdc44e1",
   "metadata": {},
   "source": [
    "1. Создайте матрицу 3 на 3, заполненную числами от 1 до 9"
   ]
  },
  {
   "cell_type": "code",
   "execution_count": 2,
   "id": "fb240cd1-3502-4da9-a8d5-4641287b0b51",
   "metadata": {},
   "outputs": [
    {
     "data": {
      "text/plain": [
       "matrix([[1, 4, 7],\n",
       "        [2, 5, 8],\n",
       "        [3, 6, 9]])"
      ]
     },
     "execution_count": 2,
     "metadata": {},
     "output_type": "execute_result"
    }
   ],
   "source": [
    "# Создаем матрицу 3 х 3\n",
    "A = np.matrix(\"1 4 7; 2 5 8; 3 6 9\")\n",
    "A"
   ]
  },
  {
   "cell_type": "markdown",
   "id": "315c70b1-7f98-46ac-bb77-7d36fb8bf87d",
   "metadata": {},
   "source": [
    "2. Прибавьте к ней матрицу с единицами на диагонали"
   ]
  },
  {
   "cell_type": "code",
   "execution_count": 3,
   "id": "cefb33f2-bcaf-4d37-8436-179eb60a1808",
   "metadata": {},
   "outputs": [
    {
     "data": {
      "text/plain": [
       "array([[1., 0., 0.],\n",
       "       [0., 1., 0.],\n",
       "       [0., 0., 1.]])"
      ]
     },
     "execution_count": 3,
     "metadata": {},
     "output_type": "execute_result"
    }
   ],
   "source": [
    "B = np.eye(3)\n",
    "B"
   ]
  },
  {
   "cell_type": "code",
   "execution_count": 4,
   "id": "71d9dc5d-4e9d-4e24-a7de-f7b388fdec77",
   "metadata": {},
   "outputs": [
    {
     "data": {
      "text/plain": [
       "matrix([[ 2.,  4.,  7.],\n",
       "        [ 2.,  6.,  8.],\n",
       "        [ 3.,  6., 10.]])"
      ]
     },
     "execution_count": 4,
     "metadata": {},
     "output_type": "execute_result"
    }
   ],
   "source": [
    "A = A + B\n",
    "A"
   ]
  },
  {
   "cell_type": "markdown",
   "id": "8f95f3d6-d864-48e8-9e19-ff73e9337248",
   "metadata": {},
   "source": [
    "3. Умножьте полученную матрицу на вектор (1, 2, 3)"
   ]
  },
  {
   "cell_type": "code",
   "execution_count": 5,
   "id": "11cf3222-8033-43e6-b09d-0556b5371b17",
   "metadata": {},
   "outputs": [
    {
     "data": {
      "text/plain": [
       "array([1, 2, 3])"
      ]
     },
     "execution_count": 5,
     "metadata": {},
     "output_type": "execute_result"
    }
   ],
   "source": [
    "v = np.array([1, 2, 3])\n",
    "v"
   ]
  },
  {
   "cell_type": "code",
   "execution_count": 6,
   "id": "7e034e2e-6562-452c-bee1-997c70fad1c0",
   "metadata": {},
   "outputs": [
    {
     "data": {
      "text/plain": [
       "matrix([[31., 38., 45.]])"
      ]
     },
     "execution_count": 6,
     "metadata": {},
     "output_type": "execute_result"
    }
   ],
   "source": [
    "np.dot(A, v)"
   ]
  },
  {
   "cell_type": "markdown",
   "id": "3e719005-de7e-4fae-a6b8-edf61a8433d6",
   "metadata": {},
   "source": [
    "4. Вычислить транспонированную матрицу от полученной в результате прибавления матрицы"
   ]
  },
  {
   "cell_type": "code",
   "execution_count": 8,
   "id": "c8bc1e3a-39a9-4866-b5d9-a580381e7149",
   "metadata": {},
   "outputs": [
    {
     "data": {
      "text/plain": [
       "matrix([[ 2.,  2.,  3.],\n",
       "        [ 4.,  6.,  6.],\n",
       "        [ 7.,  8., 10.]])"
      ]
     },
     "execution_count": 8,
     "metadata": {},
     "output_type": "execute_result"
    }
   ],
   "source": [
    "A_transp = A.T\n",
    "A_transp"
   ]
  },
  {
   "cell_type": "markdown",
   "id": "5c9ccab6-853a-4aed-9d2b-e76991c9928b",
   "metadata": {},
   "source": [
    "5. Посчитайте обратную матрицу к полученной в результате прибавления матрице"
   ]
  },
  {
   "cell_type": "code",
   "execution_count": 9,
   "id": "0ecd963c-5d37-43d6-8595-3cde4b2a4d4a",
   "metadata": {},
   "outputs": [
    {
     "data": {
      "text/plain": [
       "matrix([[-6. , -1. ,  5. ],\n",
       "        [-2. ,  0.5,  1. ],\n",
       "        [ 3. ,  0. , -2. ]])"
      ]
     },
     "execution_count": 9,
     "metadata": {},
     "output_type": "execute_result"
    }
   ],
   "source": [
    "A_inv = np.linalg.inv(A)\n",
    "A_inv"
   ]
  },
  {
   "cell_type": "code",
   "execution_count": 10,
   "id": "01afbd65-bd5a-4458-b14c-383bfd83ec48",
   "metadata": {},
   "outputs": [
    {
     "data": {
      "text/plain": [
       "matrix([[ 1.00000000e+00,  0.00000000e+00,  0.00000000e+00],\n",
       "        [ 0.00000000e+00,  1.00000000e+00,  0.00000000e+00],\n",
       "        [-3.55271368e-15,  0.00000000e+00,  1.00000000e+00]])"
      ]
     },
     "execution_count": 10,
     "metadata": {},
     "output_type": "execute_result"
    }
   ],
   "source": [
    "# проверка:\n",
    "A @ A_inv"
   ]
  },
  {
   "cell_type": "markdown",
   "id": "9f5edb8c-16d0-45e6-9f9e-bff1bb7a17e5",
   "metadata": {},
   "source": [
    "## Уровень 1:"
   ]
  },
  {
   "cell_type": "markdown",
   "id": "0d32cdfa-a443-46a2-b299-4b45af39009a",
   "metadata": {},
   "source": [
    "### Задание 2"
   ]
  },
  {
   "cell_type": "markdown",
   "id": "4fc571f1-b73d-4aca-9c87-1cb57aa883c0",
   "metadata": {},
   "source": [
    "Найдите собственные значения и собственные вектора матрицы:\n",
    "\n",
    "m = np.array([[2, 2],\n",
    "              [1, 3]])"
   ]
  },
  {
   "cell_type": "code",
   "execution_count": 12,
   "id": "6f623479-1527-4deb-8989-2cfcd0369702",
   "metadata": {},
   "outputs": [
    {
     "data": {
      "text/plain": [
       "array([[2, 2],\n",
       "       [1, 3]])"
      ]
     },
     "execution_count": 12,
     "metadata": {},
     "output_type": "execute_result"
    }
   ],
   "source": [
    "m = np.array([[2, 2], [1, 3]])\n",
    "m"
   ]
  },
  {
   "cell_type": "code",
   "execution_count": 22,
   "id": "82cfe07c-4a0b-400d-b097-d4b6fb87b3b9",
   "metadata": {},
   "outputs": [
    {
     "name": "stdout",
     "output_type": "stream",
     "text": [
      "Собственные значения матрицы m: [1. 4.]\n"
     ]
    }
   ],
   "source": [
    "# Собственные значения матрицы:\n",
    "print(f\"Собственные значения матрицы m: {np.linalg.eigvals(m)}\")"
   ]
  },
  {
   "cell_type": "code",
   "execution_count": 23,
   "id": "3f19be53-919a-4d12-b94e-c6b58867d4f2",
   "metadata": {},
   "outputs": [
    {
     "name": "stdout",
     "output_type": "stream",
     "text": [
      "Первый собственный вектор: [-0.89442719  0.4472136 ]\n",
      "Второй собственный вектор: [-0.70710678 -0.70710678]\n"
     ]
    }
   ],
   "source": [
    "# Собственные вектора матрицы:\n",
    "res = np.linalg.eig(m)[1].T\n",
    "# Первый вектор:\n",
    "print(f\"Первый собственный вектор: {res[0]}\")\n",
    "print(f\"Второй собственный вектор: {res[1]}\")"
   ]
  },
  {
   "cell_type": "markdown",
   "id": "ccf0d21a-a271-45da-86f0-a8bd9ed7fc04",
   "metadata": {},
   "source": [
    "### Задание 3"
   ]
  },
  {
   "cell_type": "markdown",
   "id": "8b344b05-128e-4eba-8bb1-79a3e9b3f4fa",
   "metadata": {},
   "source": [
    "Придумайте матрицу, у которой определитель = 1, и все элементы не равны 0.\n",
    "\n",
    "P.S. Матрица должна быть ненулевой и размерностью не менее 2!"
   ]
  },
  {
   "cell_type": "code",
   "execution_count": 24,
   "id": "c9850275-76f8-478c-a91b-372e0801d248",
   "metadata": {},
   "outputs": [
    {
     "data": {
      "text/plain": [
       "matrix([[2, 3],\n",
       "        [3, 5]])"
      ]
     },
     "execution_count": 24,
     "metadata": {},
     "output_type": "execute_result"
    }
   ],
   "source": [
    "A = np.matrix(\"2 3; 3 5\")\n",
    "A"
   ]
  },
  {
   "cell_type": "code",
   "execution_count": 34,
   "id": "167792c4-75bc-46d5-be62-fdf9e3f2c049",
   "metadata": {},
   "outputs": [
    {
     "name": "stdout",
     "output_type": "stream",
     "text": [
      "Определитель матрицы A = 1.0\n"
     ]
    }
   ],
   "source": [
    "det = np.linalg.det(A)\n",
    "print(f\"Определитель матрицы A = {det.round()}\")"
   ]
  },
  {
   "cell_type": "code",
   "execution_count": 35,
   "id": "6aef9a8b-4063-43a3-b8fc-98d820ea863a",
   "metadata": {},
   "outputs": [
    {
     "name": "stdout",
     "output_type": "stream",
     "text": [
      "Ранг матрицы А = 2\n"
     ]
    }
   ],
   "source": [
    "r = np.linalg.matrix_rank(A)\n",
    "print(f\"Ранг матрицы А = {r}\")"
   ]
  }
 ],
 "metadata": {
  "kernelspec": {
   "display_name": "Python 3 (ipykernel)",
   "language": "python",
   "name": "python3"
  },
  "language_info": {
   "codemirror_mode": {
    "name": "ipython",
    "version": 3
   },
   "file_extension": ".py",
   "mimetype": "text/x-python",
   "name": "python",
   "nbconvert_exporter": "python",
   "pygments_lexer": "ipython3",
   "version": "3.11.6"
  }
 },
 "nbformat": 4,
 "nbformat_minor": 5
}
