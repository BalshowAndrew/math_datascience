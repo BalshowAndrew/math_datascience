{
 "cells": [
  {
   "cell_type": "code",
   "execution_count": 1,
   "id": "fbfdc517-b6fc-465c-a002-082887a10095",
   "metadata": {},
   "outputs": [],
   "source": [
    "import numpy as np\n",
    "import matplotlib.pyplot as plt"
   ]
  },
  {
   "cell_type": "markdown",
   "id": "4100bc54-a8ac-48a5-b404-3a898be95c3c",
   "metadata": {
    "jp-MarkdownHeadingCollapsed": true
   },
   "source": [
    "## 1.1 Векторы"
   ]
  },
  {
   "cell_type": "code",
   "execution_count": 2,
   "id": "95e05424-a950-44ff-9148-5b589a58e8e6",
   "metadata": {},
   "outputs": [
    {
     "data": {
      "text/plain": [
       "array([1.        , 2.        , 3.        , 3.14159265, 5.25      ])"
      ]
     },
     "execution_count": 2,
     "metadata": {},
     "output_type": "execute_result"
    }
   ],
   "source": [
    "# зададим вектор с размерностью 5\n",
    "v = np.array([1, 2, 3, np.pi, 5.25])\n",
    "v"
   ]
  },
  {
   "cell_type": "code",
   "execution_count": 3,
   "id": "c8e7b9b3-4176-4efa-a6ab-eaa4b1ec1cb3",
   "metadata": {},
   "outputs": [
    {
     "data": {
      "text/plain": [
       "(5,)"
      ]
     },
     "execution_count": 3,
     "metadata": {},
     "output_type": "execute_result"
    }
   ],
   "source": [
    "v.shape"
   ]
  },
  {
   "cell_type": "code",
   "execution_count": 4,
   "id": "ade4e048-3f8f-431f-a331-cad5c4c0d01d",
   "metadata": {},
   "outputs": [
    {
     "data": {
      "text/plain": [
       "numpy.ndarray"
      ]
     },
     "execution_count": 4,
     "metadata": {},
     "output_type": "execute_result"
    }
   ],
   "source": [
    "type(v)"
   ]
  },
  {
   "cell_type": "code",
   "execution_count": 5,
   "id": "8fc35bb5-fa95-4a11-a060-8761d7962fc9",
   "metadata": {},
   "outputs": [
    {
     "data": {
      "text/plain": [
       "array([[1.        ],\n",
       "       [2.        ],\n",
       "       [3.        ],\n",
       "       [3.14159265],\n",
       "       [2.25      ]])"
      ]
     },
     "execution_count": 5,
     "metadata": {},
     "output_type": "execute_result"
    }
   ],
   "source": [
    "v = np.array([[1], [2], [3], [np.pi], [2.25]])\n",
    "v"
   ]
  },
  {
   "cell_type": "code",
   "execution_count": 6,
   "id": "833471a4-bf8f-4291-a642-4f0f853e792e",
   "metadata": {},
   "outputs": [
    {
     "data": {
      "text/plain": [
       "(5, 1)"
      ]
     },
     "execution_count": 6,
     "metadata": {},
     "output_type": "execute_result"
    }
   ],
   "source": [
    "# определение размерности вектора\n",
    "v.shape"
   ]
  },
  {
   "cell_type": "code",
   "execution_count": 7,
   "id": "6fbf5e3f-ac15-4dac-83a3-c61fb461e9d3",
   "metadata": {},
   "outputs": [
    {
     "data": {
      "text/plain": [
       "numpy.ndarray"
      ]
     },
     "execution_count": 7,
     "metadata": {},
     "output_type": "execute_result"
    }
   ],
   "source": [
    "type(v)"
   ]
  },
  {
   "cell_type": "markdown",
   "id": "1e4c7265-6105-4643-b497-1d16dfe6d8cf",
   "metadata": {},
   "source": [
    "#### Нулевые векторы"
   ]
  },
  {
   "cell_type": "code",
   "execution_count": 8,
   "id": "77acd416-7d7f-4ed4-bb7e-82b8a2b463b0",
   "metadata": {},
   "outputs": [
    {
     "data": {
      "text/plain": [
       "array([0., 0., 0., 0., 0.])"
      ]
     },
     "execution_count": 8,
     "metadata": {},
     "output_type": "execute_result"
    }
   ],
   "source": [
    "# задаем нулевой горигонтальный вектор\n",
    "v_hor_zeros_v1 = np.zeros((5,))\n",
    "v_hor_zeros_v1"
   ]
  },
  {
   "cell_type": "code",
   "execution_count": 9,
   "id": "9b7ccb77-2cd4-48aa-a04d-23c0b2f697e6",
   "metadata": {},
   "outputs": [
    {
     "data": {
      "text/plain": [
       "array([[0., 0., 0., 0., 0.]])"
      ]
     },
     "execution_count": 9,
     "metadata": {},
     "output_type": "execute_result"
    }
   ],
   "source": [
    "# следующий горизонтальный вектор является элементом массива, его можно транспонировать\n",
    "v_hor_zeros_v2 = np.zeros((1, 5))\n",
    "v_hor_zeros_v2"
   ]
  },
  {
   "cell_type": "code",
   "execution_count": 10,
   "id": "0ce9b95c-3231-4eda-8154-2032c7a15115",
   "metadata": {},
   "outputs": [
    {
     "data": {
      "text/plain": [
       "array([[0.],\n",
       "       [0.],\n",
       "       [0.],\n",
       "       [0.],\n",
       "       [0.]])"
      ]
     },
     "execution_count": 10,
     "metadata": {},
     "output_type": "execute_result"
    }
   ],
   "source": [
    "# транспонируем вектор v_hor_zeros_v2\n",
    "v_vert_zeros_v2 = np.transpose(v_hor_zeros_v2)\n",
    "v_vert_zeros_v2"
   ]
  },
  {
   "cell_type": "code",
   "execution_count": 11,
   "id": "137e0e5d-7ee9-471c-9b30-051fac0be2a2",
   "metadata": {},
   "outputs": [
    {
     "data": {
      "text/plain": [
       "array([[0.],\n",
       "       [0.],\n",
       "       [0.],\n",
       "       [0.],\n",
       "       [0.]])"
      ]
     },
     "execution_count": 11,
     "metadata": {},
     "output_type": "execute_result"
    }
   ],
   "source": [
    "# задаем нулевой вертикальные вектор\n",
    "v_vert_zeros_v1 = np.zeros((5, 1))\n",
    "v_vert_zeros_v1"
   ]
  },
  {
   "cell_type": "markdown",
   "id": "3b5a307f-d035-464d-985c-bdff8f3a5be7",
   "metadata": {},
   "source": [
    "#### Единичные векторы"
   ]
  },
  {
   "cell_type": "code",
   "execution_count": 12,
   "id": "53dfafb9-7e89-4000-a122-77dd2a82f95f",
   "metadata": {},
   "outputs": [
    {
     "data": {
      "text/plain": [
       "array([1., 1., 1., 1., 1.])"
      ]
     },
     "execution_count": 12,
     "metadata": {},
     "output_type": "execute_result"
    }
   ],
   "source": [
    "v_hor_one_v1 = np.ones((5,))\n",
    "v_hor_one_v1"
   ]
  },
  {
   "cell_type": "code",
   "execution_count": 13,
   "id": "500ec089-be1f-4da5-b21e-9d9490e4e4f0",
   "metadata": {},
   "outputs": [
    {
     "data": {
      "text/plain": [
       "array([[1., 1., 1., 1., 1.]])"
      ]
     },
     "execution_count": 13,
     "metadata": {},
     "output_type": "execute_result"
    }
   ],
   "source": [
    "v_hor_one_v2 = np.ones((1, 5))\n",
    "v_hor_one_v2"
   ]
  },
  {
   "cell_type": "code",
   "execution_count": 14,
   "id": "f0c80c4b-5ce5-4553-9602-a563a0e1ed92",
   "metadata": {},
   "outputs": [
    {
     "data": {
      "text/plain": [
       "array([[1.],\n",
       "       [1.],\n",
       "       [1.],\n",
       "       [1.],\n",
       "       [1.]])"
      ]
     },
     "execution_count": 14,
     "metadata": {},
     "output_type": "execute_result"
    }
   ],
   "source": [
    "v_vert_one_v1 = np.ones((5, 1))\n",
    "v_vert_one_v1"
   ]
  },
  {
   "cell_type": "markdown",
   "id": "0550ce03-1d52-411e-88b1-6c20bd6cdfce",
   "metadata": {},
   "source": [
    "### Визуализация векторов"
   ]
  },
  {
   "cell_type": "code",
   "execution_count": 15,
   "id": "7de36e9e-2b42-441f-93e6-0cb8ca2b9a0f",
   "metadata": {},
   "outputs": [],
   "source": [
    "x1 = np.array([1, 2])\n",
    "x2 = np.array([-1.5, 1])\n",
    "x3 = np.array([0.5, -1.2])"
   ]
  },
  {
   "cell_type": "code",
   "execution_count": 16,
   "id": "7e77fc70-5eb4-4e65-a434-bfcd21ee529f",
   "metadata": {},
   "outputs": [
    {
     "data": {
      "image/png": "[encoded data removed]",
      "text/plain": [
       "<Figure size 640x480 with 1 Axes>"
      ]
     },
     "metadata": {},
     "output_type": "display_data"
    }
   ],
   "source": [
    "plt.figure()\n",
    "plt.plot(x1[0], x1[1], 'b+')\n",
    "plt.plot(x2[0], x2[1], 'r*')\n",
    "plt.plot(x3[0], x3[1], 'go')\n",
    "plt.grid()\n",
    "plt.xlim([-3, 3])\n",
    "plt.ylim([-3, 3])\n",
    "plt.show()"
   ]
  },
  {
   "cell_type": "markdown",
   "id": "7f35581d-c41e-48dc-a412-f2ed45a44201",
   "metadata": {},
   "source": [
    "### Математические операции с векторами"
   ]
  },
  {
   "cell_type": "code",
   "execution_count": 17,
   "id": "8a5a5e75-d4b8-4bff-bade-b09413aa4ada",
   "metadata": {},
   "outputs": [],
   "source": [
    "a = np.array([3, 3, 2, 4])\n",
    "b = np.array([1, 2, 1, 3])"
   ]
  },
  {
   "cell_type": "code",
   "execution_count": 18,
   "id": "db237022-4ddc-4cda-aaae-96050ecb3145",
   "metadata": {},
   "outputs": [
    {
     "data": {
      "text/plain": [
       "array([4, 5, 3, 7])"
      ]
     },
     "execution_count": 18,
     "metadata": {},
     "output_type": "execute_result"
    }
   ],
   "source": [
    "# Сложим эти векторы\n",
    "a + b"
   ]
  },
  {
   "cell_type": "code",
   "execution_count": 19,
   "id": "b1aeb6c9-e7d4-4128-9271-2584f895f0e5",
   "metadata": {},
   "outputs": [
    {
     "data": {
      "text/plain": [
       "array([5, 5, 4, 6])"
      ]
     },
     "execution_count": 19,
     "metadata": {},
     "output_type": "execute_result"
    }
   ],
   "source": [
    "a + 2"
   ]
  },
  {
   "cell_type": "code",
   "execution_count": 20,
   "id": "7f200ae6-ec71-4256-b465-9540a4528508",
   "metadata": {},
   "outputs": [
    {
     "data": {
      "text/plain": [
       "array([5, 5, 4, 6])"
      ]
     },
     "execution_count": 20,
     "metadata": {},
     "output_type": "execute_result"
    }
   ],
   "source": [
    "a + b[1]"
   ]
  },
  {
   "cell_type": "code",
   "execution_count": 21,
   "id": "7960b5ba-2201-451b-8b77-a6e85d7385ad",
   "metadata": {},
   "outputs": [
    {
     "data": {
      "text/plain": [
       "array([4, 5, 3, 7])"
      ]
     },
     "execution_count": 21,
     "metadata": {},
     "output_type": "execute_result"
    }
   ],
   "source": [
    "b + a"
   ]
  },
  {
   "cell_type": "code",
   "execution_count": 22,
   "id": "7bb0b7bc-a06f-48c8-b65b-eb5eda83b837",
   "metadata": {},
   "outputs": [
    {
     "data": {
      "text/plain": [
       "array([2, 1, 1, 1])"
      ]
     },
     "execution_count": 22,
     "metadata": {},
     "output_type": "execute_result"
    }
   ],
   "source": [
    "# Вычтем из вектора a вектор b:\n",
    "a - b"
   ]
  },
  {
   "cell_type": "code",
   "execution_count": 23,
   "id": "d9e0aa49-6ebb-4496-b7e4-9e8c5b637aed",
   "metadata": {},
   "outputs": [
    {
     "data": {
      "text/plain": [
       "array([-2, -1, -1, -1])"
      ]
     },
     "execution_count": 23,
     "metadata": {},
     "output_type": "execute_result"
    }
   ],
   "source": [
    "b - a"
   ]
  },
  {
   "cell_type": "code",
   "execution_count": 24,
   "id": "a8ea86ba-430f-4cd5-b954-54760fca3540",
   "metadata": {},
   "outputs": [
    {
     "data": {
      "text/plain": [
       "array([ 3,  6,  2, 12])"
      ]
     },
     "execution_count": 24,
     "metadata": {},
     "output_type": "execute_result"
    }
   ],
   "source": [
    "# Умножение с использованием *\n",
    "a * b"
   ]
  },
  {
   "cell_type": "code",
   "execution_count": 25,
   "id": "7ec4294c-bb8a-4c2f-896d-2f2bf3aa9a81",
   "metadata": {},
   "outputs": [
    {
     "data": {
      "text/plain": [
       "array([3.        , 1.5       , 2.        , 1.33333333])"
      ]
     },
     "execution_count": 25,
     "metadata": {},
     "output_type": "execute_result"
    }
   ],
   "source": [
    "# Деление с использованием /\n",
    "a / b"
   ]
  },
  {
   "cell_type": "markdown",
   "id": "ef28a751-80e4-4fe9-bc95-7a066c2db03a",
   "metadata": {},
   "source": [
    "### Скаларное произведение векторов"
   ]
  },
  {
   "cell_type": "code",
   "execution_count": 26,
   "id": "2f6cd862-d08c-43a8-956e-97ee681bdf8a",
   "metadata": {},
   "outputs": [
    {
     "data": {
      "text/plain": [
       "23"
      ]
     },
     "execution_count": 26,
     "metadata": {},
     "output_type": "execute_result"
    }
   ],
   "source": [
    "np.dot(a, b)"
   ]
  },
  {
   "cell_type": "markdown",
   "id": "3cda5a71-33a2-4d39-ab66-20ccc46b4197",
   "metadata": {},
   "source": [
    "Скаларное произведение это сумма алгебраических произведений координат. Проверим предыдущий результат:"
   ]
  },
  {
   "cell_type": "code",
   "execution_count": 27,
   "id": "af1d3169-fe2e-4404-be20-379341c89a94",
   "metadata": {},
   "outputs": [
    {
     "data": {
      "text/plain": [
       "23"
      ]
     },
     "execution_count": 27,
     "metadata": {},
     "output_type": "execute_result"
    }
   ],
   "source": [
    "c = a * b\n",
    "c.sum()"
   ]
  },
  {
   "cell_type": "markdown",
   "id": "dc67cc21-fe55-4107-bed3-761704ee3fd9",
   "metadata": {},
   "source": [
    "### Находим угол между этими двумя векторами"
   ]
  },
  {
   "cell_type": "code",
   "execution_count": 28,
   "id": "999e802f-474b-4a08-a330-b0bd1f644449",
   "metadata": {},
   "outputs": [],
   "source": [
    "# Находим Евклидову норму для векторов:\n",
    "norm_a = np.linalg.norm(a)\n",
    "norm_b = np.linalg.norm(b)"
   ]
  },
  {
   "cell_type": "code",
   "execution_count": 29,
   "id": "0ff2f607-7c67-496a-9eec-50e4b6b7f2b9",
   "metadata": {},
   "outputs": [
    {
     "data": {
      "text/plain": [
       "23.874672772626642"
      ]
     },
     "execution_count": 29,
     "metadata": {},
     "output_type": "execute_result"
    }
   ],
   "source": [
    "# Перемножим их:\n",
    "mult_norm = norm_a * norm_b\n",
    "mult_norm"
   ]
  },
  {
   "cell_type": "code",
   "execution_count": 30,
   "id": "9fc1ed88-3c70-4b8d-a65b-41317e3d9884",
   "metadata": {},
   "outputs": [
    {
     "data": {
      "text/plain": [
       "0.9633639890708997"
      ]
     },
     "execution_count": 30,
     "metadata": {},
     "output_type": "execute_result"
    }
   ],
   "source": [
    "# Разделим скалярное произведение на произведение норм векторов:\n",
    "# Получим косинус угла между векторами:\n",
    "cos_ab = np.dot(a, b) / mult_norm\n",
    "cos_ab"
   ]
  },
  {
   "cell_type": "code",
   "execution_count": 31,
   "id": "0da221a3-cd91-4f5c-83e5-b260f71194fb",
   "metadata": {},
   "outputs": [
    {
     "data": {
      "text/plain": [
       "0.2715213509465357"
      ]
     },
     "execution_count": 31,
     "metadata": {},
     "output_type": "execute_result"
    }
   ],
   "source": [
    "# конвертируем косинус в величину угла в радианах:\n",
    "np.arccos(cos_ab)"
   ]
  },
  {
   "cell_type": "code",
   "execution_count": 32,
   "id": "5cba54cc-1527-4c7d-aacd-d7389f82453b",
   "metadata": {},
   "outputs": [
    {
     "data": {
      "text/plain": [
       "15.557027456926955"
      ]
     },
     "execution_count": 32,
     "metadata": {},
     "output_type": "execute_result"
    }
   ],
   "source": [
    "# конвертируем величину угла в градусы:\n",
    "np.rad2deg(np.arccos(cos_ab))"
   ]
  },
  {
   "cell_type": "markdown",
   "id": "4498b026-6db3-41e9-8184-1e3894ba0e3a",
   "metadata": {
    "jp-MarkdownHeadingCollapsed": true
   },
   "source": [
    "## 1.2 Матрицы"
   ]
  },
  {
   "cell_type": "markdown",
   "id": "282ba37d-6a62-42a7-8987-7ef1a153ba62",
   "metadata": {
    "jp-MarkdownHeadingCollapsed": true
   },
   "source": [
    "### Создание матриц"
   ]
  },
  {
   "cell_type": "markdown",
   "id": "76e2c1de-22b0-464b-9a9e-1fa854aa73db",
   "metadata": {},
   "source": [
    "#### Метод **np.array()**"
   ]
  },
  {
   "cell_type": "code",
   "execution_count": 33,
   "id": "ef5bfd83-0228-4c2f-b9e6-545bd657a718",
   "metadata": {},
   "outputs": [
    {
     "data": {
      "text/plain": [
       "array([[1, 2, 3],\n",
       "       [4, 5, 6],\n",
       "       [7, 8, 9]])"
      ]
     },
     "execution_count": 33,
     "metadata": {},
     "output_type": "execute_result"
    }
   ],
   "source": [
    "# создание матрицы в явном виде\n",
    "A1 = np.array([[1, 2, 3], [4, 5, 6], [7, 8, 9]])\n",
    "A1"
   ]
  },
  {
   "cell_type": "code",
   "execution_count": 34,
   "id": "beb220d6-5200-401f-8f97-c58997acffb6",
   "metadata": {},
   "outputs": [
    {
     "data": {
      "text/plain": [
       "numpy.ndarray"
      ]
     },
     "execution_count": 34,
     "metadata": {},
     "output_type": "execute_result"
    }
   ],
   "source": [
    "type(A1)"
   ]
  },
  {
   "cell_type": "markdown",
   "id": "988f536d-4c64-4e4b-9aa5-3e3f66894c74",
   "metadata": {},
   "source": [
    "#### Метод **np.matrix()**"
   ]
  },
  {
   "cell_type": "code",
   "execution_count": 35,
   "id": "a20307d0-fdf6-484e-8102-d3c0879fa817",
   "metadata": {},
   "outputs": [
    {
     "data": {
      "text/plain": [
       "matrix([[1, 2, 3],\n",
       "        [4, 5, 6],\n",
       "        [7, 8, 9]])"
      ]
     },
     "execution_count": 35,
     "metadata": {},
     "output_type": "execute_result"
    }
   ],
   "source": [
    "m_sqr_mx = np.matrix([[1, 2, 3], [4, 5, 6], [7, 8, 9]])\n",
    "m_sqr_mx"
   ]
  },
  {
   "cell_type": "code",
   "execution_count": 36,
   "id": "f3e112da-369d-408f-8beb-0b77a3de2173",
   "metadata": {},
   "outputs": [
    {
     "data": {
      "text/plain": [
       "numpy.matrix"
      ]
     },
     "execution_count": 36,
     "metadata": {},
     "output_type": "execute_result"
    }
   ],
   "source": [
    "type(m_sqr_mx)"
   ]
  },
  {
   "cell_type": "code",
   "execution_count": 37,
   "id": "0131b934-d942-4a9f-a6fe-a0a3fc9f8051",
   "metadata": {},
   "outputs": [
    {
     "data": {
      "text/plain": [
       "matrix([[1, 2, 3],\n",
       "        [4, 5, 6],\n",
       "        [7, 8, 9]])"
      ]
     },
     "execution_count": 37,
     "metadata": {},
     "output_type": "execute_result"
    }
   ],
   "source": [
    "# Стиль matlab:\n",
    "m_sqr_mx = np.matrix('1, 2, 3; 4, 5, 6; 7, 8, 9')\n",
    "m_sqr_mx"
   ]
  },
  {
   "cell_type": "code",
   "execution_count": 38,
   "id": "109958b2-4b19-46d4-99eb-2ac8b12122d5",
   "metadata": {},
   "outputs": [
    {
     "data": {
      "text/plain": [
       "array([[0.59703559, 0.95962866, 0.04770352],\n",
       "       [0.4196001 , 0.27416339, 0.62878066],\n",
       "       [0.48792571, 0.87397378, 0.57388547]])"
      ]
     },
     "execution_count": 38,
     "metadata": {},
     "output_type": "execute_result"
    }
   ],
   "source": [
    "# создание случайной матрицы\n",
    "A2 = np.random.random((3, 3))\n",
    "A2"
   ]
  },
  {
   "cell_type": "code",
   "execution_count": 39,
   "id": "d9d479ea-5d59-4ff4-848a-db784cf866fe",
   "metadata": {},
   "outputs": [
    {
     "data": {
      "text/plain": [
       "(3, 3)"
      ]
     },
     "execution_count": 39,
     "metadata": {},
     "output_type": "execute_result"
    }
   ],
   "source": [
    "# определим размерность матрицы\n",
    "A2.shape"
   ]
  },
  {
   "cell_type": "markdown",
   "id": "0232054a-1851-435c-a625-5ae6dfaf2a48",
   "metadata": {
    "jp-MarkdownHeadingCollapsed": true
   },
   "source": [
    "### Задаем специализированные матрицы"
   ]
  },
  {
   "cell_type": "markdown",
   "id": "6ef2121b-a392-4084-8744-665123a4adce",
   "metadata": {},
   "source": [
    "#### Диагональная матрица"
   ]
  },
  {
   "cell_type": "code",
   "execution_count": 40,
   "id": "c100acd6-083c-4510-981e-d2b49cbbdbeb",
   "metadata": {},
   "outputs": [
    {
     "data": {
      "text/plain": [
       "matrix([[1, 0, 0],\n",
       "        [0, 5, 0],\n",
       "        [0, 0, 9]])"
      ]
     },
     "execution_count": 40,
     "metadata": {},
     "output_type": "execute_result"
    }
   ],
   "source": [
    "# Зададим диагональную матрицу вручную:\n",
    "m_diag = [[1, 0, 0], [0, 5, 0], [0, 0, 9]]\n",
    "m_diag_np = np.matrix(m_diag)\n",
    "m_diag_np"
   ]
  },
  {
   "cell_type": "markdown",
   "id": "57f2fc65-5a2d-4de5-aaaf-e6e464786482",
   "metadata": {},
   "source": [
    "Создадим диагональную матрицу из готовой:"
   ]
  },
  {
   "cell_type": "code",
   "execution_count": 41,
   "id": "4a81eb4a-e82a-4a30-b01e-644820d5bc7b",
   "metadata": {},
   "outputs": [],
   "source": [
    "# Зададим матрицу:\n",
    "m_sqr_mx = np.matrix(\"1, 2, 3; 4, 5, 6; 7, 8, 9\")"
   ]
  },
  {
   "cell_type": "code",
   "execution_count": 42,
   "id": "9aa6ac04-f1e4-4a34-a34c-515ce6da2f99",
   "metadata": {},
   "outputs": [
    {
     "data": {
      "text/plain": [
       "array([1, 5, 9])"
      ]
     },
     "execution_count": 42,
     "metadata": {},
     "output_type": "execute_result"
    }
   ],
   "source": [
    "# Извлечем главную диагональ:\n",
    "diag = np.diag(m_sqr_mx)\n",
    "diag"
   ]
  },
  {
   "cell_type": "code",
   "execution_count": 43,
   "id": "ff9effde-0bcb-4bc3-a967-e3a36d4d8bf4",
   "metadata": {},
   "outputs": [
    {
     "data": {
      "text/plain": [
       "array([[1, 0, 0],\n",
       "       [0, 5, 0],\n",
       "       [0, 0, 9]])"
      ]
     },
     "execution_count": 43,
     "metadata": {},
     "output_type": "execute_result"
    }
   ],
   "source": [
    "# Построим диагональную матрицу на базе полученной диагонали:\n",
    "m_diag_np = np.diag(diag)\n",
    "m_diag_np"
   ]
  },
  {
   "cell_type": "markdown",
   "id": "f1dccee7-bd01-475d-9d57-5b8babb6ea86",
   "metadata": {},
   "source": [
    "#### Единичная матрица"
   ]
  },
  {
   "cell_type": "code",
   "execution_count": 44,
   "id": "6c45d9a1-a3bb-45e4-a869-02cb9bef5d93",
   "metadata": {},
   "outputs": [
    {
     "data": {
      "text/plain": [
       "array([[1., 0., 0.],\n",
       "       [0., 1., 0.],\n",
       "       [0., 0., 1.]])"
      ]
     },
     "execution_count": 44,
     "metadata": {},
     "output_type": "execute_result"
    }
   ],
   "source": [
    "# генерируем единичную матрицу\n",
    "A3 = np.eye(3)\n",
    "A3"
   ]
  },
  {
   "cell_type": "code",
   "execution_count": 45,
   "id": "842ece41-7439-4553-8b20-ab0e3eeeab43",
   "metadata": {},
   "outputs": [
    {
     "data": {
      "text/plain": [
       "numpy.ndarray"
      ]
     },
     "execution_count": 45,
     "metadata": {},
     "output_type": "execute_result"
    }
   ],
   "source": [
    "type(A3)"
   ]
  },
  {
   "cell_type": "code",
   "execution_count": 46,
   "id": "cd49c143-4ad7-4ad7-9f7e-31e9640588aa",
   "metadata": {},
   "outputs": [
    {
     "data": {
      "text/plain": [
       "array([[1., 0., 0.],\n",
       "       [0., 1., 0.],\n",
       "       [0., 0., 1.]])"
      ]
     },
     "execution_count": 46,
     "metadata": {},
     "output_type": "execute_result"
    }
   ],
   "source": [
    "# Еще вариант:\n",
    "A3 = np.identity(3)\n",
    "A3"
   ]
  },
  {
   "cell_type": "code",
   "execution_count": 47,
   "id": "0d4fde92-7561-4a16-9638-c726de0cf038",
   "metadata": {},
   "outputs": [
    {
     "data": {
      "text/plain": [
       "numpy.ndarray"
      ]
     },
     "execution_count": 47,
     "metadata": {},
     "output_type": "execute_result"
    }
   ],
   "source": [
    "type(A3)"
   ]
  },
  {
   "cell_type": "markdown",
   "id": "87442fed-c076-4145-8705-67e9f064312f",
   "metadata": {},
   "source": [
    "#### Нулевая матрица"
   ]
  },
  {
   "cell_type": "code",
   "execution_count": 48,
   "id": "880c396b-0281-44c0-b3e4-b648a559c7ab",
   "metadata": {},
   "outputs": [
    {
     "data": {
      "text/plain": [
       "array([[0., 0., 0., 0., 0.],\n",
       "       [0., 0., 0., 0., 0.],\n",
       "       [0., 0., 0., 0., 0.],\n",
       "       [0., 0., 0., 0., 0.],\n",
       "       [0., 0., 0., 0., 0.]])"
      ]
     },
     "execution_count": 48,
     "metadata": {},
     "output_type": "execute_result"
    }
   ],
   "source": [
    "# генерируем нулевую матрицу размерностью 5 х 5\n",
    "A4 = np.zeros((5, 5))\n",
    "A4"
   ]
  },
  {
   "cell_type": "markdown",
   "id": "c0796ecf-5be0-4069-a00d-19d91324f242",
   "metadata": {
    "jp-MarkdownHeadingCollapsed": true
   },
   "source": [
    "### Транспонирование матриц"
   ]
  },
  {
   "cell_type": "code",
   "execution_count": 49,
   "id": "5db8e4bf-582b-4e8d-b9b8-526b7892298d",
   "metadata": {},
   "outputs": [
    {
     "data": {
      "text/plain": [
       "array([[1, 2, 3],\n",
       "       [4, 5, 6],\n",
       "       [7, 8, 9]])"
      ]
     },
     "execution_count": 49,
     "metadata": {},
     "output_type": "execute_result"
    }
   ],
   "source": [
    "A1"
   ]
  },
  {
   "cell_type": "code",
   "execution_count": 50,
   "id": "b4084f13-3d0a-4f13-8d90-3ff8b9726683",
   "metadata": {},
   "outputs": [
    {
     "data": {
      "text/plain": [
       "array([[1, 4, 7],\n",
       "       [2, 5, 8],\n",
       "       [3, 6, 9]])"
      ]
     },
     "execution_count": 50,
     "metadata": {},
     "output_type": "execute_result"
    }
   ],
   "source": [
    "# транспонируем матрицу А1\n",
    "np.transpose(A1)"
   ]
  },
  {
   "cell_type": "code",
   "execution_count": 51,
   "id": "95dff977-c374-4ab6-9742-f8f364fe8a05",
   "metadata": {},
   "outputs": [
    {
     "data": {
      "text/plain": [
       "array([[1, 4, 7],\n",
       "       [2, 5, 8],\n",
       "       [3, 6, 9]])"
      ]
     },
     "execution_count": 51,
     "metadata": {},
     "output_type": "execute_result"
    }
   ],
   "source": [
    "# Или так:\n",
    "A1.transpose()"
   ]
  },
  {
   "cell_type": "code",
   "execution_count": 52,
   "id": "0ce31810-6d30-4281-88a1-511def907a05",
   "metadata": {},
   "outputs": [
    {
     "data": {
      "text/plain": [
       "array([[1, 4, 7],\n",
       "       [2, 5, 8],\n",
       "       [3, 6, 9]])"
      ]
     },
     "execution_count": 52,
     "metadata": {},
     "output_type": "execute_result"
    }
   ],
   "source": [
    "# Или так:\n",
    "A1.T"
   ]
  },
  {
   "cell_type": "markdown",
   "id": "d2fcc115-ff59-4346-ae69-a982464ad56e",
   "metadata": {},
   "source": [
    "#### Свойства транспонированных матриц:"
   ]
  },
  {
   "cell_type": "markdown",
   "id": "6828f8c4-74a2-45f8-9bb1-089a579825e9",
   "metadata": {},
   "source": [
    "1. Дважды транспонированная матрица равна исходной матрице.\n",
    "1. Транспонированная сумма матриц равна сумме транспонированных матриц.\n",
    "1. Транспонированное произведение матриц равно произведению транспонированных матриц, расставленных в обратном порядке.\n",
    "1. Транспонированное произведение матрицы на число равно произведению этого числа на транспонированную матрицу.\n",
    "1. Определители исходной и транспонированной матриц совпадают."
   ]
  },
  {
   "cell_type": "markdown",
   "id": "ea06c5bc-703b-41b6-a307-8c25a50e09f1",
   "metadata": {},
   "source": [
    "### Математические операции над матрицами"
   ]
  },
  {
   "cell_type": "markdown",
   "id": "2613c68b-19ee-4ef8-a9b8-1fa6f5db037d",
   "metadata": {
    "jp-MarkdownHeadingCollapsed": true
   },
   "source": [
    "#### Сложение (свойства)"
   ]
  },
  {
   "cell_type": "markdown",
   "id": "1b3a1f57-d369-45bb-8db4-ec8bec428746",
   "metadata": {},
   "source": [
    "Складывать можно только матрицы одинаковой размерности"
   ]
  },
  {
   "cell_type": "code",
   "execution_count": 53,
   "id": "6cbf8930-943f-4b6e-9c67-2442e50a7bf8",
   "metadata": {},
   "outputs": [
    {
     "data": {
      "text/plain": [
       "array([[1.59703559, 2.95962866, 3.04770352],\n",
       "       [4.4196001 , 5.27416339, 6.62878066],\n",
       "       [7.48792571, 8.87397378, 9.57388547]])"
      ]
     },
     "execution_count": 53,
     "metadata": {},
     "output_type": "execute_result"
    }
   ],
   "source": [
    "# сложение\n",
    "A1 + A2"
   ]
  },
  {
   "cell_type": "code",
   "execution_count": 54,
   "id": "65a5c806-00a0-4ea6-81e5-7de6587b6d5b",
   "metadata": {},
   "outputs": [
    {
     "data": {
      "text/plain": [
       "array([[0.40296441, 1.04037134, 2.95229648],\n",
       "       [3.5803999 , 4.72583661, 5.37121934],\n",
       "       [6.51207429, 7.12602622, 8.42611453]])"
      ]
     },
     "execution_count": 54,
     "metadata": {},
     "output_type": "execute_result"
    }
   ],
   "source": [
    "A1 - A2"
   ]
  },
  {
   "cell_type": "markdown",
   "id": "8a3b90db-fcf9-4e84-973e-ce4b35b9f0da",
   "metadata": {
    "jp-MarkdownHeadingCollapsed": true
   },
   "source": [
    "##### **Свойство 1.** Коммутативность сложения. От перестановки матриц их сумма не измениятся."
   ]
  },
  {
   "cell_type": "code",
   "execution_count": 55,
   "id": "6cb88837-69e3-4db6-9ee3-c604ee9c9a00",
   "metadata": {},
   "outputs": [
    {
     "name": "stdout",
     "output_type": "stream",
     "text": [
      "[[ 6  8]\n",
      " [10 12]]\n",
      "\n",
      "[[ 6  8]\n",
      " [10 12]]\n"
     ]
    }
   ],
   "source": [
    "A = np.matrix(\"1 2; 3 4\")\n",
    "B = np.matrix(\"5 6; 7 8\")\n",
    "L = A + B\n",
    "R = B + A\n",
    "print(L)\n",
    "print()\n",
    "print(R)"
   ]
  },
  {
   "cell_type": "markdown",
   "id": "03afd66d-ab07-4e9c-a3f2-431e7d6478d7",
   "metadata": {
    "jp-MarkdownHeadingCollapsed": true
   },
   "source": [
    "##### **Свойство 2.** Ассоциативность сложения. Результат сложения трех матриц и более не зависит от порядка, в котором эта операция будет выполняться:"
   ]
  },
  {
   "cell_type": "code",
   "execution_count": 56,
   "id": "9ae69628-5fae-47af-a268-d6dae6268722",
   "metadata": {},
   "outputs": [
    {
     "name": "stdout",
     "output_type": "stream",
     "text": [
      "[[ 7 15]\n",
      " [19 15]]\n",
      "\n",
      "[[ 7 15]\n",
      " [19 15]]\n"
     ]
    }
   ],
   "source": [
    "A = np.matrix(\"1 2; 3 4\")\n",
    "B = np.matrix(\"5 6; 7 8\")\n",
    "C = np.matrix(\"1 7; 9 3\")\n",
    "L = A + (B + C)\n",
    "R = (A + B) + C\n",
    "print(L)\n",
    "print()\n",
    "print(R)"
   ]
  },
  {
   "cell_type": "markdown",
   "id": "32e771ee-55b1-448b-9425-0581861bbdaa",
   "metadata": {
    "jp-MarkdownHeadingCollapsed": true
   },
   "source": [
    "##### **Свойство 3.** Для любой матрицы *А* сущесвтует противоположная ей *(-А)*, такая, что их сумма является нулевой матрицей *Z*:"
   ]
  },
  {
   "cell_type": "code",
   "execution_count": 57,
   "id": "be841614-ea5b-4832-aa28-0f3e9b556761",
   "metadata": {},
   "outputs": [
    {
     "name": "stdout",
     "output_type": "stream",
     "text": [
      "[[0 0]\n",
      " [0 0]]\n",
      "\n",
      "[[0 0]\n",
      " [0 0]]\n"
     ]
    }
   ],
   "source": [
    "A = np.matrix(\"1 2; 3 4\")\n",
    "Z = np.matrix(\"0 0; 0 0\")\n",
    "L = A + (-1) * A\n",
    "print(L)\n",
    "print()\n",
    "print(Z)"
   ]
  },
  {
   "cell_type": "markdown",
   "id": "400d184c-d286-4afe-bd92-9c5f45fa745a",
   "metadata": {},
   "source": [
    "#### Умножение матриц"
   ]
  },
  {
   "cell_type": "code",
   "execution_count": 58,
   "id": "81d60a54-8ca3-43ba-9b13-97c2506fd4a5",
   "metadata": {},
   "outputs": [
    {
     "data": {
      "text/plain": [
       "array([[0.59703559, 1.91925732, 0.14311056],\n",
       "       [1.67840039, 1.37081695, 3.77268397],\n",
       "       [3.41547997, 6.99179025, 5.16496923]])"
      ]
     },
     "execution_count": 58,
     "metadata": {},
     "output_type": "execute_result"
    }
   ],
   "source": [
    "A1 * A2"
   ]
  },
  {
   "cell_type": "markdown",
   "id": "a54d6dc1-fdeb-4e64-97da-3490d7986f37",
   "metadata": {},
   "source": [
    "#### Умножение на число (свойства):"
   ]
  },
  {
   "cell_type": "markdown",
   "id": "4876e17c-8fbe-4c56-a225-6988fe6d62a6",
   "metadata": {
    "jp-MarkdownHeadingCollapsed": true
   },
   "source": [
    "##### **Свойство 1.** Произведение единицы и любой заданной матрицы равно заданной матрице:"
   ]
  },
  {
   "cell_type": "code",
   "execution_count": 59,
   "id": "0f801443-2f37-4bdf-888a-5623a0c8b771",
   "metadata": {},
   "outputs": [
    {
     "name": "stdout",
     "output_type": "stream",
     "text": [
      "[[1 2]\n",
      " [3 4]]\n",
      "\n",
      "[[1 2]\n",
      " [3 4]]\n"
     ]
    }
   ],
   "source": [
    "A = np.matrix(\"1 2 ; 3 4\")\n",
    "L = 1 * A\n",
    "R = A\n",
    "print(L)\n",
    "print()\n",
    "print(R)"
   ]
  },
  {
   "cell_type": "markdown",
   "id": "cd6a11c0-ac4b-4cc6-9d1c-f29fdb1db818",
   "metadata": {
    "jp-MarkdownHeadingCollapsed": true
   },
   "source": [
    "##### **Свойство 2.** Произведение нуля и любой матрицы равно нулевой матрирце, размерность которой равна исходной матрицы:"
   ]
  },
  {
   "cell_type": "code",
   "execution_count": 60,
   "id": "257a2f84-c861-493c-8240-e72d922ef392",
   "metadata": {},
   "outputs": [
    {
     "name": "stdout",
     "output_type": "stream",
     "text": [
      "[[0 0]\n",
      " [0 0]]\n",
      "\n",
      "[[0 0]\n",
      " [0 0]]\n"
     ]
    }
   ],
   "source": [
    "A = np.matrix(\"1 2; 3 4\")\n",
    "Z = np.matrix(\"0 0; 0 0\")\n",
    "L = 0 * A\n",
    "R = Z\n",
    "print(L)\n",
    "print()\n",
    "print(Z)"
   ]
  },
  {
   "cell_type": "markdown",
   "id": "e574c87a-3f42-4912-bc7c-6ebdc079429f",
   "metadata": {
    "jp-MarkdownHeadingCollapsed": true
   },
   "source": [
    "##### **Свойство 3.** Произведение матрицы на сумму чисел равно сумме произведений матрицы на каждое из этих чисел:"
   ]
  },
  {
   "cell_type": "code",
   "execution_count": 61,
   "id": "305e1c1f-df1a-49af-bcf5-cc3a29e24dc6",
   "metadata": {},
   "outputs": [
    {
     "name": "stdout",
     "output_type": "stream",
     "text": [
      "[[ 5 10]\n",
      " [15 20]]\n",
      "\n",
      "[[ 5 10]\n",
      " [15 20]]\n"
     ]
    }
   ],
   "source": [
    "A = np.matrix(\"1 2; 3 4\")\n",
    "p = 2\n",
    "q = 3\n",
    "L = (p + q) * A\n",
    "R = p * A + q * A\n",
    "print(L)\n",
    "print()\n",
    "print(R)"
   ]
  },
  {
   "cell_type": "markdown",
   "id": "61751a0a-ba12-4670-b4bc-2c045dc44d1f",
   "metadata": {
    "jp-MarkdownHeadingCollapsed": true
   },
   "source": [
    "##### **Свойство 4.** Произведение матрицы на произведение двух чисел равно произведению второго числа и заданной матрицы, умноженному на первое число:"
   ]
  },
  {
   "cell_type": "code",
   "execution_count": 62,
   "id": "0fc31c9d-7e40-4d44-9c4d-26784ef567bc",
   "metadata": {},
   "outputs": [
    {
     "name": "stdout",
     "output_type": "stream",
     "text": [
      "[[ 6 12]\n",
      " [18 24]]\n",
      "\n",
      "[[ 6 12]\n",
      " [18 24]]\n"
     ]
    }
   ],
   "source": [
    "A = np.matrix(\"1 2; 3 4\")\n",
    "p = 2\n",
    "q = 3\n",
    "L = (p * q) * A\n",
    "R = p * (q * A)\n",
    "print(L)\n",
    "print()\n",
    "print(R)"
   ]
  },
  {
   "cell_type": "markdown",
   "id": "075e40cd-d961-4a56-b571-8ea77ae12c82",
   "metadata": {},
   "source": [
    "И наоборот:"
   ]
  },
  {
   "cell_type": "code",
   "execution_count": 63,
   "id": "21abe708-d38e-457d-8fff-f76c9e8bb1ad",
   "metadata": {},
   "outputs": [
    {
     "name": "stdout",
     "output_type": "stream",
     "text": [
      "[[ 6 12]\n",
      " [18 24]]\n",
      "\n",
      "[[ 6 12]\n",
      " [18 24]]\n"
     ]
    }
   ],
   "source": [
    "A = np.matrix(\"1 2; 3 4\")\n",
    "p = 2\n",
    "q = 3\n",
    "L = (p * q) * A\n",
    "R = q * (p * A)\n",
    "print(L)\n",
    "print()\n",
    "print(R)"
   ]
  },
  {
   "cell_type": "markdown",
   "id": "ae461e5e-19bf-4be9-9fff-e94993a6255c",
   "metadata": {
    "jp-MarkdownHeadingCollapsed": true
   },
   "source": [
    "##### **Свойство 5.** Произведение суммы матриц на число равно сумме произведений этих матриц на заданное число:"
   ]
  },
  {
   "cell_type": "code",
   "execution_count": 64,
   "id": "1e0075e9-9479-4a87-97ec-14aa4a943490",
   "metadata": {},
   "outputs": [
    {
     "name": "stdout",
     "output_type": "stream",
     "text": [
      "[[18 24]\n",
      " [30 36]]\n",
      "\n",
      "[[18 24]\n",
      " [30 36]]\n"
     ]
    }
   ],
   "source": [
    "A = np.matrix(\"1 2; 3 4\")\n",
    "B = np.matrix(\"5 6; 7 8\")\n",
    "k = 3\n",
    "L = k * (A + B)\n",
    "R = k * A + k * B\n",
    "print(L)\n",
    "print()\n",
    "print(R)"
   ]
  },
  {
   "cell_type": "markdown",
   "id": "15d47cfc-b63c-42f7-ae40-e2438306b615",
   "metadata": {},
   "source": [
    "#### Матричное умножение"
   ]
  },
  {
   "cell_type": "code",
   "execution_count": 65,
   "id": "fcf767a7-ac2a-4411-9159-c8dd8023dc79",
   "metadata": {},
   "outputs": [
    {
     "data": {
      "text/plain": [
       "array([[ 2.90001292,  4.12987678,  3.02692125],\n",
       "       [ 7.41369712, 10.45317427,  6.77803021],\n",
       "       [11.92738131, 16.77647176, 10.52913916]])"
      ]
     },
     "execution_count": 65,
     "metadata": {},
     "output_type": "execute_result"
    }
   ],
   "source": [
    "np.matmul(A1, A2)"
   ]
  },
  {
   "cell_type": "code",
   "execution_count": 66,
   "id": "616381c7-3001-473a-a672-8f54c0f45771",
   "metadata": {},
   "outputs": [
    {
     "data": {
      "text/plain": [
       "array([[ 2.90001292,  4.12987678,  3.02692125],\n",
       "       [ 7.41369712, 10.45317427,  6.77803021],\n",
       "       [11.92738131, 16.77647176, 10.52913916]])"
      ]
     },
     "execution_count": 66,
     "metadata": {},
     "output_type": "execute_result"
    }
   ],
   "source": [
    "A1 @ A2"
   ]
  },
  {
   "cell_type": "code",
   "execution_count": 67,
   "id": "b96c0d55-c07c-44ed-97e9-2bf35109870e",
   "metadata": {},
   "outputs": [
    {
     "data": {
      "text/plain": [
       "array([[ 4.76947486,  6.37384263,  7.9782104 ],\n",
       "       [ 5.91771829,  7.24026244,  8.56280659],\n",
       "       [ 8.00101913,  9.93680409, 11.87258905]])"
      ]
     },
     "execution_count": 67,
     "metadata": {},
     "output_type": "execute_result"
    }
   ],
   "source": [
    "A2 @ A1"
   ]
  },
  {
   "cell_type": "markdown",
   "id": "8a165592-6ae2-4657-bcb6-edd5b09eb702",
   "metadata": {
    "jp-MarkdownHeadingCollapsed": true
   },
   "source": [
    "### Определитель матрицы"
   ]
  },
  {
   "cell_type": "code",
   "execution_count": 68,
   "id": "5187ec4e-44cf-48df-a736-741363527f06",
   "metadata": {},
   "outputs": [
    {
     "data": {
      "text/plain": [
       "0.0"
      ]
     },
     "execution_count": 68,
     "metadata": {},
     "output_type": "execute_result"
    }
   ],
   "source": [
    "# Расчет определителя матрицы\n",
    "np.linalg.det(A1)"
   ]
  },
  {
   "cell_type": "markdown",
   "id": "8f809e7f-a222-49cb-9ee9-e87768df937e",
   "metadata": {},
   "source": [
    "Раз детерминант матрицы равет нулю, значит в ней есть линейно зависимые строки или столбцы.\n",
    "Проверим это, рассчитав ранг матрицы:"
   ]
  },
  {
   "cell_type": "code",
   "execution_count": 69,
   "id": "edefbce6-6fb9-41bc-b445-5a6a643319e4",
   "metadata": {},
   "outputs": [
    {
     "data": {
      "text/plain": [
       "2"
      ]
     },
     "execution_count": 69,
     "metadata": {},
     "output_type": "execute_result"
    }
   ],
   "source": [
    "# расчет ранга матрицы\n",
    "np.linalg.matrix_rank(A1)"
   ]
  },
  {
   "cell_type": "markdown",
   "id": "aa8e4c6d-7197-4592-9bc1-f5f5d15cdaaf",
   "metadata": {
    "jp-MarkdownHeadingCollapsed": true
   },
   "source": [
    "### Обратная матрица"
   ]
  },
  {
   "cell_type": "code",
   "execution_count": 70,
   "id": "cb6efe06-8743-40d0-b8f1-db66be97b688",
   "metadata": {},
   "outputs": [],
   "source": [
    "A5 = np.array([[7, 4], [5, 3]])"
   ]
  },
  {
   "cell_type": "code",
   "execution_count": 71,
   "id": "0649b897-920f-46ed-9d02-b83996549c7b",
   "metadata": {},
   "outputs": [
    {
     "data": {
      "text/plain": [
       "array([[7, 4],\n",
       "       [5, 3]])"
      ]
     },
     "execution_count": 71,
     "metadata": {},
     "output_type": "execute_result"
    }
   ],
   "source": [
    "A5"
   ]
  },
  {
   "cell_type": "code",
   "execution_count": 72,
   "id": "55171277-9f19-4068-a010-de0fbbe0a7f8",
   "metadata": {},
   "outputs": [
    {
     "data": {
      "text/plain": [
       "array([[ 3., -4.],\n",
       "       [-5.,  7.]])"
      ]
     },
     "execution_count": 72,
     "metadata": {},
     "output_type": "execute_result"
    }
   ],
   "source": [
    "# Нахождение обратной матрицы\n",
    "A6 = np.linalg.inv(A5)\n",
    "A6"
   ]
  },
  {
   "cell_type": "markdown",
   "id": "0d24b97c-a8aa-47c7-800b-fb74dcc80bf2",
   "metadata": {},
   "source": [
    "Результат перемножения единичной и обратной матриц должен быть равен **единичной матрице**"
   ]
  },
  {
   "cell_type": "code",
   "execution_count": 73,
   "id": "6e726ccb-6ce7-4995-9cbf-555940840678",
   "metadata": {},
   "outputs": [
    {
     "data": {
      "text/plain": [
       "array([[1., 0.],\n",
       "       [0., 1.]])"
      ]
     },
     "execution_count": 73,
     "metadata": {},
     "output_type": "execute_result"
    }
   ],
   "source": [
    "# Матричное умножение\n",
    "A5 @ A6"
   ]
  },
  {
   "cell_type": "markdown",
   "id": "be3cf8a9-ae8a-40e8-b243-ab44f7fb5454",
   "metadata": {},
   "source": [
    "Для матрицы А1 не существует обратной матрицы. Python при попытке ее вычисления выдаст ошибку **Singular matrix**:"
   ]
  },
  {
   "cell_type": "code",
   "execution_count": 74,
   "id": "b6edafa5-39e6-4c4a-8b5b-dcfea0e94c05",
   "metadata": {},
   "outputs": [
    {
     "ename": "LinAlgError",
     "evalue": "Singular matrix",
     "output_type": "error",
     "traceback": [
      "\u001b[0;31m---------------------------------------------------------------------------\u001b[0m",
      "\u001b[0;31mLinAlgError\u001b[0m                               Traceback (most recent call last)",
      "Cell \u001b[0;32mIn[74], line 1\u001b[0m\n\u001b[0;32m----> 1\u001b[0m A7 \u001b[38;5;241m=\u001b[39m \u001b[43mnp\u001b[49m\u001b[38;5;241;43m.\u001b[39;49m\u001b[43mlinalg\u001b[49m\u001b[38;5;241;43m.\u001b[39;49m\u001b[43minv\u001b[49m\u001b[43m(\u001b[49m\u001b[43mA1\u001b[49m\u001b[43m)\u001b[49m\n",
      "File \u001b[0;32m<__array_function__ internals>:200\u001b[0m, in \u001b[0;36minv\u001b[0;34m(*args, **kwargs)\u001b[0m\n",
      "File \u001b[0;32m/usr/lib64/python3.11/site-packages/numpy/linalg/linalg.py:538\u001b[0m, in \u001b[0;36minv\u001b[0;34m(a)\u001b[0m\n\u001b[1;32m    536\u001b[0m signature \u001b[38;5;241m=\u001b[39m \u001b[38;5;124m'\u001b[39m\u001b[38;5;124mD->D\u001b[39m\u001b[38;5;124m'\u001b[39m \u001b[38;5;28;01mif\u001b[39;00m isComplexType(t) \u001b[38;5;28;01melse\u001b[39;00m \u001b[38;5;124m'\u001b[39m\u001b[38;5;124md->d\u001b[39m\u001b[38;5;124m'\u001b[39m\n\u001b[1;32m    537\u001b[0m extobj \u001b[38;5;241m=\u001b[39m get_linalg_error_extobj(_raise_linalgerror_singular)\n\u001b[0;32m--> 538\u001b[0m ainv \u001b[38;5;241m=\u001b[39m \u001b[43m_umath_linalg\u001b[49m\u001b[38;5;241;43m.\u001b[39;49m\u001b[43minv\u001b[49m\u001b[43m(\u001b[49m\u001b[43ma\u001b[49m\u001b[43m,\u001b[49m\u001b[43m \u001b[49m\u001b[43msignature\u001b[49m\u001b[38;5;241;43m=\u001b[39;49m\u001b[43msignature\u001b[49m\u001b[43m,\u001b[49m\u001b[43m \u001b[49m\u001b[43mextobj\u001b[49m\u001b[38;5;241;43m=\u001b[39;49m\u001b[43mextobj\u001b[49m\u001b[43m)\u001b[49m\n\u001b[1;32m    539\u001b[0m \u001b[38;5;28;01mreturn\u001b[39;00m wrap(ainv\u001b[38;5;241m.\u001b[39mastype(result_t, copy\u001b[38;5;241m=\u001b[39m\u001b[38;5;28;01mFalse\u001b[39;00m))\n",
      "File \u001b[0;32m/usr/lib64/python3.11/site-packages/numpy/linalg/linalg.py:89\u001b[0m, in \u001b[0;36m_raise_linalgerror_singular\u001b[0;34m(err, flag)\u001b[0m\n\u001b[1;32m     88\u001b[0m \u001b[38;5;28;01mdef\u001b[39;00m \u001b[38;5;21m_raise_linalgerror_singular\u001b[39m(err, flag):\n\u001b[0;32m---> 89\u001b[0m     \u001b[38;5;28;01mraise\u001b[39;00m LinAlgError(\u001b[38;5;124m\"\u001b[39m\u001b[38;5;124mSingular matrix\u001b[39m\u001b[38;5;124m\"\u001b[39m)\n",
      "\u001b[0;31mLinAlgError\u001b[0m: Singular matrix"
     ]
    }
   ],
   "source": [
    "A7 = np.linalg.inv(A1)"
   ]
  },
  {
   "cell_type": "markdown",
   "id": "c5986e0e-26a9-4c54-833b-ea0add73c767",
   "metadata": {
    "jp-MarkdownHeadingCollapsed": true
   },
   "source": [
    "### Собственные значения и собственные векторы"
   ]
  },
  {
   "cell_type": "code",
   "execution_count": 75,
   "id": "d60f5684-293f-4014-b748-291bd740c794",
   "metadata": {},
   "outputs": [],
   "source": [
    "# Зададим матрицу:\n",
    "A8 = np.array([[-1, -6], [2, 6]])"
   ]
  },
  {
   "cell_type": "code",
   "execution_count": 78,
   "id": "1a81db9b-310e-447f-90ce-e699919dd5a3",
   "metadata": {},
   "outputs": [
    {
     "data": {
      "text/plain": [
       "array([2., 3.])"
      ]
     },
     "execution_count": 78,
     "metadata": {},
     "output_type": "execute_result"
    }
   ],
   "source": [
    "# Найдем собственные значения:\n",
    "np.linalg.eigvals(A8)"
   ]
  },
  {
   "cell_type": "markdown",
   "id": "d84b3007-f55b-4f99-8b1d-95f1558a6d1c",
   "metadata": {},
   "source": [
    "Следующая функция возвращает в качестве первого элемента список собственных значений, а в качестве второго - матрицу собственных векторов."
   ]
  },
  {
   "cell_type": "code",
   "execution_count": 79,
   "id": "06389409-f033-4d9e-9eff-19a1a7009ae4",
   "metadata": {},
   "outputs": [
    {
     "data": {
      "text/plain": [
       "(array([2., 3.]),\n",
       " array([[-0.89442719,  0.83205029],\n",
       "        [ 0.4472136 , -0.5547002 ]]))"
      ]
     },
     "execution_count": 79,
     "metadata": {},
     "output_type": "execute_result"
    }
   ],
   "source": [
    "res = np.linalg.eig(A8)\n",
    "res"
   ]
  },
  {
   "cell_type": "code",
   "execution_count": 80,
   "id": "977e86fb-10fe-4270-b2f4-2c94b0522145",
   "metadata": {},
   "outputs": [
    {
     "data": {
      "text/plain": [
       "array([[-0.89442719,  0.4472136 ],\n",
       "       [ 0.83205029, -0.5547002 ]])"
      ]
     },
     "execution_count": 80,
     "metadata": {},
     "output_type": "execute_result"
    }
   ],
   "source": [
    "res2 = res[1]\n",
    "res3 = np.transpose(res2)\n",
    "res3"
   ]
  },
  {
   "cell_type": "code",
   "execution_count": 81,
   "id": "b98d8e0f-b635-40a3-a743-5480c8a39d36",
   "metadata": {},
   "outputs": [
    {
     "data": {
      "text/plain": [
       "array([-0.89442719,  0.4472136 ])"
      ]
     },
     "execution_count": 81,
     "metadata": {},
     "output_type": "execute_result"
    }
   ],
   "source": [
    "# первый собственный вектор:\n",
    "res3[0]"
   ]
  },
  {
   "cell_type": "code",
   "execution_count": 82,
   "id": "b1a972f9-713a-4147-97b5-1e169eacc857",
   "metadata": {},
   "outputs": [
    {
     "data": {
      "text/plain": [
       "array([-1.99999998,  0.99999999])"
      ]
     },
     "execution_count": 82,
     "metadata": {},
     "output_type": "execute_result"
    }
   ],
   "source": [
    "# сделаем его более красивым:\n",
    "res3[0] / 0.4472136"
   ]
  },
  {
   "cell_type": "code",
   "execution_count": 83,
   "id": "3b05bf79-bd16-4379-8711-f44b2a846518",
   "metadata": {},
   "outputs": [
    {
     "data": {
      "text/plain": [
       "array([ 0.83205029, -0.5547002 ])"
      ]
     },
     "execution_count": 83,
     "metadata": {},
     "output_type": "execute_result"
    }
   ],
   "source": [
    "# второй собственный вектор:\n",
    "res3[1]"
   ]
  },
  {
   "cell_type": "code",
   "execution_count": 84,
   "id": "4d6a254f-8711-4f90-8f2d-18e58e663bc2",
   "metadata": {},
   "outputs": [
    {
     "data": {
      "text/plain": [
       "array([-1.49999999,  0.99999999])"
      ]
     },
     "execution_count": 84,
     "metadata": {},
     "output_type": "execute_result"
    }
   ],
   "source": [
    "# сделаем его более красивым:\n",
    "res3[1] / -0.5547002"
   ]
  },
  {
   "cell_type": "markdown",
   "id": "71cdb14b-6fd9-4c39-a11a-5399b9abc3ba",
   "metadata": {},
   "source": [
    "### Линейные отображения"
   ]
  },
  {
   "cell_type": "code",
   "execution_count": 85,
   "id": "8b6cd0f9-0073-4636-84a2-f2dd47553ccc",
   "metadata": {},
   "outputs": [],
   "source": [
    "A = [\n",
    "    [0,0],\n",
    "    [0,1],\n",
    "    [1,1],\n",
    "    [1,0],\n",
    "    [0,0]\n",
    "]"
   ]
  },
  {
   "cell_type": "code",
   "execution_count": 87,
   "id": "040c1e7b-0f18-463f-b272-6ce37e6d4f2a",
   "metadata": {},
   "outputs": [
    {
     "data": {
      "text/plain": [
       "array([[0, 0],\n",
       "       [0, 1],\n",
       "       [1, 1],\n",
       "       [1, 0],\n",
       "       [0, 0]])"
      ]
     },
     "execution_count": 87,
     "metadata": {},
     "output_type": "execute_result"
    }
   ],
   "source": [
    "A = np.array(A)\n",
    "A"
   ]
  },
  {
   "cell_type": "code",
   "execution_count": 88,
   "id": "5c68ab47-1dc1-4ed9-bb13-8f8147253564",
   "metadata": {},
   "outputs": [],
   "source": [
    "x = A[:, 0]\n",
    "y = A[:, 1]"
   ]
  },
  {
   "cell_type": "code",
   "execution_count": 90,
   "id": "65ecc10e-d774-4311-8d33-14a00cb518c9",
   "metadata": {},
   "outputs": [
    {
     "data": {
      "text/plain": [
       "array([0, 0, 1, 1, 0])"
      ]
     },
     "execution_count": 90,
     "metadata": {},
     "output_type": "execute_result"
    }
   ],
   "source": [
    "x"
   ]
  },
  {
   "cell_type": "code",
   "execution_count": 91,
   "id": "a5e9b4da-faba-4bbf-bc2e-dcf62e590d66",
   "metadata": {},
   "outputs": [
    {
     "data": {
      "text/plain": [
       "array([0, 1, 1, 0, 0])"
      ]
     },
     "execution_count": 91,
     "metadata": {},
     "output_type": "execute_result"
    }
   ],
   "source": [
    "y"
   ]
  },
  {
   "cell_type": "code",
   "execution_count": 97,
   "id": "77996cdd-864a-4213-b8b5-b28ca73a40e7",
   "metadata": {},
   "outputs": [
    {
     "data": {
      "image/png": "[encoded data removed]",
      "text/plain": [
       "<Figure size 640x480 with 1 Axes>"
      ]
     },
     "metadata": {},
     "output_type": "display_data"
    }
   ],
   "source": [
    "plt.plot(x, y)\n",
    "plt.ylim([-5, 5])\n",
    "plt.xlim([-5, 5])\n",
    "plt.grid(True)"
   ]
  },
  {
   "cell_type": "markdown",
   "id": "4a5699f5-9d90-4683-b794-22fe972503aa",
   "metadata": {},
   "source": [
    "Применим к полученному объекту некий линейный оператор:"
   ]
  },
  {
   "cell_type": "code",
   "execution_count": 99,
   "id": "b2e25e1e-1009-4179-adfb-eab637dfe202",
   "metadata": {},
   "outputs": [],
   "source": [
    "# определим линейный оператор:\n",
    "B = np.array([[2, 0], [0, 1]])"
   ]
  },
  {
   "cell_type": "markdown",
   "id": "10308dd3-65e2-4d2f-880e-dfaf35a2d49b",
   "metadata": {},
   "source": [
    "Вариант_1. Используем цикл:"
   ]
  },
  {
   "cell_type": "code",
   "execution_count": 100,
   "id": "51fe4a33-169e-489e-8b38-e273d4d871d9",
   "metadata": {},
   "outputs": [
    {
     "data": {
      "text/plain": [
       "[array([0, 0]), array([0, 1]), array([2, 1]), array([2, 0]), array([0, 0])]"
      ]
     },
     "execution_count": 100,
     "metadata": {},
     "output_type": "execute_result"
    }
   ],
   "source": [
    "tt = []\n",
    "for kk in A:\n",
    "    tt.append(B@kk)\n",
    "tt"
   ]
  },
  {
   "cell_type": "markdown",
   "id": "ee0c4b30-601f-427d-8c0a-64ba57917493",
   "metadata": {},
   "source": [
    "Вариант_2. Использум матричное умножение:"
   ]
  },
  {
   "cell_type": "code",
   "execution_count": null,
   "id": "17e848d8-e8e3-42c3-9b26-f9333d4a5bbe",
   "metadata": {},
   "outputs": [],
   "source": [
    "res = B@A.transpose()\n",
    "tt = res.transpose"
   ]
  },
  {
   "cell_type": "code",
   "execution_count": 102,
   "id": "3399dc99-1f6d-48cb-aa76-0a992d01eaa7",
   "metadata": {},
   "outputs": [
    {
     "data": {
      "image/png": "[encoded data removed]",
      "text/plain": [
       "<Figure size 640x480 with 1 Axes>"
      ]
     },
     "metadata": {},
     "output_type": "display_data"
    }
   ],
   "source": [
    "A = np.array(tt)\n",
    "x = A[:, 0]\n",
    "y = A[:, 1]\n",
    "plt.plot(x, y)\n",
    "plt.ylim([-5, 5])\n",
    "plt.xlim([-5, 5])\n",
    "plt.grid(True)"
   ]
  },
  {
   "cell_type": "markdown",
   "id": "fed1c055-9bbc-42ef-9518-3ee16147bd84",
   "metadata": {},
   "source": [
    "Возьмем другую произвольную матрицу:"
   ]
  },
  {
   "cell_type": "code",
   "execution_count": 104,
   "id": "fbd5f5d2-41c3-482e-a866-9fb42d80d4e2",
   "metadata": {},
   "outputs": [],
   "source": [
    "B = np.array([[-1, -1], [1, 3]])"
   ]
  },
  {
   "cell_type": "code",
   "execution_count": 105,
   "id": "1fd2cc57-8a4d-4a33-b5ba-46254822aab6",
   "metadata": {},
   "outputs": [],
   "source": [
    "res = B@A.T\n",
    "tt = res.T"
   ]
  },
  {
   "cell_type": "code",
   "execution_count": 108,
   "id": "c0c1b51a-8226-41c0-af62-e3993f7b4960",
   "metadata": {},
   "outputs": [
    {
     "data": {
      "image/png": "[encoded data removed]",
      "text/plain": [
       "<Figure size 640x480 with 1 Axes>"
      ]
     },
     "metadata": {},
     "output_type": "display_data"
    }
   ],
   "source": [
    "A = np.array(tt)\n",
    "x = A[:, 0]\n",
    "y = A[:, 1]\n",
    "plt.plot(x, y)\n",
    "plt.ylim([-6, 6])\n",
    "plt.xlim([-6, 6])\n",
    "plt.grid(True)"
   ]
  },
  {
   "cell_type": "markdown",
   "id": "4502a0d6-dfc9-45c7-8987-7b4e1cbb351a",
   "metadata": {
    "jp-MarkdownHeadingCollapsed": true
   },
   "source": [
    "### Системы линейных уравнений"
   ]
  },
  {
   "cell_type": "code",
   "execution_count": 109,
   "id": "07314381-8756-4d57-b71c-e7b2f39f3462",
   "metadata": {},
   "outputs": [],
   "source": [
    "# Заданим матрицу коэффициентов:\n",
    "A = np.array([[4, 3], [-5, 9]])\n",
    "# Зададим вектор правых частей:\n",
    "B = np.array([[20], [26]])"
   ]
  },
  {
   "cell_type": "markdown",
   "id": "42a4ddee-3551-420a-87a7-ec57ee2f6d6c",
   "metadata": {},
   "source": [
    "Вариант 1. Решение при помощи встроенной функции *solve()*"
   ]
  },
  {
   "cell_type": "code",
   "execution_count": 111,
   "id": "9e52b6ee-9912-454c-a93d-416793a972ab",
   "metadata": {},
   "outputs": [
    {
     "data": {
      "text/plain": [
       "array([[2.],\n",
       "       [4.]])"
      ]
     },
     "execution_count": 111,
     "metadata": {},
     "output_type": "execute_result"
    }
   ],
   "source": [
    "np.linalg.solve(A, B)"
   ]
  },
  {
   "cell_type": "markdown",
   "id": "d19b844e-7110-4334-a89f-3f7281ff0349",
   "metadata": {},
   "source": [
    "Ваниант 2. Решение через нахождение обратной матрицы"
   ]
  },
  {
   "cell_type": "code",
   "execution_count": 114,
   "id": "00e15c87-3bf7-4efe-9ce0-f380d11910af",
   "metadata": {},
   "outputs": [
    {
     "data": {
      "text/plain": [
       "array([[ 0.17647059, -0.05882353],\n",
       "       [ 0.09803922,  0.07843137]])"
      ]
     },
     "execution_count": 114,
     "metadata": {},
     "output_type": "execute_result"
    }
   ],
   "source": [
    "# находим обратную матрицу\n",
    "A_1 = np.linalg.inv(A)\n",
    "A_1"
   ]
  },
  {
   "cell_type": "code",
   "execution_count": 117,
   "id": "bbf1ab64-475d-4c1f-881c-db6febd02c56",
   "metadata": {},
   "outputs": [
    {
     "data": {
      "text/plain": [
       "50.99999999999997"
      ]
     },
     "execution_count": 117,
     "metadata": {},
     "output_type": "execute_result"
    }
   ],
   "source": [
    "np.linalg.det(A)"
   ]
  },
  {
   "cell_type": "code",
   "execution_count": 115,
   "id": "41f759d7-1a79-493d-9efa-22e9657b5235",
   "metadata": {},
   "outputs": [
    {
     "data": {
      "text/plain": [
       "array([[2.],\n",
       "       [4.]])"
      ]
     },
     "execution_count": 115,
     "metadata": {},
     "output_type": "execute_result"
    }
   ],
   "source": [
    "# умножим ее на вектор правых частей\n",
    "np.matmul(A_1, B)"
   ]
  },
  {
   "cell_type": "code",
   "execution_count": 118,
   "id": "4961cc64-7392-4ed6-857a-530c4133d759",
   "metadata": {},
   "outputs": [
    {
     "data": {
      "text/plain": [
       "array([[2.],\n",
       "       [4.]])"
      ]
     },
     "execution_count": 118,
     "metadata": {},
     "output_type": "execute_result"
    }
   ],
   "source": [
    "A_1 @ B"
   ]
  },
  {
   "cell_type": "markdown",
   "id": "7e78b5c4-e0fc-4b79-89f9-3588308f582c",
   "metadata": {
    "jp-MarkdownHeadingCollapsed": true
   },
   "source": [
    "### Анализ главных компонент"
   ]
  },
  {
   "cell_type": "code",
   "execution_count": 119,
   "id": "2e2b6c1c-77cb-4b0b-9944-89df5921150a",
   "metadata": {},
   "outputs": [],
   "source": [
    "from sklearn.decomposition import PCA"
   ]
  },
  {
   "cell_type": "code",
   "execution_count": 121,
   "id": "9314a1a3-b656-4b3f-8583-797eb19823f6",
   "metadata": {},
   "outputs": [
    {
     "data": {
      "text/plain": [
       "array([[-1, -1],\n",
       "       [-2, -1],\n",
       "       [-3, -2],\n",
       "       [ 1,  1],\n",
       "       [ 2,  1],\n",
       "       [ 3,  2]])"
      ]
     },
     "execution_count": 121,
     "metadata": {},
     "output_type": "execute_result"
    }
   ],
   "source": [
    "X = np.array([[-1, -1], [-2, -1], [-3, -2], [1, 1,], [2, 1], [3, 2]])\n",
    "X"
   ]
  },
  {
   "cell_type": "markdown",
   "id": "e82e448c-8717-4238-98c8-cdead3b88843",
   "metadata": {},
   "source": [
    "Вариант 1. С помощью функции PCA:"
   ]
  },
  {
   "cell_type": "code",
   "execution_count": 124,
   "id": "ae1fc6d2-62f8-47c2-b676-d85d7911a552",
   "metadata": {},
   "outputs": [],
   "source": [
    "pca = PCA(n_components=2)"
   ]
  },
  {
   "cell_type": "code",
   "execution_count": 129,
   "id": "d57c6e6b-0d86-49fb-95a4-6d9da020e76c",
   "metadata": {},
   "outputs": [
    {
     "data": {
      "text/html": [
       "<style>#sk-container-id-6 {color: black;}#sk-container-id-6 pre{padding: 0;}#sk-container-id-6 div.sk-toggleable {background-color: white;}#sk-container-id-6 label.sk-toggleable__label {cursor: pointer;display: block;width: 100%;margin-bottom: 0;padding: 0.3em;box-sizing: border-box;text-align: center;}#sk-container-id-6 label.sk-toggleable__label-arrow:before {content: \"▸\";float: left;margin-right: 0.25em;color: #696969;}#sk-container-id-6 label.sk-toggleable__label-arrow:hover:before {color: black;}#sk-container-id-6 div.sk-estimator:hover label.sk-toggleable__label-arrow:before {color: black;}#sk-container-id-6 div.sk-toggleable__content {max-height: 0;max-width: 0;overflow: hidden;text-align: left;background-color: #f0f8ff;}#sk-container-id-6 div.sk-toggleable__content pre {margin: 0.2em;color: black;border-radius: 0.25em;background-color: #f0f8ff;}#sk-container-id-6 input.sk-toggleable__control:checked~div.sk-toggleable__content {max-height: 200px;max-width: 100%;overflow: auto;}#sk-container-id-6 input.sk-toggleable__control:checked~label.sk-toggleable__label-arrow:before {content: \"▾\";}#sk-container-id-6 div.sk-estimator input.sk-toggleable__control:checked~label.sk-toggleable__label {background-color: #d4ebff;}#sk-container-id-6 div.sk-label input.sk-toggleable__control:checked~label.sk-toggleable__label {background-color: #d4ebff;}#sk-container-id-6 input.sk-hidden--visually {border: 0;clip: rect(1px 1px 1px 1px);clip: rect(1px, 1px, 1px, 1px);height: 1px;margin: -1px;overflow: hidden;padding: 0;position: absolute;width: 1px;}#sk-container-id-6 div.sk-estimator {font-family: monospace;background-color: #f0f8ff;border: 1px dotted black;border-radius: 0.25em;box-sizing: border-box;margin-bottom: 0.5em;}#sk-container-id-6 div.sk-estimator:hover {background-color: #d4ebff;}#sk-container-id-6 div.sk-parallel-item::after {content: \"\";width: 100%;border-bottom: 1px solid gray;flex-grow: 1;}#sk-container-id-6 div.sk-label:hover label.sk-toggleable__label {background-color: #d4ebff;}#sk-container-id-6 div.sk-serial::before {content: \"\";position: absolute;border-left: 1px solid gray;box-sizing: border-box;top: 0;bottom: 0;left: 50%;z-index: 0;}#sk-container-id-6 div.sk-serial {display: flex;flex-direction: column;align-items: center;background-color: white;padding-right: 0.2em;padding-left: 0.2em;position: relative;}#sk-container-id-6 div.sk-item {position: relative;z-index: 1;}#sk-container-id-6 div.sk-parallel {display: flex;align-items: stretch;justify-content: center;background-color: white;position: relative;}#sk-container-id-6 div.sk-item::before, #sk-container-id-6 div.sk-parallel-item::before {content: \"\";position: absolute;border-left: 1px solid gray;box-sizing: border-box;top: 0;bottom: 0;left: 50%;z-index: -1;}#sk-container-id-6 div.sk-parallel-item {display: flex;flex-direction: column;z-index: 1;position: relative;background-color: white;}#sk-container-id-6 div.sk-parallel-item:first-child::after {align-self: flex-end;width: 50%;}#sk-container-id-6 div.sk-parallel-item:last-child::after {align-self: flex-start;width: 50%;}#sk-container-id-6 div.sk-parallel-item:only-child::after {width: 0;}#sk-container-id-6 div.sk-dashed-wrapped {border: 1px dashed gray;margin: 0 0.4em 0.5em 0.4em;box-sizing: border-box;padding-bottom: 0.4em;background-color: white;}#sk-container-id-6 div.sk-label label {font-family: monospace;font-weight: bold;display: inline-block;line-height: 1.2em;}#sk-container-id-6 div.sk-label-container {text-align: center;}#sk-container-id-6 div.sk-container {/* jupyter's `normalize.less` sets `[hidden] { display: none; }` but bootstrap.min.css set `[hidden] { display: none !important; }` so we also need the `!important` here to be able to override the default hidden behavior on the sphinx rendered scikit-learn.org. See: https://github.com/scikit-learn/scikit-learn/issues/21755 */display: inline-block !important;position: relative;}#sk-container-id-6 div.sk-text-repr-fallback {display: none;}</style><div id=\"sk-container-id-6\" class=\"sk-top-container\"><div class=\"sk-text-repr-fallback\"><pre>PCA(n_components=2)</pre><b>In a Jupyter environment, please rerun this cell to show the HTML representation or trust the notebook. <br />On GitHub, the HTML representation is unable to render, please try loading this page with nbviewer.org.</b></div><div class=\"sk-container\" hidden><div class=\"sk-item\"><div class=\"sk-estimator sk-toggleable\"><input class=\"sk-toggleable__control sk-hidden--visually\" id=\"sk-estimator-id-6\" type=\"checkbox\" checked><label for=\"sk-estimator-id-6\" class=\"sk-toggleable__label sk-toggleable__label-arrow\">PCA</label><div class=\"sk-toggleable__content\"><pre>PCA(n_components=2)</pre></div></div></div></div></div>"
      ],
      "text/plain": [
       "PCA(n_components=2)"
      ]
     },
     "execution_count": 129,
     "metadata": {},
     "output_type": "execute_result"
    }
   ],
   "source": [
    "pca.fit(X)"
   ]
  },
  {
   "cell_type": "code",
   "execution_count": 131,
   "id": "3abffeba-71fe-41b3-b830-a2ec11463307",
   "metadata": {},
   "outputs": [
    {
     "name": "stdout",
     "output_type": "stream",
     "text": [
      "[0.99244289 0.00755711]\n"
     ]
    }
   ],
   "source": [
    "# Разбиение вариации в наших данных по главным компонентам:\n",
    "print(pca.explained_variance_ratio_)"
   ]
  },
  {
   "cell_type": "markdown",
   "id": "2a1f8257-a4df-4322-8d91-c64092d38803",
   "metadata": {},
   "source": [
    "На первую главную компоненту приходится 99,2% вариации данных, а на вторую - 0,7%"
   ]
  },
  {
   "cell_type": "code",
   "execution_count": 132,
   "id": "b2fd3207-8734-4508-a5b0-9792a74edd4d",
   "metadata": {},
   "outputs": [
    {
     "name": "stdout",
     "output_type": "stream",
     "text": [
      "[6.30061232 0.54980396]\n"
     ]
    }
   ],
   "source": [
    "# Смотрим сингулярные значения для главных компонент:\n",
    "print(pca.singular_values_)"
   ]
  },
  {
   "cell_type": "markdown",
   "id": "6b63b5e4-271c-4e49-bef6-0b6b34cf6cdf",
   "metadata": {},
   "source": [
    "Вариант 2"
   ]
  },
  {
   "cell_type": "code",
   "execution_count": 135,
   "id": "fc7b80bf-1ab0-4bea-860e-44432bcda03d",
   "metadata": {},
   "outputs": [],
   "source": [
    "# Строим матрицу скалярных произведений.\n",
    "tt = []\n",
    "for kk in X:\n",
    "    for kk2 in X:\n",
    "        tt.append(np.dot(kk, kk2))"
   ]
  },
  {
   "cell_type": "code",
   "execution_count": 136,
   "id": "7815ec29-12bb-4bcf-949e-ff3c4366fa2c",
   "metadata": {},
   "outputs": [],
   "source": [
    "def partition(l, n):\n",
    "    for i in range(0, len(l), n):\n",
    "        yield l[i:i + n]"
   ]
  },
  {
   "cell_type": "code",
   "execution_count": 137,
   "id": "8be37e1d-f898-4f9e-b6ad-1688c6094dbd",
   "metadata": {},
   "outputs": [
    {
     "name": "stdout",
     "output_type": "stream",
     "text": [
      "[[2, 3, 5, -2, -3, -5], [3, 5, 8, -3, -5, -8], [5, 8, 13, -5, -8, -13], [-2, -3, -5, 2, 3, 5], [-3, -5, -8, 3, 5, 8], [-5, -8, -13, 5, 8, 13]]\n"
     ]
    }
   ],
   "source": [
    "res = list(partition(tt, len(X)))\n",
    "print(res)"
   ]
  },
  {
   "cell_type": "code",
   "execution_count": 139,
   "id": "794fc389-53f1-4211-ae34-6a8964f4a045",
   "metadata": {},
   "outputs": [
    {
     "data": {
      "text/plain": [
       "array([ 3.96977156e+01, -3.16731923e-16,  3.02284396e-01, -2.14451761e-17,\n",
       "        1.63025060e-15,  4.39029447e-18])"
      ]
     },
     "execution_count": 139,
     "metadata": {},
     "output_type": "execute_result"
    }
   ],
   "source": [
    "# Ищем собственные значения для получившейся матрицы\n",
    "ls = np.linalg.eigvals(np.array(res))\n",
    "ls"
   ]
  },
  {
   "cell_type": "markdown",
   "id": "ecdd87de-5ddb-495e-93fb-7cfc8bf6662d",
   "metadata": {},
   "source": [
    "В результате у нас получилось два собственных значения, отличных от нуля"
   ]
  },
  {
   "cell_type": "code",
   "execution_count": 141,
   "id": "c2ceb5b9-5719-440b-847c-5141115eb4df",
   "metadata": {},
   "outputs": [
    {
     "data": {
      "text/plain": [
       "array([ 9.92442890e-01, -7.91829808e-18,  7.55710991e-03, -5.36129403e-19,\n",
       "        4.07562649e-17,  1.09757362e-19])"
      ]
     },
     "execution_count": 141,
     "metadata": {},
     "output_type": "execute_result"
    }
   ],
   "source": [
    "# нормируем эти значения:\n",
    "ls/ls.sum()"
   ]
  },
  {
   "cell_type": "markdown",
   "id": "dc7a7351-1a7d-4959-be69-2560676e37c6",
   "metadata": {},
   "source": [
    "## 1.3 Функции и производные"
   ]
  },
  {
   "cell_type": "code",
   "execution_count": null,
   "id": "3791f925-1d92-463f-b386-34ac00c6df22",
   "metadata": {},
   "outputs": [],
   "source": []
  },
  {
   "cell_type": "code",
   "execution_count": null,
   "id": "f0c84e03-7102-45ce-a752-ab06113ce4bb",
   "metadata": {},
   "outputs": [],
   "source": [
    "#!pip install sympy"
   ]
  },
  {
   "cell_type": "code",
   "execution_count": null,
   "id": "d868e576-f6fe-4d96-8994-3d4af6a944ae",
   "metadata": {},
   "outputs": [],
   "source": [
    "#!'/usr/bin/python3' -m pip install sympy"
   ]
  },
  {
   "cell_type": "code",
   "execution_count": 1,
   "id": "27611034-4312-4507-828d-751b9fab958a",
   "metadata": {},
   "outputs": [],
   "source": [
    "import sympy as sym"
   ]
  },
  {
   "cell_type": "markdown",
   "id": "7a826231-1a52-42af-afd2-cd8d5ce0b6d7",
   "metadata": {},
   "source": [
    "Необходимо определить, какие из параметров будут являться аналитическими"
   ]
  },
  {
   "cell_type": "code",
   "execution_count": 2,
   "id": "1fcc7e2e-b495-4d87-b2ec-6eb9a55a8d57",
   "metadata": {},
   "outputs": [],
   "source": [
    "# x будет являться аналиническим параметром\n",
    "x = sym.Symbol('x')"
   ]
  },
  {
   "cell_type": "markdown",
   "id": "6deebb05-7292-44b7-a6d3-99f1091bc176",
   "metadata": {},
   "source": [
    "**python** будет относиться к этому параметру как аналитическому символу"
   ]
  },
  {
   "cell_type": "code",
   "execution_count": 3,
   "id": "f856566c-8ab4-4f90-8d23-1eec7f4fddb6",
   "metadata": {},
   "outputs": [
    {
     "data": {
      "text/latex": [
       "$\\displaystyle 3 x \\left(x^{2} + x\\right)^{3}$"
      ],
      "text/plain": [
       "3*x*(x**2 + x)**3"
      ]
     },
     "execution_count": 3,
     "metadata": {},
     "output_type": "execute_result"
    }
   ],
   "source": [
    "# Зададим функцию:\n",
    "3*x*(x**2 + x)**3"
   ]
  },
  {
   "cell_type": "code",
   "execution_count": 4,
   "id": "883a5655-fbb9-400c-909e-f92b8fbeadb8",
   "metadata": {},
   "outputs": [
    {
     "data": {
      "text/latex": [
       "$\\displaystyle 3 x \\left(6 x + 3\\right) \\left(x^{2} + x\\right)^{2} + 3 \\left(x^{2} + x\\right)^{3}$"
      ],
      "text/plain": [
       "3*x*(6*x + 3)*(x**2 + x)**2 + 3*(x**2 + x)**3"
      ]
     },
     "execution_count": 4,
     "metadata": {},
     "output_type": "execute_result"
    }
   ],
   "source": [
    "# Продифференцируем эту функцию по x:\n",
    "res = sym.diff(3*x*(x**2 + x)**3, x)\n",
    "res"
   ]
  },
  {
   "cell_type": "markdown",
   "id": "782af106-00d8-43d7-a251-526c6833a8ee",
   "metadata": {},
   "source": [
    "В результате мы получили аналитическую производную, которую можем использовать в расчетах.\n",
    "\n",
    "Например, мы хотим найти производную функции в точке x = 1"
   ]
  },
  {
   "cell_type": "code",
   "execution_count": 5,
   "id": "9028f6ca-5655-46b4-b9e7-ac184ef99699",
   "metadata": {},
   "outputs": [
    {
     "data": {
      "text/latex": [
       "$\\displaystyle 132$"
      ],
      "text/plain": [
       "132"
      ]
     },
     "execution_count": 5,
     "metadata": {},
     "output_type": "execute_result"
    }
   ],
   "source": [
    "res.subs(x, 1)"
   ]
  },
  {
   "cell_type": "markdown",
   "id": "34fcb281-27e2-4fab-a797-f21e6e50bea4",
   "metadata": {},
   "source": [
    "## 1.4 Производная функции одной переменной"
   ]
  },
  {
   "cell_type": "markdown",
   "id": "8ff499eb-509e-4f04-a794-59d2de5dc59e",
   "metadata": {},
   "source": [
    "#### 1.4.1 Визуализация функций"
   ]
  },
  {
   "cell_type": "code",
   "execution_count": 5,
   "id": "eecc6931-9e80-4ed7-b20e-4b1163db4ece",
   "metadata": {},
   "outputs": [],
   "source": [
    "import matplotlib.pyplot as plt\n",
    "import numpy as np"
   ]
  },
  {
   "cell_type": "code",
   "execution_count": 6,
   "id": "42b13470-7f52-4abd-b1fe-bb07f793b4b6",
   "metadata": {},
   "outputs": [],
   "source": [
    "# Зададим функцию:\n",
    "def function(x):\n",
    "    return 1 / (x - 1)"
   ]
  },
  {
   "cell_type": "code",
   "execution_count": 7,
   "id": "a8d1b6f7-d469-4147-a214-a69eb7a769cb",
   "metadata": {},
   "outputs": [
    {
     "data": {
      "text/plain": [
       "0.2"
      ]
     },
     "execution_count": 7,
     "metadata": {},
     "output_type": "execute_result"
    }
   ],
   "source": [
    "function(6)"
   ]
  },
  {
   "cell_type": "code",
   "execution_count": 8,
   "id": "bb509ded-bc39-4f24-8b85-8f2f1524d7eb",
   "metadata": {},
   "outputs": [],
   "source": [
    "# Построим график функции:\n",
    "x = np.arange(0, 2*(np.pi), 0.1)\n",
    "y = np.sin(x)"
   ]
  },
  {
   "cell_type": "code",
   "execution_count": 9,
   "id": "675ccfae-cd1a-45da-ad35-acacf71c32ae",
   "metadata": {},
   "outputs": [
    {
     "data": {
      "image/png": "[encoded data removed]",
      "text/plain": [
       "<Figure size 640x480 with 1 Axes>"
      ]
     },
     "metadata": {},
     "output_type": "display_data"
    }
   ],
   "source": [
    "plt.plot(x, y)\n",
    "plt.xlabel(\"x\")\n",
    "plt.ylabel(\"y\")\n",
    "plt.title(\"Our function\")\n",
    "plt.show()"
   ]
  },
  {
   "cell_type": "code",
   "execution_count": 11,
   "id": "51fbec03-bf40-446e-af3b-603abec24f34",
   "metadata": {},
   "outputs": [
    {
     "name": "stderr",
     "output_type": "stream",
     "text": [
      "/tmp/ipykernel_5982/1391990134.py:3: RuntimeWarning: divide by zero encountered in divide\n",
      "  return 1 / (x - 1)\n"
     ]
    },
    {
     "data": {
      "image/png": "[encoded data removed]",
      "text/plain": [
       "<Figure size 640x480 with 1 Axes>"
      ]
     },
     "metadata": {},
     "output_type": "display_data"
    }
   ],
   "source": [
    "plt.plot(x, y)\n",
    "plt.plot(x, function(x))\n",
    "plt.xlabel(\"x\")\n",
    "plt.ylabel(\"y\")\n",
    "plt.title(\"Our function\")\n",
    "plt.show()"
   ]
  },
  {
   "cell_type": "code",
   "execution_count": 12,
   "id": "346b3564-8867-42bd-b4fc-d40fb3f1354b",
   "metadata": {},
   "outputs": [
    {
     "data": {
      "image/png": "[encoded data removed]",
      "text/plain": [
       "<Figure size 640x480 with 1 Axes>"
      ]
     },
     "metadata": {},
     "output_type": "display_data"
    }
   ],
   "source": [
    "# Построим функцию из трех точек:\n",
    "x = [1, 2, 3]\n",
    "y = [2, 4, 1]\n",
    "\n",
    "plt.plot(x, y)\n",
    "plt.xlabel(\"x - axis\")\n",
    "plt.ylabel(\"y - axis\")\n",
    "plt.title(\"Our aunction\")\n",
    "plt.show()"
   ]
  },
  {
   "cell_type": "code",
   "execution_count": 15,
   "id": "690b4ad5-bb41-4e17-8c09-14b78ee7c13d",
   "metadata": {},
   "outputs": [
    {
     "data": {
      "image/png": "[encoded data removed]",
      "text/plain": [
       "<Figure size 640x480 with 1 Axes>"
      ]
     },
     "metadata": {},
     "output_type": "display_data"
    }
   ],
   "source": [
    "# Добавим на этот график еще одну функцию:\n",
    "x1 = [1, 2, 3]\n",
    "y1 = [2, 4, 1]\n",
    "plt.plot(x1, y1, label = \"graph 1\")\n",
    "\n",
    "x2 = [1, 2, 3]\n",
    "y2 = [4, 1, 3]\n",
    "plt.plot(x2, y2, label = \"graph 2\")\n",
    "\n",
    "plt.xlabel(\"x - axis\")\n",
    "plt.ylabel(\"y - axis\")\n",
    "plt.title(\"Our aunction\")\n",
    "plt.legend()\n",
    "plt.show()"
   ]
  },
  {
   "cell_type": "markdown",
   "id": "92e655fd-690e-4971-9bc1-4d2adedb2c07",
   "metadata": {},
   "source": [
    "#### 1.4.2 Вычисление пределов"
   ]
  },
  {
   "cell_type": "code",
   "execution_count": 16,
   "id": "09daae10-a73c-4894-9ce9-83d377ea3197",
   "metadata": {},
   "outputs": [],
   "source": [
    "import sympy as sym"
   ]
  },
  {
   "cell_type": "code",
   "execution_count": 17,
   "id": "d1942f5a-dc1e-4a26-a2c3-c8863ae07851",
   "metadata": {},
   "outputs": [],
   "source": [
    "# Укажем, что x является символьной переменной\n",
    "x = sym.Symbol('x')"
   ]
  },
  {
   "cell_type": "code",
   "execution_count": 19,
   "id": "13211aee-1409-4c40-ba62-bafccda0892b",
   "metadata": {},
   "outputs": [
    {
     "data": {
      "text/latex": [
       "$\\displaystyle 1$"
      ],
      "text/plain": [
       "1"
      ]
     },
     "execution_count": 19,
     "metadata": {},
     "output_type": "execute_result"
    }
   ],
   "source": [
    "# Ищем предел при x, стремящемся к 0\n",
    "sym.limit(sym.sin(x)/x, x, 0)"
   ]
  },
  {
   "cell_type": "code",
   "execution_count": 20,
   "id": "a69ba3d0-050c-447d-90e8-fd6490986dd3",
   "metadata": {},
   "outputs": [
    {
     "data": {
      "text/latex": [
       "$\\displaystyle 0$"
      ],
      "text/plain": [
       "0"
      ]
     },
     "execution_count": 20,
     "metadata": {},
     "output_type": "execute_result"
    }
   ],
   "source": [
    "# При x, стремящемся к бесконечности:\n",
    "sym.limit(sym.sin(x)/x, x, sym.oo)"
   ]
  },
  {
   "cell_type": "code",
   "execution_count": 21,
   "id": "511faf2d-4099-4516-bbde-355f01237ec0",
   "metadata": {},
   "outputs": [
    {
     "data": {
      "text/latex": [
       "$\\displaystyle \\infty$"
      ],
      "text/plain": [
       "oo"
      ]
     },
     "execution_count": 21,
     "metadata": {},
     "output_type": "execute_result"
    }
   ],
   "source": [
    "sym.limit(1 / x, x, 0)"
   ]
  },
  {
   "cell_type": "markdown",
   "id": "5f791fce-adbe-403e-92cf-8cb96f4bda57",
   "metadata": {},
   "source": [
    "Приближение функции к некоторому значению:"
   ]
  },
  {
   "cell_type": "code",
   "execution_count": 22,
   "id": "a6f8d5c4-d037-445b-854d-9bd40f5759a2",
   "metadata": {},
   "outputs": [
    {
     "name": "stdout",
     "output_type": "stream",
     "text": [
      "2.0\n",
      "2.5937424601000023\n",
      "2.704813829421528\n",
      "2.7169239322355927\n",
      "2.718145926824925\n"
     ]
    }
   ],
   "source": [
    "for kk in range(5):\n",
    "    x = 0.1**kk\n",
    "    print((1 + x)**(1 / x))"
   ]
  },
  {
   "cell_type": "markdown",
   "id": "46c23408-fe09-4505-bf16-67e17ac7cde7",
   "metadata": {},
   "source": [
    "Чем меньше значение x, тем ближе значение предельного значения к константе e"
   ]
  },
  {
   "cell_type": "code",
   "execution_count": 24,
   "id": "57e77018-2e69-4e25-980e-444371d56bda",
   "metadata": {},
   "outputs": [
    {
     "data": {
      "text/latex": [
       "$\\displaystyle 2.71814592682493$"
      ],
      "text/plain": [
       "2.71814592682493"
      ]
     },
     "execution_count": 24,
     "metadata": {},
     "output_type": "execute_result"
    }
   ],
   "source": [
    "# то же самое при помощи функции limit:\n",
    "sym.limit((1 + x)**(1 / x), x, 0)"
   ]
  },
  {
   "cell_type": "code",
   "execution_count": null,
   "id": "547bee90-d9bd-4cc4-9d73-8a0c4e93808c",
   "metadata": {},
   "outputs": [],
   "source": []
  }
 ],
 "metadata": {
  "kernelspec": {
   "display_name": "Python 3 (ipykernel)",
   "language": "python",
   "name": "python3"
  },
  "language_info": {
   "codemirror_mode": {
    "name": "ipython",
    "version": 3
   },
   "file_extension": ".py",
   "mimetype": "text/x-python",
   "name": "python",
   "nbconvert_exporter": "python",
   "pygments_lexer": "ipython3",
   "version": "3.11.6"
  }
 },
 "nbformat": 4,
 "nbformat_minor": 5
}
