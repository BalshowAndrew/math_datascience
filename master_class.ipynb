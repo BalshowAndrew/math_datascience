{
 "cells": [
  {
   "cell_type": "markdown",
   "id": "8720a4df-9ce5-4f62-b627-0b95be781d58",
   "metadata": {},
   "source": [
    "# Практическое занятие"
   ]
  },
  {
   "cell_type": "markdown",
   "id": "c8affd9e-b4d9-4f69-b13b-dc82e00a01b6",
   "metadata": {},
   "source": [
    "## Векторы, матрицы и матричные разложения"
   ]
  },
  {
   "cell_type": "markdown",
   "id": "605c8b86-588a-46a5-88dc-dd61860da81e",
   "metadata": {},
   "source": [
    "### Операции с векторами"
   ]
  },
  {
   "cell_type": "code",
   "execution_count": 1,
   "id": "f47ad3fd-a2c9-4932-b1be-268ed962fd54",
   "metadata": {},
   "outputs": [],
   "source": [
    "import numpy as np\n",
    "import pandas as pd\n",
    "import matplotlib.pyplot as plt\n",
    "from matplotlib import colors\n",
    "import seaborn as sns\n",
    "import math as mt\n",
    "from numpy import linalg as LA\n",
    "from mpl_toolkits.mplot3d import Axes3D\n",
    "from sklearn.datasets import fetch_olivetti_faces\n",
    "%matplotlib inline"
   ]
  },
  {
   "cell_type": "code",
   "execution_count": 2,
   "id": "4899e17d-64f8-426f-a4c5-7b1bbaec7efa",
   "metadata": {},
   "outputs": [],
   "source": [
    "x = np.array([1,0]) # Исходный вектор\n",
    "theta = -40 * mt.pi / 180 # градусы в радианах\n",
    "A = np.array([[np.cos(theta), -np.sin(theta)], [np.sin(theta), np.cos(theta)]]) # матрица поворота\n",
    "B = np.array([[-2.0, 0],[0, 1]]) # Матрица растяжения"
   ]
  },
  {
   "cell_type": "code",
   "execution_count": 3,
   "id": "d20735e9-8de0-483d-a1c0-f2c64e3708e0",
   "metadata": {},
   "outputs": [
    {
     "data": {
      "text/plain": [
       "array([1, 0])"
      ]
     },
     "execution_count": 3,
     "metadata": {},
     "output_type": "execute_result"
    }
   ],
   "source": [
    "x"
   ]
  },
  {
   "cell_type": "code",
   "execution_count": 4,
   "id": "fc773984-f16b-4b9e-a337-5c71cade2123",
   "metadata": {},
   "outputs": [
    {
     "data": {
      "text/plain": [
       "array([ 0.76604444, -0.64278761])"
      ]
     },
     "execution_count": 4,
     "metadata": {},
     "output_type": "execute_result"
    }
   ],
   "source": [
    "# Поворачиваем вектор x\n",
    "Ax = A @ x\n",
    "Ax"
   ]
  },
  {
   "cell_type": "code",
   "execution_count": 5,
   "id": "b10968d3-f2bf-4530-a9bb-4e041aedb1ae",
   "metadata": {},
   "outputs": [
    {
     "data": {
      "text/plain": [
       "array([-2.,  0.])"
      ]
     },
     "execution_count": 5,
     "metadata": {},
     "output_type": "execute_result"
    }
   ],
   "source": [
    "# Вытягиваем вектор x\n",
    "Bx = B @ x\n",
    "Bx"
   ]
  },
  {
   "cell_type": "code",
   "execution_count": 6,
   "id": "a69f812f-13d2-42d1-99ef-a1bd56c48718",
   "metadata": {},
   "outputs": [
    {
     "data": {
      "image/png": "[encoded data removed]",
      "text/plain": [
       "<Figure size 1000x1500 with 2 Axes>"
      ]
     },
     "metadata": {},
     "output_type": "display_data"
    }
   ],
   "source": [
    "# Храним все векторы в одном массиве\n",
    "t1 = np.concatenate([x.reshape(1,2), Ax.reshape(1,2)])\n",
    "# Храним все векторы в одном массиве\n",
    "t2 = np.concatenate([x.reshape(1,2), Bx.reshape(1,2)])\n",
    "origin = [0], [0] # начало координат\n",
    "\n",
    "fig, (ax1, ax2) = plt.subplots(1, 2, figsize=(10,15))\n",
    "plt.subplots_adjust(wspace=0.4)\n",
    "\n",
    "# Plotting t1\n",
    "ax1.quiver(0, 0, t1[:,0][0], t1[:,1][0], color=['b', 'g'], width=0.013, angles='xy', scale_units='xy', scale=1)\n",
    "ax1.quiver(0, 0, t1[:,0][1], t1[:,1][1], color=['b', 'g'], width=0.013, angles='xy', scale_units='xy', scale=1)\n",
    "#ax1.quiver(*origin, t1[:,0], t1[:,1], color=['b', 'g'], width=0.013, angles='xy', scale_units='xy', scale=1)\n",
    "ax1.set_xlabel('x', fontsize=14)\n",
    "ax1.set_ylabel('y', fontsize=14)\n",
    "ax1.set_xlim([-0.5,1.5])\n",
    "ax1.set_ylim([-1.5,1])\n",
    "ax1.set_aspect('equal')\n",
    "ax1.grid(True)\n",
    "ax1.set_axisbelow(True)\n",
    "ax1.set_title(\"Поворот\")\n",
    "ax1.axhline(y=0, color='k')\n",
    "ax1.axvline(x=0, color='k')\n",
    "ax1.text(1, 0.1, \"$\\mathbf{x}$\", fontsize=16)\n",
    "ax1.text(0.8, 0.6, \"$\\mathbf{Ax}$\", fontsize=16)\n",
    "\n",
    "# Plotting t2\n",
    "ax2.quiver(0, 0, t2[:,0][0], t2[:,1][0], color=['b', 'g'], width=0.013, angles='xy', scale_units='xy', scale=1)\n",
    "ax2.quiver(0, 0, t2[:,0][1], t2[:,1][1], color=['b', 'g'], width=0.013, angles='xy', scale_units='xy', scale=1)\n",
    "#ax2.quiver(*origin, t2[:,0], t2[:,1], color=['b', 'g'], width=0.013, angles='xy', scale_units='xy', scale=1)\n",
    "ax2.set_xlabel('x', fontsize=14)\n",
    "ax2.set_ylabel('y', fontsize=14)\n",
    "ax2.set_xlim([-2.5,3.5])\n",
    "ax2.set_ylim([-1.5,1.5])\n",
    "ax2.set_aspect('equal')\n",
    "ax2.grid(True)\n",
    "ax2.set_axisbelow(True)\n",
    "ax2.set_title(\"Растяжение\")\n",
    "ax2.axhline(y=0, color='k')\n",
    "ax2.axvline(x=0, color='k')\n",
    "ax2.text(1, 0.2, \"$\\mathbf{x}$\", fontsize=16)\n",
    "ax2.text(3, 0.2, \"$\\mathbf{Bx}$\", fontsize=16)\n",
    "\n",
    "plt.show()"
   ]
  },
  {
   "cell_type": "markdown",
   "id": "c330d18f-d12b-4747-a9bc-035548f402c3",
   "metadata": {},
   "source": [
    "### Специальные виды матриц"
   ]
  },
  {
   "cell_type": "markdown",
   "id": "9446d93b-bee6-4ce9-9613-1efd964bb561",
   "metadata": {},
   "source": [
    "#### Диагональная матрица"
   ]
  },
  {
   "cell_type": "code",
   "execution_count": 7,
   "id": "c36936d1-24eb-40f1-a745-6e67d49f2668",
   "metadata": {},
   "outputs": [
    {
     "data": {
      "text/plain": [
       "array([[2, 0, 0, 0],\n",
       "       [0, 4, 0, 0],\n",
       "       [0, 0, 3, 0],\n",
       "       [0, 0, 0, 1]])"
      ]
     },
     "execution_count": 7,
     "metadata": {},
     "output_type": "execute_result"
    }
   ],
   "source": [
    "v = np.array([2, 4, 3, 1])\n",
    "A = np.diag(v)\n",
    "A"
   ]
  },
  {
   "cell_type": "code",
   "execution_count": 8,
   "id": "bd14d9a0-4801-4119-a1ab-0a0399334a1b",
   "metadata": {},
   "outputs": [
    {
     "data": {
      "text/plain": [
       "array([[0.5       , 0.        , 0.        , 0.        ],\n",
       "       [0.        , 0.25      , 0.        , 0.        ],\n",
       "       [0.        , 0.        , 0.33333333, 0.        ],\n",
       "       [0.        , 0.        , 0.        , 1.        ]])"
      ]
     },
     "execution_count": 8,
     "metadata": {},
     "output_type": "execute_result"
    }
   ],
   "source": [
    "# Обратная матрица диагональной матрицы тоже явлеяется диагональной\n",
    "A_inv = np.linalg.inv(A)\n",
    "A_inv"
   ]
  },
  {
   "cell_type": "code",
   "execution_count": 9,
   "id": "41fc577d-073b-4444-a52d-1fa2830ae7f9",
   "metadata": {},
   "outputs": [
    {
     "data": {
      "text/plain": [
       "array([[1., 0., 0., 0.],\n",
       "       [0., 1., 0., 0.],\n",
       "       [0., 0., 1., 0.],\n",
       "       [0., 0., 0., 1.]])"
      ]
     },
     "execution_count": 9,
     "metadata": {},
     "output_type": "execute_result"
    }
   ],
   "source": [
    "# Умножение матрицы на ее обратную матрицу = единичная матрица\n",
    "A.dot(A_inv)"
   ]
  },
  {
   "cell_type": "markdown",
   "id": "55de38cd-1187-4f99-b3e4-bc85ba5fcf7d",
   "metadata": {},
   "source": [
    "#### Симметричная матрица"
   ]
  },
  {
   "cell_type": "code",
   "execution_count": 10,
   "id": "a1c68137-f56b-479b-a5d1-5e275712cd30",
   "metadata": {},
   "outputs": [
    {
     "data": {
      "text/plain": [
       "array([[ 2,  4, -1],\n",
       "       [ 4, -8,  0],\n",
       "       [-1,  0,  3]])"
      ]
     },
     "execution_count": 10,
     "metadata": {},
     "output_type": "execute_result"
    }
   ],
   "source": [
    "A = np.array([[2, 4, -1], [4, -8, 0], [-1, 0, 3]])\n",
    "A"
   ]
  },
  {
   "cell_type": "markdown",
   "id": "223a87fe-b85d-4b56-9686-8b279dc6ff03",
   "metadata": {},
   "source": [
    "#### Ортогональная матрица"
   ]
  },
  {
   "cell_type": "code",
   "execution_count": 11,
   "id": "2b4b708b-9aa5-4a8f-8dd2-dc2c3db65cb2",
   "metadata": {},
   "outputs": [
    {
     "data": {
      "image/png": "[encoded data removed]",
      "text/plain": [
       "<Figure size 600x600 with 1 Axes>"
      ]
     },
     "metadata": {},
     "output_type": "display_data"
    }
   ],
   "source": [
    "x = [0, 0, 2, 2]\n",
    "y = [0, 0, 2, -2]\n",
    "\n",
    "plt.figure(figsize=(6, 6))\n",
    "plt.quiver([x[0], y[0]],\n",
    "           [x[1], y[1]],\n",
    "           [x[2], y[2]],\n",
    "           [x[3], y[3]],\n",
    "           angles='xy', scale_units='xy', scale=1)\n",
    "\n",
    "plt.xlim(-2, 4)\n",
    "plt.ylim(-3, 3)\n",
    "plt.axvline(x=0, color='grey')\n",
    "plt.axhline(y=0, color='grey')\n",
    "\n",
    "plt.text(1, 1.5, r'$\\vec{u}$', size=18)\n",
    "plt.text(1.5, -1, r'$\\vec{v}$', size=18)\n",
    "\n",
    "plt.show()\n",
    "plt.close()"
   ]
  },
  {
   "cell_type": "code",
   "execution_count": 12,
   "id": "4961a501-93af-4122-8a22-9229906e47b9",
   "metadata": {},
   "outputs": [
    {
     "data": {
      "text/plain": [
       "array([[ 0.15425145,  0.98803162],\n",
       "       [-0.98803162,  0.15425145]])"
      ]
     },
     "execution_count": 12,
     "metadata": {},
     "output_type": "execute_result"
    }
   ],
   "source": [
    "A = np.array([[np.cos(30), -np.sin(30)], [np.sin(30), np.cos(30)]])\n",
    "A"
   ]
  },
  {
   "cell_type": "code",
   "execution_count": 13,
   "id": "82ec961d-4f63-4aa6-8869-9059114d34d3",
   "metadata": {},
   "outputs": [],
   "source": [
    "col0 = A[:, 0].reshape(A[:, 0].shape[0], 1)\n",
    "col1 = A[:, 1].reshape(A[:, 1].shape[0], 1)\n",
    "row0 = A[0, :].reshape(A[0, :].shape[0], 1)\n",
    "row1 = A[1, :].reshape(A[1, :].shape[0], 1)"
   ]
  },
  {
   "cell_type": "code",
   "execution_count": 14,
   "id": "24e93a30-ed88-489c-ab11-5a9c0254037d",
   "metadata": {},
   "outputs": [
    {
     "data": {
      "text/plain": [
       "array([[0.]])"
      ]
     },
     "execution_count": 14,
     "metadata": {},
     "output_type": "execute_result"
    }
   ],
   "source": [
    "col0.T.dot(col1)"
   ]
  },
  {
   "cell_type": "code",
   "execution_count": 15,
   "id": "09726f97-3568-4337-8d3d-f377428d2f0d",
   "metadata": {},
   "outputs": [
    {
     "data": {
      "text/plain": [
       "array([[0.]])"
      ]
     },
     "execution_count": 15,
     "metadata": {},
     "output_type": "execute_result"
    }
   ],
   "source": [
    "row0.T.dot(row1)"
   ]
  },
  {
   "cell_type": "markdown",
   "id": "65897bba-ac51-4f47-a3da-1d3943aab239",
   "metadata": {},
   "source": [
    "Транспонированная ортогональная матрица равна ее обратной матрице:"
   ]
  },
  {
   "cell_type": "code",
   "execution_count": 16,
   "id": "2959260e-ab05-47ef-891d-8c6d7723f1d3",
   "metadata": {},
   "outputs": [
    {
     "data": {
      "text/plain": [
       "array([[ 0.15425145, -0.98803162],\n",
       "       [ 0.98803162,  0.15425145]])"
      ]
     },
     "execution_count": 16,
     "metadata": {},
     "output_type": "execute_result"
    }
   ],
   "source": [
    "A.T"
   ]
  },
  {
   "cell_type": "code",
   "execution_count": 17,
   "id": "707b9207-5222-436f-b754-2d2df9a304e7",
   "metadata": {},
   "outputs": [
    {
     "data": {
      "text/plain": [
       "array([[ 0.15425145, -0.98803162],\n",
       "       [ 0.98803162,  0.15425145]])"
      ]
     },
     "execution_count": 17,
     "metadata": {},
     "output_type": "execute_result"
    }
   ],
   "source": [
    "np.linalg.inv(A)"
   ]
  },
  {
   "cell_type": "markdown",
   "id": "803d4ba3-2478-4000-bc09-9706e6e71bf3",
   "metadata": {},
   "source": [
    "Произведение ортогональной матрицы на транспонированную матрицу равно единичной матрице"
   ]
  },
  {
   "cell_type": "code",
   "execution_count": 18,
   "id": "8096dfac-0750-4125-a597-9defe5fe3a72",
   "metadata": {},
   "outputs": [
    {
     "data": {
      "text/plain": [
       "array([[ 1.00000000e+00, -1.28317219e-17],\n",
       "       [-1.28317219e-17,  1.00000000e+00]])"
      ]
     },
     "execution_count": 18,
     "metadata": {},
     "output_type": "execute_result"
    }
   ],
   "source": [
    "A.T.dot(A)"
   ]
  },
  {
   "cell_type": "markdown",
   "id": "7bc03d75-d8b2-438f-9233-7ea23edc130c",
   "metadata": {},
   "source": [
    "### Матричное преобразование в общем виде"
   ]
  },
  {
   "cell_type": "code",
   "execution_count": 19,
   "id": "703667af-bf74-4f9c-8989-b96c8f321d8d",
   "metadata": {},
   "outputs": [
    {
     "data": {
      "image/png": "[encoded data removed]",
      "text/plain": [
       "<Figure size 1000x1500 with 2 Axes>"
      ]
     },
     "metadata": {},
     "output_type": "display_data"
    }
   ],
   "source": [
    "# Единичная окружность\n",
    "xi1 = np.linspace(-1.0, 1.0, 100)\n",
    "xi2 = np.linspace(1.0, -1.0, 100)\n",
    "yi1 = np.sqrt(1 - xi1**2)\n",
    "yi2 = -np.sqrt(1 - xi2**2)\n",
    "\n",
    "xi = np.concatenate((xi1, xi2),axis=0)\n",
    "yi = np.concatenate((yi1, yi2),axis=0)\n",
    "x = np.vstack((xi, yi))\n",
    "\n",
    "# Несколько векторов\n",
    "x_sample1 = x[:, 65]\n",
    "x_sample2 = x[:, 100]\n",
    "\n",
    "A = np.array([[3, 2],\n",
    "              [0, 2]]) \n",
    "\n",
    "t = A @ x  # Преобразование\n",
    "\n",
    "t_sample1 = t[:, 65]\n",
    "t_sample2 = t[:, 100]\n",
    "fig, (ax1, ax2) = plt.subplots(1, 2, figsize=(10,15))\n",
    "\n",
    "plt.subplots_adjust(wspace=0.4)\n",
    "\n",
    "# График x\n",
    "ax1.plot(x[0,:], x[1,:], color='b')\n",
    "ax1.quiver(*origin, x_sample1[0], x_sample1[1], color=['b'], width=0.012, angles='xy', scale_units='xy', scale=1)\n",
    "ax1.quiver(*origin, x_sample2[0], x_sample2[1], color=['r'], width=0.012, angles='xy', scale_units='xy', scale=1)\n",
    "ax1.set_xlabel('x', fontsize=14)\n",
    "ax1.set_ylabel('y', fontsize=14)\n",
    "ax1.set_xlim([-4,4])\n",
    "ax1.set_ylim([-4,4])\n",
    "ax1.set_aspect('equal')\n",
    "ax1.grid(True)\n",
    "ax1.set_axisbelow(True)\n",
    "ax1.set_title(\"Исходные векторы\")\n",
    "ax1.axhline(y=0, color='k')\n",
    "ax1.axvline(x=0, color='k')\n",
    "ax1.text(0.3, 1.2, \"$\\mathbf{x_1}$\", color='b', fontsize=14)\n",
    "ax1.text(1.2, 0.2, \"$\\mathbf{x_2}$\", color='r', fontsize=14)\n",
    "\n",
    "# График t\n",
    "ax2.plot(t[0, :], t[1, :], color='b')\n",
    "ax2.quiver(*origin, t_sample1[0], t_sample1[1], color=['b'], width=0.012, angles='xy', scale_units='xy', scale=1)\n",
    "ax2.quiver(*origin, t_sample2[0], t_sample2[1], color=['r'], width=0.012, angles='xy', scale_units='xy', scale=1)\n",
    "\n",
    "ax2.set_xlabel('x', fontsize=14)\n",
    "ax2.set_ylabel('y', fontsize=14)\n",
    "ax2.set_xlim([-4,4])\n",
    "ax2.set_ylim([-4,4])\n",
    "ax2.set_aspect('equal')\n",
    "ax2.grid(True)\n",
    "ax2.set_axisbelow(True)\n",
    "ax2.set_title(\"Преобразованные векторы\")\n",
    "ax2.axhline(y=0, color='k')\n",
    "ax2.axvline(x=0, color='k')\n",
    "ax2.text(2.5, 2.3, \"$\\mathbf{t_1}$\", color='b', fontsize=14)\n",
    "ax2.text(2.6, 0.4, \"$\\mathbf{t_2}$\", color='r', fontsize=14)\n",
    "\n",
    "plt.show()"
   ]
  },
  {
   "cell_type": "markdown",
   "id": "e9899f76-db80-4055-85f6-c8f59543929b",
   "metadata": {},
   "source": [
    "### Собственные векторы и собственные значения матриц"
   ]
  },
  {
   "cell_type": "code",
   "execution_count": 20,
   "id": "126491b8-4f6f-4a68-bfa6-df8341a702d8",
   "metadata": {},
   "outputs": [
    {
     "name": "stdout",
     "output_type": "stream",
     "text": [
      "lambdas = [3. 2.]\n",
      "u = [[ 1.     -0.8944]\n",
      " [ 0.      0.4472]]\n"
     ]
    }
   ],
   "source": [
    "A = np.array([[3, 2],\n",
    "              [0, 2]]) \n",
    "lam, u = LA.eig(A)\n",
    "print(\"lambdas =\", np.round(lam, 4))\n",
    "print(\"u =\", np.round(u, 4))"
   ]
  },
  {
   "cell_type": "markdown",
   "id": "c2ee8c76-6ee5-4754-986d-c63993038710",
   "metadata": {},
   "source": [
    "### Симметричная матрица"
   ]
  },
  {
   "cell_type": "code",
   "execution_count": 21,
   "id": "59f83e22-5fe6-405d-b0d7-793326ca0fda",
   "metadata": {},
   "outputs": [
    {
     "name": "stdout",
     "output_type": "stream",
     "text": [
      "lam= [3.618 1.382]\n",
      "u= [[ 0.8507 -0.5257]\n",
      " [ 0.5257  0.8507]]\n"
     ]
    },
    {
     "data": {
      "image/png": "[encoded data removed]",
      "text/plain": [
       "<Figure size 1000x1500 with 2 Axes>"
      ]
     },
     "metadata": {},
     "output_type": "display_data"
    }
   ],
   "source": [
    "A = np.array([[3, 1],\n",
    "             [1, 2]]) \n",
    "\n",
    "# A = np.array([[3, 1],\n",
    "#               [1, 0.8]]) \n",
    "\n",
    "lam, u = LA.eig(A)\n",
    "print(\"lam=\", np.round(lam, 4))\n",
    "print(\"u=\", np.round(u, 4))\n",
    "\n",
    "t = A @ x\n",
    "\n",
    "fig, (ax1, ax2) = plt.subplots(1, 2, figsize=(10,15))\n",
    "\n",
    "plt.subplots_adjust(wspace=0.4)\n",
    "\n",
    "# Plotting x\n",
    "ax1.plot(x[0,:], x[1,:], color='b')\n",
    "ax1.quiver(0, 0, u[:,0][0], u[:,0][1], color=['b'], width=0.012, angles='xy', scale_units='xy', scale=1)\n",
    "ax1.quiver(0, 0, u[:,1][0], u[:,1][1], color=['b'], width=0.012, angles='xy', scale_units='xy', scale=1)\n",
    "ax1.set_xlabel('x', fontsize=14)\n",
    "ax1.set_ylabel('y', fontsize=14)\n",
    "ax1.set_xlim([-4,4])\n",
    "ax1.set_ylim([-4,4])\n",
    "ax1.set_aspect('equal')\n",
    "ax1.grid(True)\n",
    "ax1.set_title(\"Исходные векторы\")\n",
    "ax1.axhline(y=0, color='k')\n",
    "ax1.axvline(x=0, color='k')\n",
    "ax1.text(1, 0.7, \"$\\mathbf{u_1}$\", fontsize=14)\n",
    "ax1.text(-1.2, 1.1, \"$\\mathbf{u_2}$\", fontsize=14)\n",
    "ax1.text(0.8, -1.1, \"$\\mathbf{x}$\", color='b', fontsize=14)\n",
    "\n",
    "# Plotting t\n",
    "ax2.plot(t[0, :], t[1, :], color='b')\n",
    "ax2.quiver(0, 0, lam[0] * u[0,0], lam[0] * u[1,0], color=['r'], width=0.012, angles='xy', scale_units='xy', scale=1)\n",
    "ax2.quiver(0, 0, lam[1] * u[0,1], lam[1] * u[1,1], color=['r'], width=0.012, angles='xy', scale_units='xy', scale=1)\n",
    "ax1.quiver(0, 0, u[:,0][0], u[:,0][1], color=['b'], width=0.012, angles='xy', scale_units='xy', scale=1)\n",
    "ax1.quiver(0, 0, u[:,1][0], u[:,1][1], color=['b'], width=0.012, angles='xy', scale_units='xy', scale=1)\n",
    "# ax2.quiver(0, 0, u[0,:], u[1,:], color=['b'], width=0.012, angles='xy', scale_units='xy', scale=1)\n",
    "ax2.set_xlabel('x', fontsize=14)\n",
    "ax2.set_ylabel('y', fontsize=14)\n",
    "ax2.set_xlim([-4,4])\n",
    "ax2.set_ylim([-4,4])\n",
    "ax2.set_aspect('equal')\n",
    "ax2.grid(True)\n",
    "ax2.set_title(\"Преобразованные векторы\")\n",
    "ax2.axhline(y=0, color='k')\n",
    "ax2.axvline(x=0, color='k')\n",
    "ax2.text(0.2, 0.8, \"$\\mathbf{u_1}$\", fontsize=14)\n",
    "ax2.text(-1.2, 0.3, \"$\\mathbf{u_2}$\", fontsize=14)\n",
    "ax2.text(2.8, 2.3, \"$\\lambda_1\\mathbf{u_1}$\", fontsize=14)\n",
    "ax2.text(-1.7, 1.5, \"$\\lambda_2\\mathbf{u_2}$\", fontsize=14)\n",
    "ax2.text(0.9, -1.5, \"$\\mathbf{Ax}$\", color='b', fontsize=14)\n",
    "\n",
    "plt.show()"
   ]
  },
  {
   "cell_type": "markdown",
   "id": "3c919690-2cd4-43b3-9773-59d7d520fe63",
   "metadata": {},
   "source": [
    "### PCA своими руками"
   ]
  },
  {
   "cell_type": "code",
   "execution_count": 22,
   "id": "5156bc7b-f0bd-46ac-8ad1-e347eac983f6",
   "metadata": {},
   "outputs": [
    {
     "data": {
      "text/plain": [
       "(100, 2)"
      ]
     },
     "execution_count": 22,
     "metadata": {},
     "output_type": "execute_result"
    }
   ],
   "source": [
    "np.random.seed(123)\n",
    "x = 5*np.random.rand(100)\n",
    "y = 2*x + 1 + np.random.randn(100)\n",
    "\n",
    "x = x.reshape(100, 1)\n",
    "y = y.reshape(100, 1)\n",
    "\n",
    "X = np.hstack([x, y])\n",
    "X.shape"
   ]
  },
  {
   "cell_type": "code",
   "execution_count": 23,
   "id": "68f5394b-aa49-4de8-8360-0f0ba509ed5d",
   "metadata": {},
   "outputs": [
    {
     "data": {
      "image/png": "[encoded data removed]",
      "text/plain": [
       "<Figure size 600x600 with 1 Axes>"
      ]
     },
     "metadata": {},
     "output_type": "display_data"
    }
   ],
   "source": [
    "plt.figure(figsize=(6, 6))\n",
    "plt.plot(X[:,0], X[:,1], '*')\n",
    "plt.show()"
   ]
  },
  {
   "cell_type": "code",
   "execution_count": 26,
   "id": "cfbba041-06ae-4b04-ae16-04ae2d259a57",
   "metadata": {},
   "outputs": [],
   "source": [
    "# Отцентрируем данные, чтобы они проходили через 0\n",
    "def centerData(X):\n",
    "    X = X.copy()\n",
    "    X -= np.mean(X, axis = 0)\n",
    "    return X"
   ]
  },
  {
   "cell_type": "code",
   "execution_count": 27,
   "id": "12c3e045-8cdc-44dc-bf84-395982bd58e2",
   "metadata": {},
   "outputs": [
    {
     "data": {
      "image/png": "[encoded data removed]",
      "text/plain": [
       "<Figure size 600x600 with 1 Axes>"
      ]
     },
     "metadata": {},
     "output_type": "display_data"
    }
   ],
   "source": [
    "X_centered = centerData(X)\n",
    "plt.figure(figsize=(6, 6))\n",
    "plt.plot(X_centered[:,0], X_centered[:,1], '*')\n",
    "plt.show()"
   ]
  },
  {
   "cell_type": "code",
   "execution_count": 33,
   "id": "3f30d065-8739-48ea-a1d6-d1cbf2242638",
   "metadata": {},
   "outputs": [
    {
     "data": {
      "text/plain": [
       "array([[150.52943921, 292.95899508],\n",
       "       [292.95899508, 665.87029332]])"
      ]
     },
     "execution_count": 33,
     "metadata": {},
     "output_type": "execute_result"
    }
   ],
   "source": [
    "# Умножаем вектор на себя же странспонированного\n",
    "X_centered.T.dot(X_centered)\n",
    "# В результате получили симметричную матрицу"
   ]
  },
  {
   "cell_type": "code",
   "execution_count": 34,
   "id": "9736e359-d4f5-4efb-a564-24e04efec486",
   "metadata": {},
   "outputs": [
    {
     "data": {
      "text/plain": [
       "array([[-0.91116273, -0.41204669],\n",
       "       [ 0.41204669, -0.91116273]])"
      ]
     },
     "execution_count": 34,
     "metadata": {},
     "output_type": "execute_result"
    }
   ],
   "source": [
    "# Вычисляем собственные векторы и собственные значения:\n",
    "eigVals, eigVecs = np.linalg.eig(X_centered.T.dot(X_centered))\n",
    "eigVecs"
   ]
  },
  {
   "cell_type": "code",
   "execution_count": 35,
   "id": "f261e731-e293-46fd-826c-959fef6c50d6",
   "metadata": {},
   "outputs": [
    {
     "data": {
      "text/plain": [
       "array([ 18.04730409, 798.35242844])"
      ]
     },
     "execution_count": 35,
     "metadata": {},
     "output_type": "execute_result"
    }
   ],
   "source": [
    "eigVals"
   ]
  },
  {
   "cell_type": "code",
   "execution_count": 38,
   "id": "61a6d104-5fd0-4bf3-95f0-17333b7f27fa",
   "metadata": {},
   "outputs": [],
   "source": [
    "# Визуализируем их\n",
    "def plotVectors(vecs, cols, alpha=1):\n",
    "    \"\"\"\n",
    "    Plot set of vectors\n",
    "    \"\"\"\n",
    "    plt.figure(figsize=(6, 6))\n",
    "    plt.axvline(x=0, color='#A9A9A9', zorder=0)\n",
    "    plt.axhline(y=0, color='#A9A9A9', zorder=0)\n",
    "\n",
    "    for i in range(len(vecs)):\n",
    "        x = np.concatenate([[0,0],vecs[i]])\n",
    "        plt.quiver([x[0]],\n",
    "                   [x[1]],\n",
    "                   [x[2]],\n",
    "                   [x[3]],\n",
    "                   angles='xy', scale_units='xy', scale=1, color=cols[i],\n",
    "                   alpha=alpha)"
   ]
  },
  {
   "cell_type": "code",
   "execution_count": 39,
   "id": "990a842a-617b-4813-a6b8-163ff4881291",
   "metadata": {},
   "outputs": [
    {
     "data": {
      "image/png": "[encoded data removed]",
      "text/plain": [
       "<Figure size 600x600 with 1 Axes>"
      ]
     },
     "metadata": {},
     "output_type": "display_data"
    }
   ],
   "source": [
    "orange = '#FF9A13'\n",
    "blue = '#1190FF'\n",
    "plotVectors(eigVecs.T, [orange, blue])\n",
    "plt.plot(X_centered[:,0], X_centered[:,1], '*')\n",
    "plt.xlim(-3, 3)\n",
    "plt.ylim(-3, 3)\n",
    "plt.show()"
   ]
  },
  {
   "cell_type": "code",
   "execution_count": 40,
   "id": "b2fb1c46-a770-4bcc-88a1-7d0d6a3c87fa",
   "metadata": {},
   "outputs": [
    {
     "data": {
      "text/plain": [
       "array([ 18.04730409, 798.35242844])"
      ]
     },
     "execution_count": 40,
     "metadata": {},
     "output_type": "execute_result"
    }
   ],
   "source": [
    "eigVals"
   ]
  },
  {
   "cell_type": "code",
   "execution_count": 43,
   "id": "e520d6bd-e96c-4fca-85d0-ed4999ea5082",
   "metadata": {},
   "outputs": [
    {
     "data": {
      "image/png": "[encoded data removed]",
      "text/plain": [
       "<Figure size 600x600 with 1 Axes>"
      ]
     },
     "metadata": {},
     "output_type": "display_data"
    }
   ],
   "source": [
    "# Повернем данные, умножив центрированные данные на их собственные векторы\n",
    "X_new = eigVecs.T.dot(X_centered.T)\n",
    "\n",
    "plt.figure(figsize=(6, 6))\n",
    "plt.plot(eigVecs.T.dot(X_centered.T)[0, :], eigVecs.T.dot(X_centered.T)[1, :], '*')\n",
    "plt.xlim(-5, 5)\n",
    "plt.ylim(-5, 5)\n",
    "plt.show()"
   ]
  },
  {
   "cell_type": "markdown",
   "id": "466321fb-a3d4-4a6e-af05-a4f01d031466",
   "metadata": {},
   "source": [
    "### Смена координат векторов"
   ]
  },
  {
   "cell_type": "code",
   "execution_count": 44,
   "id": "feeb523a-07b6-44b5-a491-aa384e9ab0fd",
   "metadata": {},
   "outputs": [
    {
     "name": "stdout",
     "output_type": "stream",
     "text": [
      "x_B= [[4.  ]\n",
      " [2.83]]\n"
     ]
    },
    {
     "data": {
      "image/png": "[encoded data removed]",
      "text/plain": [
       "<Figure size 1000x1500 with 2 Axes>"
      ]
     },
     "metadata": {},
     "output_type": "display_data"
    }
   ],
   "source": [
    "# Базис\n",
    "v_1 = np.array([[1],[0]])\n",
    "v_2 = np.array([[-1/mt.sqrt(2)],[1/mt.sqrt(2)]])\n",
    "\n",
    "#v_1 = np.array([[2],[0]])\n",
    "#v_2 = np.array([[1],[1]])\n",
    "\n",
    "# Матрица смены координат\n",
    "p = np.concatenate([v_1, v_2], axis=1)\n",
    "p_inv = np.linalg.inv(p) \n",
    "\n",
    "# Исходные координаты x в R^2\n",
    "x=np.array([[2], [2]])\n",
    "\n",
    "# Новые координаты в базисе B\n",
    "x_B = p_inv @ x\n",
    "\n",
    "print(\"x_B=\", np.round(x_B, 2))\n",
    "\n",
    "fig, (ax1, ax2) = plt.subplots(1, 2, figsize=(10,15))\n",
    "\n",
    "plt.subplots_adjust(wspace=0.4)\n",
    "\n",
    "# Plotting x in R2\n",
    "ax1.quiver(*origin, x[0], x[1], color=['r'], width=0.01, angles='xy', scale_units='xy', scale=1)\n",
    "ax1.quiver(*origin, 1, 0, color=['b'], width=0.01, angles='xy', scale_units='xy', scale=1)\n",
    "ax1.quiver(*origin, 0, 1, color=['b'], width=0.01, angles='xy', scale_units='xy', scale=1)\n",
    "\n",
    "ax1.set_xlim([-5,6])\n",
    "ax1.set_ylim([-3,4])\n",
    "ax1.set_aspect('equal')\n",
    "ax1.grid(True)\n",
    "ax1.set_title(\"Координаты $\\mathbf{x}$ в $\\mathbf{R^2}$\")\n",
    "ax1.axhline(y=0, color='k')\n",
    "ax1.axvline(x=0, color='k')\n",
    "ax1.text(x[0]+0.2, x[1]+0.2, \"$\\mathbf{x}$\", fontsize=12)\n",
    "ax1.text(1, -0.8, \"$\\mathbf{i}$\", fontsize=12)\n",
    "ax1.text(-0.6, 1, \"$\\mathbf{j}$\", fontsize=12)\n",
    "ax1.axvline(x=x[0], color='grey', linestyle='--')\n",
    "ax1.axhline(y=x[1], color='grey', linestyle='--')\n",
    "\n",
    "# Plotting x in B\n",
    "# Plotting the grid\n",
    "multipliers = np.linspace(-10,10,100)\n",
    "\n",
    "for i in range(-6,7,4):\n",
    "    for j in range(-6,7,1):\n",
    "        grid_1 = (v_1 * multipliers) + np.array([[i],[j]])\n",
    "        grid_2 = (v_2 * multipliers) + np.array([[i],[j]])\n",
    "        ax2.plot(grid_1[0], grid_1[1], color='grey', linewidth=0.2)\n",
    "        ax2.plot(grid_2[0], grid_2[1], color='grey', linewidth=0.2)\n",
    "        \n",
    "# Plotting the vector guide\n",
    "vector_guide_1 = (v_1 * multipliers) + x\n",
    "vector_guide_2 = (v_2 * multipliers) + x\n",
    "ax2.plot(vector_guide_1[0], vector_guide_1[1], color='grey', linewidth=1.5, linestyle='--')\n",
    "ax2.plot(vector_guide_2[0], vector_guide_2[1], color='grey', linewidth=1.5, linestyle='--')\n",
    "\n",
    "# Plotting the axis\n",
    "vector_guide_1 = (v_1 * multipliers) + np.array([[0],[0]])\n",
    "vector_guide_2 = (v_2 * multipliers) + np.array([[0],[0]])\n",
    "ax2.plot(vector_guide_1[0], vector_guide_1[1], color='black', linewidth=1.2)\n",
    "ax2.plot(vector_guide_2[0], vector_guide_2[1], color='black', linewidth=1.2)\n",
    "\n",
    "ax2.quiver(*origin, x[0], x[1], color=['r'], width=0.01, angles='xy', scale_units='xy', scale=1)\n",
    "ax2.quiver(*origin, v_1[0], v_1[1], color=['b'], width=0.01, angles='xy', scale_units='xy', scale=1)\n",
    "ax2.quiver(*origin, v_2[0], v_2[1], color=['b'], width=0.01, angles='xy', scale_units='xy', scale=1)\n",
    "\n",
    "ax2.set_xlim([-5,6])\n",
    "ax2.set_ylim([-3,4])\n",
    "ax2.set_aspect('equal')\n",
    "\n",
    "ax2.set_title(\"Координаты $\\mathbf{x}$ в $\\mathit{B}$\")\n",
    "ax2.axhline(y=0, color='k', linewidth=0.5)\n",
    "ax2.axvline(x=0, color='k', linewidth=0.5)\n",
    "ax2.text(x[0]+0.2, x[1]+0.2, \"$\\mathbf{x}$\", fontsize=12)\n",
    "ax2.text(1, 0.2, \"$\\mathbf{u_1}$\", fontsize=12)\n",
    "ax2.text(-0.7, 0.8, \"$\\mathbf{u_2}$\", fontsize=12)\n",
    "\n",
    "plt.show()"
   ]
  },
  {
   "cell_type": "markdown",
   "id": "c32e159f-61a8-43b4-b4f7-648c3d767fa5",
   "metadata": {},
   "source": [
    "### Спектральное разложение"
   ]
  },
  {
   "cell_type": "code",
   "execution_count": 45,
   "id": "ed70ae07-d33d-49df-8560-e5800b25916a",
   "metadata": {},
   "outputs": [],
   "source": [
    "A = np.array([[3, 1],\n",
    "              [1, 2]])   \n",
    "lam, u = LA.eig(A)"
   ]
  },
  {
   "cell_type": "code",
   "execution_count": 46,
   "id": "235e23f1-225f-48d5-a86c-8cd6660683e5",
   "metadata": {},
   "outputs": [
    {
     "data": {
      "text/plain": [
       "array([3.61803399, 1.38196601])"
      ]
     },
     "execution_count": 46,
     "metadata": {},
     "output_type": "execute_result"
    }
   ],
   "source": [
    "lam"
   ]
  },
  {
   "cell_type": "code",
   "execution_count": 47,
   "id": "5ba4362b-eb8e-4a57-b532-6f6bda9f8e0e",
   "metadata": {},
   "outputs": [
    {
     "data": {
      "text/plain": [
       "array([[ 0.85065081, -0.52573111],\n",
       "       [ 0.52573111,  0.85065081]])"
      ]
     },
     "execution_count": 47,
     "metadata": {},
     "output_type": "execute_result"
    }
   ],
   "source": [
    "u"
   ]
  },
  {
   "cell_type": "code",
   "execution_count": 48,
   "id": "c14c4348-7599-4f02-9bb5-426666040dd7",
   "metadata": {},
   "outputs": [
    {
     "name": "stdout",
     "output_type": "stream",
     "text": [
      "A_1= [[2.618 1.618]\n",
      " [1.618 1.   ]]\n",
      "A_2= [[ 0.382 -0.618]\n",
      " [-0.618  1.   ]]\n"
     ]
    }
   ],
   "source": [
    "u1= u[:,0].reshape(2,1)\n",
    "lam1 = lam[0]\n",
    "# A_1 = lambda_1 * u1 * u1^T\n",
    "A_1 = lam1 * (u1 @ u1.T)\n",
    "u2= u[:,1].reshape(2,1)\n",
    "lam2 = lam[1]\n",
    "# A_2 = lambda_2 * u2 * u2^T\n",
    "A_2 = lam2 * (u2 @ u2.T)\n",
    "print(\"A_1=\", np.round(A_1, 4))\n",
    "print(\"A_2=\", np.round(A_2, 4))"
   ]
  },
  {
   "cell_type": "code",
   "execution_count": 49,
   "id": "ec2ea7e1-187e-48f9-8f35-6fa73bb8060c",
   "metadata": {},
   "outputs": [
    {
     "data": {
      "text/plain": [
       "array([[3., 1.],\n",
       "       [1., 2.]])"
      ]
     },
     "execution_count": 49,
     "metadata": {},
     "output_type": "execute_result"
    }
   ],
   "source": [
    "A_1 + A_2"
   ]
  },
  {
   "cell_type": "code",
   "execution_count": 50,
   "id": "b08299ae-a23f-4805-8f8c-21d1723e7dec",
   "metadata": {},
   "outputs": [
    {
     "name": "stdout",
     "output_type": "stream",
     "text": [
      "lam= [0.    1.382]\n",
      "u= [[-0.8507  0.5257]\n",
      " [-0.5257 -0.8507]]\n"
     ]
    }
   ],
   "source": [
    "lam_A_1, u_A_1 = LA.eig(A_2)\n",
    "print(\"lam=\", np.round(lam_A_1, 4))\n",
    "print(\"u=\", np.round(u_A_1, 4))"
   ]
  },
  {
   "cell_type": "code",
   "execution_count": 52,
   "id": "19dee5e9-9be4-48c7-81e5-fc5d18e5bebf",
   "metadata": {},
   "outputs": [
    {
     "name": "stdout",
     "output_type": "stream",
     "text": [
      "lam= [3. 2.]\n",
      "u= [[ 1.     -0.8944]\n",
      " [ 0.      0.4472]]\n"
     ]
    }
   ],
   "source": [
    "# Общий случай\n",
    "B = np.array([[3, 2],\n",
    "              [0, 2]]) \n",
    "lam, u = LA.eig(B)\n",
    "\n",
    "print(\"lam=\", np.round(lam, 4))\n",
    "print(\"u=\", np.round(u, 4))"
   ]
  },
  {
   "cell_type": "code",
   "execution_count": 55,
   "id": "9349a0c7-d51c-4489-813c-28ab13aef653",
   "metadata": {},
   "outputs": [
    {
     "data": {
      "image/png": "[encoded data removed]",
      "text/plain": [
       "<Figure size 500x1000 with 1 Axes>"
      ]
     },
     "metadata": {},
     "output_type": "display_data"
    }
   ],
   "source": [
    "A = np.array([[3, 2],\n",
    "              [0, 2]]) \n",
    "lam_A, u_A = LA.eig(A)\n",
    "\n",
    "A2 = A.T @ A\n",
    "\n",
    "lam_A2, u_A2 = LA.eig(A2)\n",
    "\n",
    "t = A @ x   # Vectors in t are the transformed vectors of x\n",
    "t1 = A2 @ x  # Vectors of A.A\n",
    "Av = A @ u_A2  # Vectors Avi\n",
    "\n",
    "fig, (ax2) = plt.subplots(1, 1, figsize=(5,10))\n",
    "\n",
    "# Plotting Ax\n",
    "ax2.plot(t[0, :], t[1, :], color='b')\n",
    "ax2.quiver(0, 0, Av[0,:][0], Av[1,:][0], color=['black'], width=0.012, angles='xy', scale_units='xy', scale=1)\n",
    "ax2.quiver(0, 0, Av[0,:][1], Av[1,:][1], color=['black'], width=0.012, angles='xy', scale_units='xy', scale=1)\n",
    "ax2.quiver(0, 0, u_A2[0,:][0], u_A2[1,:][0], color=['r'], width=0.012, angles='xy', scale_units='xy', scale=1)\n",
    "ax2.quiver(0, 0, u_A2[0,:][1], u_A2[1,:][1], color=['r'], width=0.012, angles='xy', scale_units='xy', scale=1)\n",
    "ax2.set_xlabel('x', fontsize=14)\n",
    "ax2.set_ylabel('y', fontsize=14)\n",
    "ax2.set_xlim([-4,4])\n",
    "ax2.set_ylim([-4,4])\n",
    "ax2.set_aspect('equal')\n",
    "ax2.grid(True)\n",
    "ax2.set_axisbelow(True)\n",
    "ax2.axhline(y=0, color='k')\n",
    "ax2.axvline(x=0, color='k')\n",
    "ax2.text(1.7, 2.3, \"$\\mathbf{Ax}$\", color=\"b\", fontsize=12)\n",
    "ax2.text(0.6, 0.8, \"$\\mathbf{v_1}$\", color='r', fontsize=12)\n",
    "ax2.text(-1.4, 0.5, \"$\\mathbf{v_2}$\", color='r', fontsize=12)\n",
    "ax2.text(3.1, 1.9, \"$\\mathbf{Av_1}$\", color='black', fontsize=12)\n",
    "ax2.text(-1.4, 1.7, \"$\\mathbf{Av_2}$\", color='black', fontsize=12)\n",
    "\n",
    "plt.show()"
   ]
  },
  {
   "cell_type": "markdown",
   "id": "f924f742-79d2-4c5d-9d60-777b37148e6b",
   "metadata": {},
   "source": [
    "### Сингулярное разложение"
   ]
  },
  {
   "cell_type": "code",
   "execution_count": 56,
   "id": "1ef56c7b-7ee8-4257-930e-2fd98fa70eb9",
   "metadata": {},
   "outputs": [
    {
     "name": "stdout",
     "output_type": "stream",
     "text": [
      "lam= [90.1167  0.     12.8833]\n",
      "v= [[ 0.9415  0.3228  0.0969]\n",
      " [ 0.3314 -0.9391 -0.0906]\n",
      " [-0.0617 -0.1174  0.9912]]\n"
     ]
    }
   ],
   "source": [
    "A = np.array([[4, 1, 3],\n",
    "              [8, 3, -2]])\n",
    "lam, v = LA.eig(A.T @ A)\n",
    "print(\"lam=\", np.round(lam, 4))\n",
    "print(\"v=\", np.round(v, 4))"
   ]
  },
  {
   "cell_type": "code",
   "execution_count": 57,
   "id": "db5f49b1-e4fc-4b26-8724-606b5c856ca3",
   "metadata": {},
   "outputs": [
    {
     "data": {
      "text/plain": [
       "array([[80, 28, -4],\n",
       "       [28, 10, -3],\n",
       "       [-4, -3, 13]])"
      ]
     },
     "execution_count": 57,
     "metadata": {},
     "output_type": "execute_result"
    }
   ],
   "source": [
    "A.T @ A"
   ]
  },
  {
   "cell_type": "code",
   "execution_count": 58,
   "id": "caff5608-cffa-461c-9f09-3d04c008ed27",
   "metadata": {},
   "outputs": [
    {
     "name": "stdout",
     "output_type": "stream",
     "text": [
      "Sigma= [[9.493  0.     0.    ]\n",
      " [0.     3.5893 0.    ]]\n",
      "V= [[ 0.9415  0.0969  0.3228]\n",
      " [ 0.3314 -0.0906 -0.9391]\n",
      " [-0.0617  0.9912 -0.1174]]\n"
     ]
    }
   ],
   "source": [
    "V = v[:, lam.argsort()[::-1]]\n",
    "\n",
    "lam_sorted = np.sort(lam)[::-1]\n",
    "lam_sorted = lam_sorted[lam_sorted > 1e-8]\n",
    "sigma = np.sqrt(lam_sorted)\n",
    "Sigma = np.zeros((A.shape[0], A.shape[1]))\n",
    "Sigma[:min(A.shape[0],A.shape[1]), :min(A.shape[0],A.shape[1])] = np.diag(sigma)\n",
    "\n",
    "print(\"Sigma=\", np.round(Sigma, 4))\n",
    "print(\"V=\", np.round(V, 4))"
   ]
  },
  {
   "cell_type": "code",
   "execution_count": 59,
   "id": "c7742e78-8cdb-4a88-9e0e-5705fce5a834",
   "metadata": {},
   "outputs": [
    {
     "name": "stdout",
     "output_type": "stream",
     "text": [
      "U= [[ 0.4121  0.9111]\n",
      " [ 0.9111 -0.4121]]\n"
     ]
    }
   ],
   "source": [
    "r = len(sigma)\n",
    "U = A @ V[:,:r] / sigma\n",
    "print(\"U=\", np.round(U, 4))"
   ]
  },
  {
   "cell_type": "code",
   "execution_count": 60,
   "id": "187b7151-9704-432f-b1c1-af048d2c44b7",
   "metadata": {},
   "outputs": [
    {
     "data": {
      "text/plain": [
       "array([[ 4.,  1.,  3.],\n",
       "       [ 8.,  3., -2.]])"
      ]
     },
     "execution_count": 60,
     "metadata": {},
     "output_type": "execute_result"
    }
   ],
   "source": [
    "A_reconstructed = U @ Sigma @ V.T\n",
    "A_reconstructed"
   ]
  },
  {
   "cell_type": "markdown",
   "id": "081a6d0f-c60b-4fc9-bfc8-f19013aff1d4",
   "metadata": {},
   "source": [
    "В Питоне есть встроенная функция"
   ]
  },
  {
   "cell_type": "code",
   "execution_count": 61,
   "id": "4cd3d6fd-ba0b-462b-b8bd-64aea12168d8",
   "metadata": {},
   "outputs": [
    {
     "name": "stdout",
     "output_type": "stream",
     "text": [
      "U= [[-0.4121 -0.9111]\n",
      " [-0.9111  0.4121]]\n",
      "s= [9.493  3.5893]\n",
      "V [[-0.9415 -0.0969 -0.3228]\n",
      " [-0.3314  0.0906  0.9391]\n",
      " [ 0.0617 -0.9912  0.1174]]\n"
     ]
    }
   ],
   "source": [
    "U, s, VT = LA.svd(A)\n",
    "print(\"U=\", np.round(U, 4))\n",
    "print(\"s=\", np.round(s, 4))\n",
    "print(\"V\", np.round(VT.T, 4))"
   ]
  },
  {
   "cell_type": "code",
   "execution_count": 62,
   "id": "a2381d9b-a3e3-411c-8e5d-540057252394",
   "metadata": {},
   "outputs": [
    {
     "data": {
      "text/plain": [
       "array([[ 4.,  1.,  3.],\n",
       "       [ 8.,  3., -2.]])"
      ]
     },
     "execution_count": 62,
     "metadata": {},
     "output_type": "execute_result"
    }
   ],
   "source": [
    "Sigma = np.zeros((A.shape[0], A.shape[1]))\n",
    "Sigma[:min(A.shape[0],A.shape[1]), :min(A.shape[0],A.shape[1])] = np.diag(s)\n",
    "A_reconstructed = U @ Sigma @ VT\n",
    "A_reconstructed"
   ]
  },
  {
   "cell_type": "code",
   "execution_count": null,
   "id": "fcbcaddd-67dc-4642-986a-b5f2abc54320",
   "metadata": {},
   "outputs": [],
   "source": []
  }
 ],
 "metadata": {
  "kernelspec": {
   "display_name": "Python 3 (ipykernel)",
   "language": "python",
   "name": "python3"
  },
  "language_info": {
   "codemirror_mode": {
    "name": "ipython",
    "version": 3
   },
   "file_extension": ".py",
   "mimetype": "text/x-python",
   "name": "python",
   "nbconvert_exporter": "python",
   "pygments_lexer": "ipython3",
   "version": "3.11.6"
  }
 },
 "nbformat": 4,
 "nbformat_minor": 5
}
